{
 "cells": [
  {
   "cell_type": "markdown",
   "metadata": {},
   "source": [
    "## Content\n",
    "\n",
    "- 1. [Names and Scopes in Python](#Names-and-Scopes-in-Python)\n",
    "- 2. [Python Scope vs Namespace](#Python-Scope-vs-Namespace) \n",
    "  - 2.1. [Namespace](#Namespace) \n",
    "      - a. [Argument Passing Summary](#Argument-Passing-Summary)\n",
    "- 3. [Using the LEGB Rule for Python Scope](#Using-the-LEGB-Rule-for-Python-Scope) \n",
    "  - 3.1. [Local Scope](#Local-(or-function)-scope) \n",
    "  - 3.2. [Enclosing Scope](#Nested-Functions:-The-Enclosing-Scope)\n",
    "  - 3.3. [Global Scope](#Modules:-The-Global-Scope)\n",
    "  - 3.4. [Built-in Scope](#Builtins:-The-Built-In-Scope)\n",
    "- 4. [Modifying the Behavior of a Python Scope](#Modifying-the-Behavior-of-a-Python-Scope)\n",
    "  - 4.1. [The global Statement](#The-global-Statement)\n",
    "  - 4.2. [The nonlocal Statement](#The-nonlocal-Statement)\n",
    "- 5. [Using Enclosing Scopes as Closures](#Using-Enclosing-Scopes-as-Closures)\n",
    "- 6. [Bringing Names to Scope With import](#Bringing-Names-to-Scope-With-import)\n",
    "- 7. [Discovering Unusual Python Scopes](#Discovering-Unusual-Python-Scopes)\n",
    "  - 7.1. [Comprehension Variables Scope](#Comprehension-Variables-Scope)\n",
    "  - 7.2. [Exception Variables Scope](#Exception-Variables-Scope)\n",
    "  - 7.3. [Class and Instance Attributes Scope](#Class-and-Instance-Attributes-Scope)"
   ]
  },
  {
   "cell_type": "markdown",
   "metadata": {},
   "source": [
    "Scope is the place where variable or name is searched for within a code. The Python scope concept is generally presented using a rule known as the **LEGB** (Local, Enclosing, Global, and Built-in) rule.\n",
    "\n",
    "<center><img src='https://files.realpython.com/media/t.fd7bd78bbb47.png' height=400 width=400></center>\n",
    "\n",
    "1. **Global scope**: The names that you define in this scope are available to all your code.\n",
    "\n",
    "2. **Local scope**: The names that you define in this scope are only available or visible to the code within the scope.\n",
    "\n",
    "When you can access the value of a given name from someplace in your code, you’ll say that the name is **in scope**. If you can’t access the name, then you’ll say that the name is **out of scope**."
   ]
  },
  {
   "cell_type": "markdown",
   "metadata": {},
   "source": [
    "## Names and Scopes in Python"
   ]
  },
  {
   "cell_type": "markdown",
   "metadata": {},
   "source": [
    "<div class=\"table-responsive\">\n",
    "<table class=\"table table-hover\">\n",
    "<thead>\n",
    "<tr>\n",
    "<th>Operation</th>\n",
    "<th>Statement</th>\n",
    "</tr>\n",
    "</thead>\n",
    "<tbody>\n",
    "<tr>\n",
    "<td><a href=\"https://docs.python.org/3/reference/simple_stmts.html#assignment-statements\">Assignments</a></td>\n",
    "<td><code>x = value</code></td>\n",
    "</tr>\n",
    "<tr>\n",
    "<td><a href=\"https://realpython.com/courses/python-imports-101/\">Import operations</a></td>\n",
    "<td><code>import module</code> or <code>from module import name</code></td>\n",
    "</tr>\n",
    "<tr>\n",
    "<td>Function definitions</td>\n",
    "<td><code>def my_func(): ...</code></td>\n",
    "</tr>\n",
    "<tr>\n",
    "<td>Argument definitions in the context of functions</td>\n",
    "<td><code>def my_func(arg1, arg2,... argN): ...</code></td>\n",
    "</tr>\n",
    "<tr>\n",
    "<td>Class definitions</td>\n",
    "<td><code>class MyClass: ...</code></td>\n",
    "</tr>\n",
    "</tbody>\n",
    "</table>\n",
    "</div>"
   ]
  },
  {
   "cell_type": "markdown",
   "metadata": {},
   "source": [
    "Python uses the location of the name assignment or definition to associate it with a particular scope. In other words, where you assign or define a name in your code determines the scope or visibility of that name."
   ]
  },
  {
   "cell_type": "markdown",
   "metadata": {},
   "source": [
    "## Python Scope vs Namespace"
   ]
  },
  {
   "cell_type": "markdown",
   "metadata": {},
   "source": [
    "### **Namespace**\n",
    "  A namespace is a collection of currently defined symbolic names along with information about the object that each name references. You can think of a namespace as a dictionary in which the keys are the object names and the values are the objects themselves. Each key-value pair maps a name to its corresponding object."
   ]
  },
  {
   "cell_type": "markdown",
   "metadata": {},
   "source": [
    "#### Argument Passing Summary\n",
    "\n",
    "Passing an **immutable object**, like an int, str, tuple, or frozenset, to a Python function acts like **pass-by-value**. The function can’t modify the object in the calling environment.\n",
    "\n",
    "Passing a **mutable object** such as a list, dict, or set acts somewhat—but `not exactly—like` **pass-by-reference**. The function can’t reassign the object wholesale, but it can change items in place within the object, and these changes will be reflected in the calling environment."
   ]
  },
  {
   "cell_type": "code",
   "execution_count": 1,
   "metadata": {},
   "outputs": [
    {
     "name": "stdout",
     "output_type": "stream",
     "text": [
      "{'foo': 1, 'bar': 22, 'baz': 3}\n"
     ]
    },
    {
     "data": {
      "text/plain": [
       "2"
      ]
     },
     "execution_count": 1,
     "metadata": {},
     "output_type": "execute_result"
    }
   ],
   "source": [
    "#modifies the mutuable object but don't reassign them\n",
    "\n",
    "my_dict = {'foo': 1, 'bar': 2, 'baz': 3}\n",
    "\n",
    "def f(x):\n",
    "    x['bar'] = 22\n",
    "\n",
    "\n",
    "f(my_dict)\n",
    "print(my_dict)\n",
    "\n",
    "###########################################################################\n",
    "\n",
    "# don't even modifies the immutable objects\n",
    "a = 2\n",
    "def f(a):\n",
    "    a = 4  #this is a new object in local scope\n",
    "\n",
    "f(a)\n",
    "a"
   ]
  },
  {
   "cell_type": "markdown",
   "metadata": {},
   "source": [
    "Whenever you use a name, such as a variable or a function name, Python searches through different scope levels (or namespaces) to determine whether the name exists or not. If the name exists, then you’ll always get the first occurrence of it. Otherwise, you’ll get an error."
   ]
  },
  {
   "cell_type": "markdown",
   "metadata": {},
   "source": [
    "## Using the LEGB Rule for Python Scope"
   ]
  },
  {
   "cell_type": "markdown",
   "metadata": {},
   "source": [
    "### Local (or function) scope\n",
    "\n",
    "The local scope or function scope is a Python scope created at function calls. Every time you call a function, you’re also creating a new local scope."
   ]
  },
  {
   "cell_type": "code",
   "execution_count": 2,
   "metadata": {},
   "outputs": [
    {
     "ename": "NameError",
     "evalue": "name 'result' is not defined",
     "output_type": "error",
     "traceback": [
      "\u001b[0;31m---------------------------------------------------------------------------\u001b[0m",
      "\u001b[0;31mNameError\u001b[0m                                 Traceback (most recent call last)",
      "\u001b[1;32m/home/shailja/Courses/Notes/Python/notes/Scope_and_Namespace.ipynb Cell 13\u001b[0m in \u001b[0;36m<cell line: 6>\u001b[0;34m()\u001b[0m\n\u001b[1;32m      <a href='vscode-notebook-cell:/home/shailja/Courses/Notes/Python/notes/Scope_and_Namespace.ipynb#X25sZmlsZQ%3D%3D?line=2'>3</a>\u001b[0m  \u001b[39mprint\u001b[39m(\u001b[39mf\u001b[39m\u001b[39m'\u001b[39m\u001b[39mThe square of \u001b[39m\u001b[39m{\u001b[39;00mbase\u001b[39m}\u001b[39;00m\u001b[39m is: \u001b[39m\u001b[39m{\u001b[39;00mresult\u001b[39m}\u001b[39;00m\u001b[39m'\u001b[39m)\n\u001b[1;32m      <a href='vscode-notebook-cell:/home/shailja/Courses/Notes/Python/notes/Scope_and_Namespace.ipynb#X25sZmlsZQ%3D%3D?line=3'>4</a>\u001b[0m  square(\u001b[39m10\u001b[39m)\n\u001b[0;32m----> <a href='vscode-notebook-cell:/home/shailja/Courses/Notes/Python/notes/Scope_and_Namespace.ipynb#X25sZmlsZQ%3D%3D?line=5'>6</a>\u001b[0m result\n",
      "\u001b[0;31mNameError\u001b[0m: name 'result' is not defined"
     ]
    }
   ],
   "source": [
    "def square(base):\n",
    " result = base ** 2\n",
    " print(f'The square of {base} is: {result}')\n",
    " square(10)\n",
    "\n",
    "result   # not accessible outside the function"
   ]
  },
  {
   "cell_type": "markdown",
   "metadata": {},
   "source": [
    "Python creates a local scope containing the names base (an argument) and result (a local variable)"
   ]
  },
  {
   "cell_type": "markdown",
   "metadata": {},
   "source": [
    "You can inspect the names and parameters of a function using .__code__, which is an attribute that holds information on the function’s internal code."
   ]
  },
  {
   "cell_type": "code",
   "execution_count": 3,
   "metadata": {},
   "outputs": [
    {
     "data": {
      "text/plain": [
       "('base', 'result')"
      ]
     },
     "execution_count": 3,
     "metadata": {},
     "output_type": "execute_result"
    }
   ],
   "source": [
    "square.__code__.co_varnames"
   ]
  },
  {
   "cell_type": "markdown",
   "metadata": {},
   "source": [
    "### Nested Functions: The Enclosing Scope"
   ]
  },
  {
   "cell_type": "code",
   "execution_count": 4,
   "metadata": {},
   "outputs": [
    {
     "name": "stdout",
     "output_type": "stream",
     "text": [
      "Printing var from inner_func(): 100\n",
      "Printing var from outer_func(): 100\n"
     ]
    },
    {
     "ename": "NameError",
     "evalue": "name 'inner_func' is not defined",
     "output_type": "error",
     "traceback": [
      "\u001b[0;31m---------------------------------------------------------------------------\u001b[0m",
      "\u001b[0;31mNameError\u001b[0m                                 Traceback (most recent call last)",
      "\u001b[1;32m/home/shailja/Courses/Notes/Python/notes/Scope_and_Namespace.ipynb Cell 18\u001b[0m in \u001b[0;36m<cell line: 13>\u001b[0;34m()\u001b[0m\n\u001b[1;32m      <a href='vscode-notebook-cell:/home/shailja/Courses/Notes/Python/notes/Scope_and_Namespace.ipynb#X36sZmlsZQ%3D%3D?line=8'>9</a>\u001b[0m   \u001b[39mprint\u001b[39m(\u001b[39mf\u001b[39m\u001b[39m\"\u001b[39m\u001b[39mPrinting var from outer_func(): \u001b[39m\u001b[39m{\u001b[39;00mvar\u001b[39m}\u001b[39;00m\u001b[39m\"\u001b[39m)\n\u001b[1;32m     <a href='vscode-notebook-cell:/home/shailja/Courses/Notes/Python/notes/Scope_and_Namespace.ipynb#X36sZmlsZQ%3D%3D?line=10'>11</a>\u001b[0m outer_func()\n\u001b[0;32m---> <a href='vscode-notebook-cell:/home/shailja/Courses/Notes/Python/notes/Scope_and_Namespace.ipynb#X36sZmlsZQ%3D%3D?line=12'>13</a>\u001b[0m inner_func()\n",
      "\u001b[0;31mNameError\u001b[0m: name 'inner_func' is not defined"
     ]
    }
   ],
   "source": [
    "def outer_func():\n",
    "  # This block is the Local scope of outer_func()\n",
    "  var = 100  # A nonlocal var\n",
    "  # It's also the enclosing scope of inner_func()\n",
    "  def inner_func():\n",
    "      # This block is the Local scope of inner_func()\n",
    "      print(f\"Printing var from inner_func(): {var}\")\n",
    "  inner_func()\n",
    "  print(f\"Printing var from outer_func(): {var}\")\n",
    "\n",
    "outer_func()\n",
    "\n",
    "inner_func()"
   ]
  },
  {
   "cell_type": "markdown",
   "metadata": {},
   "source": [
    "### Modules: The Global Scope\n",
    "\n",
    "Internally, Python turns your program’s main script into a module called __main__ to hold the main program’s execution. The namespace of this module is the main global scope of your program.\n",
    "\n",
    "You can access or reference the value of any global name from any place in your code. This includes functions and classes. Here’s an example that clarifies these points:"
   ]
  },
  {
   "cell_type": "code",
   "execution_count": 5,
   "metadata": {},
   "outputs": [
    {
     "name": "stdout",
     "output_type": "stream",
     "text": [
      "100\n"
     ]
    },
    {
     "data": {
      "text/plain": [
       "100"
      ]
     },
     "execution_count": 5,
     "metadata": {},
     "output_type": "execute_result"
    }
   ],
   "source": [
    "var = 100\n",
    "def func():\n",
    "    print(var)  # You can access var from inside func()\n",
    "func()\n",
    "\n",
    "var  # Remains unchanged"
   ]
  },
  {
   "cell_type": "markdown",
   "metadata": {},
   "source": [
    "### Builtins: The Built-In Scope\n",
    "\n",
    "All of Python’s built-in objects live in this module. They’re automatically loaded to the built-in scope when you run the Python interpreter.\n",
    "\n",
    "- Notice that the names in builtins are always loaded into your global "
   ]
  },
  {
   "cell_type": "code",
   "execution_count": 6,
   "metadata": {},
   "outputs": [
    {
     "name": "stdout",
     "output_type": "stream",
     "text": [
      "158\n"
     ]
    },
    {
     "data": {
      "text/plain": [
       "['super', 'tuple', 'type', 'vars', 'zip']"
      ]
     },
     "execution_count": 6,
     "metadata": {},
     "output_type": "execute_result"
    }
   ],
   "source": [
    "print(len(dir(__builtins__)))\n",
    "dir(__builtins__)[-5:]"
   ]
  },
  {
   "cell_type": "markdown",
   "metadata": {},
   "source": [
    "- Quick Summary\n",
    "\n",
    "<div class=\"table-responsive\">\n",
    "<table class=\"table table-hover\">\n",
    "<thead>\n",
    "<tr>\n",
    "<th>Action</th>\n",
    "<th class=\"text-center\">Global Code</th>\n",
    "<th class=\"text-center\">Local Code</th>\n",
    "<th class=\"text-center\">Nested Function Code</th>\n",
    "</tr>\n",
    "</thead>\n",
    "<tbody>\n",
    "<tr>\n",
    "<td>Access or reference names that live in the global scope</td>\n",
    "<td class=\"text-center\">Yes</td>\n",
    "<td class=\"text-center\">Yes</td>\n",
    "<td class=\"text-center\">Yes</td>\n",
    "</tr>\n",
    "<tr>\n",
    "<td>Modify or update names that live in the global scope</td>\n",
    "<td class=\"text-center\">Yes</td>\n",
    "<td class=\"text-center\">No (unless declared <code>global</code>)</td>\n",
    "<td class=\"text-center\">No (unless declared <code>global</code>)</td>\n",
    "</tr>\n",
    "<tr>\n",
    "<td>Access or reference names that live in a local scope</td>\n",
    "<td class=\"text-center\">No</td>\n",
    "<td class=\"text-center\">Yes (its own local scope), No (other local scope)</td>\n",
    "<td class=\"text-center\">Yes (its own local scope), No (other local scope)</td>\n",
    "</tr>\n",
    "<tr>\n",
    "<td>Override names in the built-in scope</td>\n",
    "<td class=\"text-center\">Yes</td>\n",
    "<td class=\"text-center\">Yes (during function execution)</td>\n",
    "<td class=\"text-center\">Yes (during function execution)</td>\n",
    "</tr>\n",
    "<tr>\n",
    "<td>Access or reference names that live in their enclosing scope</td>\n",
    "<td class=\"text-center\">N/A</td>\n",
    "<td class=\"text-center\">N/A</td>\n",
    "<td class=\"text-center\">Yes</td>\n",
    "</tr>\n",
    "<tr>\n",
    "<td>Modify or update names that live in their enclosing scope</td>\n",
    "<td class=\"text-center\">N/A</td>\n",
    "<td class=\"text-center\">N/A</td>\n",
    "<td class=\"text-center\">No (unless declared <code>nonlocal</code>)</td>\n",
    "</tr>\n",
    "</tbody>\n",
    "</tabl\n",
    "e>\n",
    "</div>"
   ]
  },
  {
   "cell_type": "markdown",
   "metadata": {},
   "source": [
    "## Modifying the Behavior of a Python Scope"
   ]
  },
  {
   "cell_type": "markdown",
   "metadata": {},
   "source": [
    "Even though Python scopes follow these general rules by default, there are ways to modify this standard behavior. Python provides two keywords that allow you to modify the content of global and nonlocal names. These two keywords are:\n",
    "\n",
    "- global\n",
    "- nonlocal\n"
   ]
  },
  {
   "cell_type": "markdown",
   "metadata": {},
   "source": [
    "### The global Statement"
   ]
  },
  {
   "cell_type": "code",
   "execution_count": 7,
   "metadata": {},
   "outputs": [
    {
     "ename": "UnboundLocalError",
     "evalue": "local variable 'counter' referenced before assignment",
     "output_type": "error",
     "traceback": [
      "\u001b[0;31m---------------------------------------------------------------------------\u001b[0m",
      "\u001b[0;31mUnboundLocalError\u001b[0m                         Traceback (most recent call last)",
      "\u001b[1;32m/home/shailja/Courses/Notes/Python/notes/Scope_and_Namespace.ipynb Cell 27\u001b[0m in \u001b[0;36m<cell line: 4>\u001b[0;34m()\u001b[0m\n\u001b[1;32m      <a href='vscode-notebook-cell:/home/shailja/Courses/Notes/Python/notes/Scope_and_Namespace.ipynb#X51sZmlsZQ%3D%3D?line=1'>2</a>\u001b[0m \u001b[39mdef\u001b[39;00m \u001b[39mupdate_counter\u001b[39m():\n\u001b[1;32m      <a href='vscode-notebook-cell:/home/shailja/Courses/Notes/Python/notes/Scope_and_Namespace.ipynb#X51sZmlsZQ%3D%3D?line=2'>3</a>\u001b[0m     counter \u001b[39m=\u001b[39m counter \u001b[39m+\u001b[39m \u001b[39m1\u001b[39m  \u001b[39m# Fail trying to update counter\u001b[39;00m\n\u001b[0;32m----> <a href='vscode-notebook-cell:/home/shailja/Courses/Notes/Python/notes/Scope_and_Namespace.ipynb#X51sZmlsZQ%3D%3D?line=3'>4</a>\u001b[0m update_counter()\n",
      "\u001b[1;32m/home/shailja/Courses/Notes/Python/notes/Scope_and_Namespace.ipynb Cell 27\u001b[0m in \u001b[0;36mupdate_counter\u001b[0;34m()\u001b[0m\n\u001b[1;32m      <a href='vscode-notebook-cell:/home/shailja/Courses/Notes/Python/notes/Scope_and_Namespace.ipynb#X51sZmlsZQ%3D%3D?line=1'>2</a>\u001b[0m \u001b[39mdef\u001b[39;00m \u001b[39mupdate_counter\u001b[39m():\n\u001b[0;32m----> <a href='vscode-notebook-cell:/home/shailja/Courses/Notes/Python/notes/Scope_and_Namespace.ipynb#X51sZmlsZQ%3D%3D?line=2'>3</a>\u001b[0m     counter \u001b[39m=\u001b[39m counter \u001b[39m+\u001b[39m \u001b[39m1\u001b[39m\n",
      "\u001b[0;31mUnboundLocalError\u001b[0m: local variable 'counter' referenced before assignment"
     ]
    }
   ],
   "source": [
    "counter = 0  # A global name\n",
    "def update_counter():\n",
    "    counter = counter + 1  # Fail trying to update counter\n",
    "update_counter()"
   ]
  },
  {
   "cell_type": "code",
   "execution_count": 8,
   "metadata": {},
   "outputs": [
    {
     "name": "stdout",
     "output_type": "stream",
     "text": [
      "1\n",
      "2\n",
      "3\n"
     ]
    }
   ],
   "source": [
    "counter = 0  # A global name\n",
    "def update_counter():\n",
    "    global counter  # Declare counter as global\n",
    "    counter = counter + 1  # Successfully update the counter\n",
    "update_counter()\n",
    "print(counter)\n",
    "\n",
    "update_counter()\n",
    "print(counter)\n",
    "\n",
    "update_counter()\n",
    "print(counter)"
   ]
  },
  {
   "cell_type": "markdown",
   "metadata": {},
   "source": [
    "**Note:** if a variable doesn't exists in a global scope and still we are calling a global variable in local scope then it will create a new variable in global scope."
   ]
  },
  {
   "cell_type": "code",
   "execution_count": 9,
   "metadata": {},
   "outputs": [
    {
     "data": {
      "text/plain": [
       "10"
      ]
     },
     "execution_count": 9,
     "metadata": {},
     "output_type": "execute_result"
    }
   ],
   "source": [
    "def name():\n",
    "    global var  # create a global variable as it doesn't exists\n",
    "    var=10\n",
    "\n",
    "name()\n",
    "var"
   ]
  },
  {
   "cell_type": "markdown",
   "metadata": {},
   "source": [
    "### The nonlocal Statement"
   ]
  },
  {
   "cell_type": "code",
   "execution_count": 10,
   "metadata": {},
   "outputs": [
    {
     "name": "stdout",
     "output_type": "stream",
     "text": [
      "200\n"
     ]
    }
   ],
   "source": [
    "def func():\n",
    "  var = 100  # A nonlocal variable\n",
    "  def nested():\n",
    "      nonlocal var  # Declare var as nonlocal\n",
    "      var += 100\n",
    "  nested()\n",
    "  print(var)\n",
    "\n",
    "func()"
   ]
  },
  {
   "cell_type": "markdown",
   "metadata": {},
   "source": [
    "## Using Enclosing Scopes as Closures"
   ]
  },
  {
   "cell_type": "markdown",
   "metadata": {},
   "source": [
    "**Closures** are a special use case of the enclosing Python scope. When you handle a nested function as data, the statements that make up that function are packaged together with the environment in which they execute. The resulting object is known as a closure. In other words, a closure is an inner or nested function that carries information about its enclosing scope, even though this scope has completed its execution."
   ]
  },
  {
   "cell_type": "code",
   "execution_count": 11,
   "metadata": {},
   "outputs": [
    {
     "name": "stdout",
     "output_type": "stream",
     "text": [
      "100\n",
      "1000\n",
      "1000\n",
      "225\n"
     ]
    }
   ],
   "source": [
    "def power_factory(exp):\n",
    "  def power(base):\n",
    "      return base ** exp\n",
    "  return power\n",
    "\n",
    "square = power_factory(2)\n",
    "print(square(10))\n",
    "\n",
    "cube = power_factory(3)\n",
    "print(cube(10))\n",
    "\n",
    "print(cube(10))\n",
    "\n",
    "print(square(15))\n"
   ]
  },
  {
   "cell_type": "markdown",
   "metadata": {},
   "source": [
    "## Bringing Names to Scope With import"
   ]
  },
  {
   "cell_type": "markdown",
   "metadata": {},
   "source": [
    "When you write a Python program, you typically organize the code into several modules. For your program to work, you’ll need to bring the names in those separate modules to your __main__ module. To do that, you need to import the modules or the names explicitly. This is the only way you can use those names in your main global Python scope."
   ]
  },
  {
   "cell_type": "code",
   "execution_count": 12,
   "metadata": {},
   "outputs": [
    {
     "name": "stdout",
     "output_type": "stream",
     "text": [
      "['my_dict', 'name', 'os', 'outer_func', 'power_factory', 'quit', 'square', 'sys', 'update_counter', 'var']\n",
      "['name', 'os', 'outer_func', 'partial', 'power_factory', 'quit', 'square', 'sys', 'update_counter', 'var']\n"
     ]
    }
   ],
   "source": [
    "print(dir()[-10:])\n",
    "\n",
    "\n",
    "from functools import partial\n",
    "print(dir()[-10:])"
   ]
  },
  {
   "cell_type": "markdown",
   "metadata": {},
   "source": [
    "## Discovering Unusual Python Scopes"
   ]
  },
  {
   "cell_type": "markdown",
   "metadata": {},
   "source": [
    "You’ll find some Python structures where name resolution seems not to fit into the LEGB rule for Python scopes. These structures include:\n",
    "\n",
    "-  Comprehensions\n",
    "-  Exception blocks\n",
    "-  Classes and instances"
   ]
  },
  {
   "cell_type": "markdown",
   "metadata": {},
   "source": [
    "### Comprehension Variables Scope"
   ]
  },
  {
   "cell_type": "markdown",
   "metadata": {},
   "source": [
    "A comprehension is a compact way to process all or part of the elements in a collection or sequence. You can use comprehensions to create lists, dictionaries, and sets."
   ]
  },
  {
   "cell_type": "code",
   "execution_count": 13,
   "metadata": {},
   "outputs": [
    {
     "ename": "NameError",
     "evalue": "name 'item' is not defined",
     "output_type": "error",
     "traceback": [
      "\u001b[0;31m---------------------------------------------------------------------------\u001b[0m",
      "\u001b[0;31mNameError\u001b[0m                                 Traceback (most recent call last)",
      "\u001b[1;32m/home/shailja/Courses/Notes/Python/notes/Scope_and_Namespace.ipynb Cell 43\u001b[0m in \u001b[0;36m<cell line: 3>\u001b[0;34m()\u001b[0m\n\u001b[1;32m      <a href='vscode-notebook-cell:/home/shailja/Courses/Notes/Python/notes/Scope_and_Namespace.ipynb#Y105sZmlsZQ%3D%3D?line=0'>1</a>\u001b[0m [item \u001b[39mfor\u001b[39;00m item \u001b[39min\u001b[39;00m \u001b[39mrange\u001b[39m(\u001b[39m5\u001b[39m)]\n\u001b[1;32m      <a href='vscode-notebook-cell:/home/shailja/Courses/Notes/Python/notes/Scope_and_Namespace.ipynb#Y105sZmlsZQ%3D%3D?line=1'>2</a>\u001b[0m [\u001b[39m0\u001b[39m, \u001b[39m1\u001b[39m, \u001b[39m2\u001b[39m, \u001b[39m3\u001b[39m, \u001b[39m4\u001b[39m]\n\u001b[0;32m----> <a href='vscode-notebook-cell:/home/shailja/Courses/Notes/Python/notes/Scope_and_Namespace.ipynb#Y105sZmlsZQ%3D%3D?line=2'>3</a>\u001b[0m item\n",
      "\u001b[0;31mNameError\u001b[0m: name 'item' is not defined"
     ]
    }
   ],
   "source": [
    "[item for item in range(5)]\n",
    "[0, 1, 2, 3, 4]\n",
    "item  # Try to access the comprehension variable"
   ]
  },
  {
   "cell_type": "markdown",
   "metadata": {},
   "source": [
    "Once you run the list comprehension, the variable item is forgotten and you can’t access its value anymore. "
   ]
  },
  {
   "cell_type": "markdown",
   "metadata": {},
   "source": [
    "### Exception Variables Scope"
   ]
  },
  {
   "cell_type": "markdown",
   "metadata": {},
   "source": [
    "The exception variable is a variable that holds a reference to the exception raised by a try statement.  In Python 3.x, such variables are local to the except block and are forgotten when the block ends"
   ]
  },
  {
   "cell_type": "code",
   "execution_count": 14,
   "metadata": {},
   "outputs": [
    {
     "name": "stdout",
     "output_type": "stream",
     "text": [
      "list index out of range\n"
     ]
    },
    {
     "ename": "NameError",
     "evalue": "name 'err' is not defined",
     "output_type": "error",
     "traceback": [
      "\u001b[0;31m---------------------------------------------------------------------------\u001b[0m",
      "\u001b[0;31mNameError\u001b[0m                                 Traceback (most recent call last)",
      "\u001b[1;32m/home/shailja/Courses/Notes/Python/notes/Scope_and_Namespace.ipynb Cell 47\u001b[0m in \u001b[0;36m<cell line: 9>\u001b[0;34m()\u001b[0m\n\u001b[1;32m      <a href='vscode-notebook-cell:/home/shailja/Courses/Notes/Python/notes/Scope_and_Namespace.ipynb#Y113sZmlsZQ%3D%3D?line=3'>4</a>\u001b[0m \u001b[39mexcept\u001b[39;00m \u001b[39mIndexError\u001b[39;00m \u001b[39mas\u001b[39;00m err:\n\u001b[1;32m      <a href='vscode-notebook-cell:/home/shailja/Courses/Notes/Python/notes/Scope_and_Namespace.ipynb#Y113sZmlsZQ%3D%3D?line=4'>5</a>\u001b[0m    \u001b[39m# The variable err is local to this block\u001b[39;00m\n\u001b[1;32m      <a href='vscode-notebook-cell:/home/shailja/Courses/Notes/Python/notes/Scope_and_Namespace.ipynb#Y113sZmlsZQ%3D%3D?line=5'>6</a>\u001b[0m    \u001b[39m# Here you can do anything with err\u001b[39;00m\n\u001b[1;32m      <a href='vscode-notebook-cell:/home/shailja/Courses/Notes/Python/notes/Scope_and_Namespace.ipynb#Y113sZmlsZQ%3D%3D?line=6'>7</a>\u001b[0m    \u001b[39mprint\u001b[39m(err)\n\u001b[0;32m----> <a href='vscode-notebook-cell:/home/shailja/Courses/Notes/Python/notes/Scope_and_Namespace.ipynb#Y113sZmlsZQ%3D%3D?line=8'>9</a>\u001b[0m err\n",
      "\u001b[0;31mNameError\u001b[0m: name 'err' is not defined"
     ]
    }
   ],
   "source": [
    "lst = [1, 2, 3]\n",
    "try:\n",
    "   lst[4]\n",
    "except IndexError as err:\n",
    "   # The variable err is local to this block\n",
    "   # Here you can do anything with err\n",
    "   print(err)\n",
    "\n",
    "err "
   ]
  },
  {
   "cell_type": "markdown",
   "metadata": {},
   "source": [
    "err holds a reference to the exception raised by the try clause. You can use err only inside the code block of the except clause. This way, you can say that the Python scope for the exception variable is local to the except code block. Also note that if you try to access err from outside the except block, then you’ll get a NameError. That’s because once the except block finishes, the name doesn’t exist anymore.\n",
    "\n",
    "To work around this behavior, you can define an auxiliary variable out of the try statement and then assign the exception to that variable inside the except block."
   ]
  },
  {
   "cell_type": "code",
   "execution_count": 15,
   "metadata": {},
   "outputs": [
    {
     "name": "stdout",
     "output_type": "stream",
     "text": [
      "list index out of range\n"
     ]
    },
    {
     "ename": "NameError",
     "evalue": "name 'err' is not defined",
     "output_type": "error",
     "traceback": [
      "\u001b[0;31m---------------------------------------------------------------------------\u001b[0m",
      "\u001b[0;31mNameError\u001b[0m                                 Traceback (most recent call last)",
      "\u001b[1;32m/home/shailja/Courses/Notes/Python/notes/Scope_and_Namespace.ipynb Cell 49\u001b[0m in \u001b[0;36m<cell line: 9>\u001b[0;34m()\u001b[0m\n\u001b[1;32m      <a href='vscode-notebook-cell:/home/shailja/Courses/Notes/Python/notes/Scope_and_Namespace.ipynb#Y120sZmlsZQ%3D%3D?line=5'>6</a>\u001b[0m    ex \u001b[39m=\u001b[39m err\n\u001b[1;32m      <a href='vscode-notebook-cell:/home/shailja/Courses/Notes/Python/notes/Scope_and_Namespace.ipynb#Y120sZmlsZQ%3D%3D?line=6'>7</a>\u001b[0m    \u001b[39mprint\u001b[39m(err)\n\u001b[0;32m----> <a href='vscode-notebook-cell:/home/shailja/Courses/Notes/Python/notes/Scope_and_Namespace.ipynb#Y120sZmlsZQ%3D%3D?line=8'>9</a>\u001b[0m err\n",
      "\u001b[0;31mNameError\u001b[0m: name 'err' is not defined"
     ]
    }
   ],
   "source": [
    "lst = [1, 2, 3]\n",
    "ex = None\n",
    "try:\n",
    "   lst[4]\n",
    "except IndexError as err:\n",
    "   ex = err\n",
    "   print(err)\n",
    "\n",
    "err  # Is out of scope"
   ]
  },
  {
   "cell_type": "code",
   "execution_count": 16,
   "metadata": {},
   "outputs": [
    {
     "data": {
      "text/plain": [
       "IndexError('list index out of range')"
      ]
     },
     "execution_count": 16,
     "metadata": {},
     "output_type": "execute_result"
    }
   ],
   "source": [
    "ex  # Holds a reference to the exception"
   ]
  },
  {
   "cell_type": "markdown",
   "metadata": {},
   "source": [
    "### Class and Instance Attributes Scope"
   ]
  },
  {
   "cell_type": "markdown",
   "metadata": {},
   "source": [
    "Unlike functions, the class local scope isn’t created at call time, but at execution time. Each class object has its own ._\\_dict__ attribute that holds the class scope or namespace where all the class attributes live. "
   ]
  },
  {
   "cell_type": "code",
   "execution_count": 17,
   "metadata": {},
   "outputs": [
    {
     "data": {
      "text/plain": [
       "dict_keys(['__module__', 'attr', '__dict__', '__weakref__', '__doc__'])"
      ]
     },
     "execution_count": 17,
     "metadata": {},
     "output_type": "execute_result"
    }
   ],
   "source": [
    "class A:\n",
    "   attr = 100\n",
    "\n",
    "A.__dict__.keys()"
   ]
  },
  {
   "cell_type": "markdown",
   "metadata": {},
   "source": [
    "This dictionary represents the class local scope. The names in this scope are visible to all instances of the class and to the class itself.\n",
    "\n",
    "To get access to a class attribute from outside the class, you need to use the dot notation."
   ]
  },
  {
   "cell_type": "code",
   "execution_count": 18,
   "metadata": {},
   "outputs": [
    {
     "data": {
      "text/plain": [
       "100"
      ]
     },
     "execution_count": 18,
     "metadata": {},
     "output_type": "execute_result"
    }
   ],
   "source": [
    "A.attr"
   ]
  },
  {
   "cell_type": "markdown",
   "metadata": {},
   "source": [
    "if you try to access an attribute that isn’t defined inside a class, then you’ll get an AttributeError. "
   ]
  },
  {
   "cell_type": "code",
   "execution_count": 19,
   "metadata": {},
   "outputs": [
    {
     "ename": "AttributeError",
     "evalue": "type object 'A' has no attribute 'not_defined'",
     "output_type": "error",
     "traceback": [
      "\u001b[0;31m---------------------------------------------------------------------------\u001b[0m",
      "\u001b[0;31mAttributeError\u001b[0m                            Traceback (most recent call last)",
      "\u001b[1;32m/home/shailja/Courses/Notes/Python/notes/Scope_and_Namespace.ipynb Cell 57\u001b[0m in \u001b[0;36m<cell line: 1>\u001b[0;34m()\u001b[0m\n\u001b[0;32m----> <a href='vscode-notebook-cell:/home/shailja/Courses/Notes/Python/notes/Scope_and_Namespace.ipynb#Y131sZmlsZQ%3D%3D?line=0'>1</a>\u001b[0m A\u001b[39m.\u001b[39;49mnot_defined\n",
      "\u001b[0;31mAttributeError\u001b[0m: type object 'A' has no attribute 'not_defined'"
     ]
    }
   ],
   "source": [
    "A.not_defined"
   ]
  },
  {
   "cell_type": "markdown",
   "metadata": {},
   "source": [
    "You can also access any class attribute using an instance of the class ."
   ]
  },
  {
   "cell_type": "code",
   "execution_count": 20,
   "metadata": {},
   "outputs": [
    {
     "data": {
      "text/plain": [
       "100"
      ]
     },
     "execution_count": 20,
     "metadata": {},
     "output_type": "execute_result"
    }
   ],
   "source": [
    "obj = A()\n",
    "obj.attr"
   ]
  },
  {
   "cell_type": "markdown",
   "metadata": {},
   "source": [
    "**Note:-** Whenever you call a class, you’re creating a new instance of that class. Instances have their own ._\\_dict__ attribute that holds the names in the instance local scope or namespace. These names are commonly called instance attributes and are local and specific to each instance. This means that if you modify an instance attribute, then the changes will be visible only to that specific instance."
   ]
  },
  {
   "cell_type": "markdown",
   "metadata": {},
   "source": [
    "To create, update, or access any instance attribute from inside the class, you need to use self along with the dot notation. Here, self is a special attribute that represents the current instance. On the other hand, to update or access any instance attribute from outside the class, you need to create an instance and then use the dot notation. "
   ]
  },
  {
   "cell_type": "code",
   "execution_count": 21,
   "metadata": {},
   "outputs": [
    {
     "name": "stdout",
     "output_type": "stream",
     "text": [
      "{'var': 200}\n"
     ]
    },
    {
     "data": {
      "text/plain": [
       "200"
      ]
     },
     "execution_count": 21,
     "metadata": {},
     "output_type": "execute_result"
    }
   ],
   "source": [
    "class A:\n",
    "   def __init__(self, var):\n",
    "       self.var = var  # Create a new instance attribute\n",
    "       self.var *= 2  # Update the instance attribute\n",
    "\n",
    "obj = A(100)\n",
    "print(obj.__dict__)\n",
    "obj.var"
   ]
  },
  {
   "cell_type": "markdown",
   "metadata": {},
   "source": [
    "The class A takes an argument called var, which is automatically doubled inside .__init__() using the assignment operation self.var *= 2. Note that when you inspect .__dict__ on obj, you get a dictionary containing all instance attributes. In this case, the dictionary contains only the name var, whose value is now 200."
   ]
  },
  {
   "cell_type": "markdown",
   "metadata": {},
   "source": [
    "Even though you can create instance attributes within any method in a class, it’s good practice to create and initialize them inside ._\\_init__()."
   ]
  },
  {
   "cell_type": "code",
   "execution_count": 22,
   "metadata": {},
   "outputs": [
    {
     "name": "stdout",
     "output_type": "stream",
     "text": [
      "100\n",
      "200\n"
     ]
    },
    {
     "ename": "AttributeError",
     "evalue": "type object 'A' has no attribute 'var'",
     "output_type": "error",
     "traceback": [
      "\u001b[0;31m---------------------------------------------------------------------------\u001b[0m",
      "\u001b[0;31mAttributeError\u001b[0m                            Traceback (most recent call last)",
      "\u001b[1;32m/home/shailja/Courses/Notes/Python/notes/Scope_and_Namespace.ipynb Cell 65\u001b[0m in \u001b[0;36m<cell line: 10>\u001b[0;34m()\u001b[0m\n\u001b[1;32m      <a href='vscode-notebook-cell:/home/shailja/Courses/Notes/Python/notes/Scope_and_Namespace.ipynb#Y143sZmlsZQ%3D%3D?line=7'>8</a>\u001b[0m \u001b[39mprint\u001b[39m(obj\u001b[39m.\u001b[39mvar)\n\u001b[1;32m      <a href='vscode-notebook-cell:/home/shailja/Courses/Notes/Python/notes/Scope_and_Namespace.ipynb#Y143sZmlsZQ%3D%3D?line=8'>9</a>\u001b[0m \u001b[39mprint\u001b[39m(obj\u001b[39m.\u001b[39mduplicate_var())\n\u001b[0;32m---> <a href='vscode-notebook-cell:/home/shailja/Courses/Notes/Python/notes/Scope_and_Namespace.ipynb#Y143sZmlsZQ%3D%3D?line=9'>10</a>\u001b[0m A\u001b[39m.\u001b[39;49mvar\n",
      "\u001b[0;31mAttributeError\u001b[0m: type object 'A' has no attribute 'var'"
     ]
    }
   ],
   "source": [
    "class A:\n",
    "     def __init__(self, var):\n",
    "         self.var = var\n",
    "\n",
    "     def duplicate_var(self):\n",
    "         return self.var * 2\n",
    "obj = A(100)\n",
    "print(obj.var)\n",
    "print(obj.duplicate_var())\n",
    "A.var"
   ]
  },
  {
   "cell_type": "markdown",
   "metadata": {},
   "source": [
    "In general, when you’re writing object-oriented code in Python and you try to access an attribute, your program takes the following steps:\n",
    "\n",
    "1. Check the instance local scope or namespace first.\n",
    "2. If the attribute is not found there, then check the class local scope or namespace.\n",
    "3. If the name doesn’t exist in the class namespace either, then you’ll get an AttributeError."
   ]
  },
  {
   "cell_type": "markdown",
   "metadata": {},
   "source": [
    "You can override a class attribute with an instance attribute, which will modify the general behavior of your class. However, you can access both attributes unambiguously using the dot notation"
   ]
  },
  {
   "cell_type": "code",
   "execution_count": 23,
   "metadata": {},
   "outputs": [
    {
     "name": "stdout",
     "output_type": "stream",
     "text": [
      "The instance attribute is: 200\n",
      "The class attribute is: 100\n",
      "100\n",
      "200\n",
      "dict_keys(['__module__', 'var', '__init__', 'access_attr', '__dict__', '__weakref__', '__doc__'])\n"
     ]
    },
    {
     "data": {
      "text/plain": [
       "dict_keys(['var'])"
      ]
     },
     "execution_count": 23,
     "metadata": {},
     "output_type": "execute_result"
    }
   ],
   "source": [
    "class A:\n",
    "  var = 100\n",
    "  def __init__(self):\n",
    "      self.var = 200\n",
    "\n",
    "  def access_attr(self):\n",
    "      # Use dot notation to access class and instance attributes\n",
    "      print(f'The instance attribute is: {self.var}')\n",
    "      print(f'The class attribute is: {A.var}')\n",
    "\n",
    "obj = A()\n",
    "obj.access_attr()\n",
    "\n",
    "print(A.var)     # Access class attributes\n",
    "\n",
    "print(A().var)   # Access instance attributes\n",
    "\n",
    "print(A.__dict__.keys())\n",
    "A().__dict__.keys()"
   ]
  },
  {
   "cell_type": "markdown",
   "metadata": {},
   "source": [
    "The above class has an instance attribute and a class attribute with the same name var. You can use the following code to access each of them:\n",
    "\n",
    "-   Instance: Use self.var to access this attribute.\n",
    "-   Class: Use A.var to access this attribute.\n",
    "\n",
    "**Note** class attributes are available immediately after you run or import the module in which the class was defined. In contrast, instance attributes come to life only after an object or instance is created."
   ]
  }
 ],
 "metadata": {
  "kernelspec": {
   "display_name": "Python 3.10.4 ('my_env')",
   "language": "python",
   "name": "python3"
  },
  "language_info": {
   "codemirror_mode": {
    "name": "ipython",
    "version": 3
   },
   "file_extension": ".py",
   "mimetype": "text/x-python",
   "name": "python",
   "nbconvert_exporter": "python",
   "pygments_lexer": "ipython3",
   "version": "3.10.4"
  },
  "orig_nbformat": 4,
  "vscode": {
   "interpreter": {
    "hash": "333ad066d239af8659780667608f3e14a8c59d1eb92890b0405dfaef9e357b30"
   }
  }
 },
 "nbformat": 4,
 "nbformat_minor": 2
}
