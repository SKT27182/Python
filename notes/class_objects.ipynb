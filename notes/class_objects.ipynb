{
 "cells": [
  {
   "cell_type": "code",
   "execution_count": 69,
   "metadata": {},
   "outputs": [],
   "source": [
    "class Employee:\n",
    "    #classAttributes\n",
    "    noOfWorkingHours = 40\n",
    "\n",
    "    #instance methods\n",
    "\n",
    "\n",
    "    def employeedetails(self):\n",
    "        #instance attributes\n",
    "        self.gender = 'Male'\n",
    "        print('My name is', self.name, 'and I am a', self.gender)\n",
    "        age = 30  #as self is not used, it is a local variable, can't be accessed outside this method\n",
    "        print('My age is', age)\n",
    "\n",
    "    def printEmployeeDetails(self):\n",
    "        print('My name is', self.name, 'and I am', age, 'yr old')\n",
    "\n",
    "    def welcomeWithoutSelf():\n",
    "        print('Welcome to our company')\n",
    "        \n",
    "    @staticmethod\n",
    "    def welcome():\n",
    "        print('Welcome to our company')\n",
    "\n",
    "#Object instantiation\n",
    "employeeOne = Employee()\n",
    "employeeTwo = Employee()"
   ]
  },
  {
   "cell_type": "markdown",
   "metadata": {},
   "source": [
    "## Attributes"
   ]
  },
  {
   "cell_type": "code",
   "execution_count": 47,
   "metadata": {},
   "outputs": [],
   "source": [
    "#ObjectAttributes\n",
    "employeeOne.name = \"Rahul\"\n",
    "employeeOne.salary = 1000\n",
    "\n",
    "employeeTwo.name = \"Raj\""
   ]
  },
  {
   "cell_type": "code",
   "execution_count": 48,
   "metadata": {},
   "outputs": [
    {
     "data": {
      "text/plain": [
       "1000"
      ]
     },
     "execution_count": 48,
     "metadata": {},
     "output_type": "execute_result"
    }
   ],
   "source": [
    "employeeOne.salary"
   ]
  },
  {
   "cell_type": "code",
   "execution_count": 49,
   "metadata": {},
   "outputs": [
    {
     "ename": "AttributeError",
     "evalue": "'Employee' object has no attribute 'salary'",
     "output_type": "error",
     "traceback": [
      "\u001b[0;31m---------------------------------------------------------------------------\u001b[0m",
      "\u001b[0;31mAttributeError\u001b[0m                            Traceback (most recent call last)",
      "\u001b[1;32mUntitled-1.ipynb Cell 6\u001b[0m in \u001b[0;36m<cell line: 1>\u001b[0;34m()\u001b[0m\n\u001b[0;32m----> <a href='vscode-notebook-cell:Untitled-1.ipynb?jupyter-notebook#X11sdW50aXRsZWQ%3D?line=0'>1</a>\u001b[0m employeeTwo\u001b[39m.\u001b[39;49msalary\n",
      "\u001b[0;31mAttributeError\u001b[0m: 'Employee' object has no attribute 'salary'"
     ]
    }
   ],
   "source": [
    "employeeTwo.salary #because salary attribute is object's attribute which is not defined for employeeTwo"
   ]
  },
  {
   "cell_type": "code",
   "execution_count": 50,
   "metadata": {},
   "outputs": [
    {
     "data": {
      "text/plain": [
       "40"
      ]
     },
     "execution_count": 50,
     "metadata": {},
     "output_type": "execute_result"
    }
   ],
   "source": [
    "#Accessing class attributes\n",
    "Employee.noOfWorkingHours"
   ]
  },
  {
   "cell_type": "code",
   "execution_count": 51,
   "metadata": {},
   "outputs": [
    {
     "data": {
      "text/plain": [
       "45"
      ]
     },
     "execution_count": 51,
     "metadata": {},
     "output_type": "execute_result"
    }
   ],
   "source": [
    "employeeOne.noOfWorkingHours = 45\n",
    "employeeOne.noOfWorkingHours\n",
    "#This doesn't chaged the class attribute but created a new attribute for the object"
   ]
  },
  {
   "cell_type": "markdown",
   "metadata": {},
   "source": [
    "## Methods"
   ]
  },
  {
   "cell_type": "code",
   "execution_count": 54,
   "metadata": {},
   "outputs": [
    {
     "name": "stdout",
     "output_type": "stream",
     "text": [
      "My name is Rahul and I am a Male\n",
      "My age is 30\n"
     ]
    }
   ],
   "source": [
    "employeeOne.employeedetails()"
   ]
  },
  {
   "cell_type": "code",
   "execution_count": 58,
   "metadata": {},
   "outputs": [
    {
     "ename": "NameError",
     "evalue": "name 'age' is not defined",
     "output_type": "error",
     "traceback": [
      "\u001b[0;31m---------------------------------------------------------------------------\u001b[0m",
      "\u001b[0;31mNameError\u001b[0m                                 Traceback (most recent call last)",
      "\u001b[1;32mUntitled-1.ipynb Cell 12\u001b[0m in \u001b[0;36m<cell line: 1>\u001b[0;34m()\u001b[0m\n\u001b[0;32m----> <a href='vscode-notebook-cell:Untitled-1.ipynb?jupyter-notebook#X26sdW50aXRsZWQ%3D?line=0'>1</a>\u001b[0m employeeOne\u001b[39m.\u001b[39;49mprintEmployeeDetails()\n",
      "\u001b[1;32mUntitled-1.ipynb Cell 12\u001b[0m in \u001b[0;36mEmployee.printEmployeeDetails\u001b[0;34m(self)\u001b[0m\n\u001b[1;32m     <a href='vscode-notebook-cell:Untitled-1.ipynb?jupyter-notebook#X26sdW50aXRsZWQ%3D?line=11'>12</a>\u001b[0m \u001b[39mdef\u001b[39;00m \u001b[39mprintEmployeeDetails\u001b[39m(\u001b[39mself\u001b[39m):\n\u001b[0;32m---> <a href='vscode-notebook-cell:Untitled-1.ipynb?jupyter-notebook#X26sdW50aXRsZWQ%3D?line=12'>13</a>\u001b[0m     \u001b[39mprint\u001b[39m(\u001b[39m'\u001b[39m\u001b[39mMy name is\u001b[39m\u001b[39m'\u001b[39m, \u001b[39mself\u001b[39m\u001b[39m.\u001b[39mname, \u001b[39m'\u001b[39m\u001b[39mand I am\u001b[39m\u001b[39m'\u001b[39m, age, \u001b[39m'\u001b[39m\u001b[39myr old\u001b[39m\u001b[39m'\u001b[39m)\n",
      "\u001b[0;31mNameError\u001b[0m: name 'age' is not defined"
     ]
    }
   ],
   "source": [
    "employeeOne.printEmployeeDetails()   #as while defining age we haven't use name of the object, it is not accessible outside the method"
   ]
  },
  {
   "cell_type": "markdown",
   "metadata": {},
   "source": [
    "### Statics method"
   ]
  },
  {
   "cell_type": "code",
   "execution_count": 70,
   "metadata": {},
   "outputs": [
    {
     "ename": "TypeError",
     "evalue": "Employee.welcomeWithoutSelf() takes 0 positional arguments but 1 was given",
     "output_type": "error",
     "traceback": [
      "\u001b[0;31m---------------------------------------------------------------------------\u001b[0m",
      "\u001b[0;31mTypeError\u001b[0m                                 Traceback (most recent call last)",
      "\u001b[1;32mUntitled-1.ipynb Cell 14\u001b[0m in \u001b[0;36m<cell line: 1>\u001b[0;34m()\u001b[0m\n\u001b[0;32m----> <a href='vscode-notebook-cell:Untitled-1.ipynb?jupyter-notebook#X44sdW50aXRsZWQ%3D?line=0'>1</a>\u001b[0m employeeOne\u001b[39m.\u001b[39;49mwelcomeWithoutSelf()\n",
      "\u001b[0;31mTypeError\u001b[0m: Employee.welcomeWithoutSelf() takes 0 positional arguments but 1 was given"
     ]
    }
   ],
   "source": [
    "employeeOne.welcomeWithoutSelf()"
   ]
  },
  {
   "cell_type": "code",
   "execution_count": 71,
   "metadata": {},
   "outputs": [
    {
     "ename": "TypeError",
     "evalue": "Employee.welcomeWithoutSelf() takes 0 positional arguments but 1 was given",
     "output_type": "error",
     "traceback": [
      "\u001b[0;31m---------------------------------------------------------------------------\u001b[0m",
      "\u001b[0;31mTypeError\u001b[0m                                 Traceback (most recent call last)",
      "\u001b[1;32mUntitled-1.ipynb Cell 15\u001b[0m in \u001b[0;36m<cell line: 2>\u001b[0;34m()\u001b[0m\n\u001b[1;32m      <a href='vscode-notebook-cell:Untitled-1.ipynb?jupyter-notebook#X45sdW50aXRsZWQ%3D?line=0'>1</a>\u001b[0m \u001b[39m#Actually python calls the method in this way\u001b[39;00m\n\u001b[0;32m----> <a href='vscode-notebook-cell:Untitled-1.ipynb?jupyter-notebook#X45sdW50aXRsZWQ%3D?line=1'>2</a>\u001b[0m Employee\u001b[39m.\u001b[39;49mwelcomeWithoutSelf(employeeOne)\n",
      "\u001b[0;31mTypeError\u001b[0m: Employee.welcomeWithoutSelf() takes 0 positional arguments but 1 was given"
     ]
    }
   ],
   "source": [
    "#Actually python calls the method in this way\n",
    "Employee.welcomeWithoutSelf(employeeOne)"
   ]
  },
  {
   "cell_type": "code",
   "execution_count": 60,
   "metadata": {},
   "outputs": [
    {
     "name": "stdout",
     "output_type": "stream",
     "text": [
      "Welcome to our company\n"
     ]
    }
   ],
   "source": [
    "employeeOne.welcome() #static method can be called by object as well as class"
   ]
  },
  {
   "cell_type": "code",
   "execution_count": 61,
   "metadata": {},
   "outputs": [
    {
     "name": "stdout",
     "output_type": "stream",
     "text": [
      "Welcome to our company\n"
     ]
    }
   ],
   "source": [
    "Employee.welcome()"
   ]
  },
  {
   "cell_type": "markdown",
   "metadata": {},
   "source": [
    "## init_method"
   ]
  },
  {
   "cell_type": "code",
   "execution_count": 65,
   "metadata": {},
   "outputs": [
    {
     "ename": "AttributeError",
     "evalue": "'Employee' object has no attribute 'name'",
     "output_type": "error",
     "traceback": [
      "\u001b[0;31m---------------------------------------------------------------------------\u001b[0m",
      "\u001b[0;31mAttributeError\u001b[0m                            Traceback (most recent call last)",
      "\u001b[1;32mUntitled-1.ipynb Cell 17\u001b[0m in \u001b[0;36m<cell line: 12>\u001b[0;34m()\u001b[0m\n\u001b[1;32m     <a href='vscode-notebook-cell:Untitled-1.ipynb?jupyter-notebook#X35sdW50aXRsZWQ%3D?line=9'>10</a>\u001b[0m employee \u001b[39m=\u001b[39m Employee()\n\u001b[1;32m     <a href='vscode-notebook-cell:Untitled-1.ipynb?jupyter-notebook#X35sdW50aXRsZWQ%3D?line=10'>11</a>\u001b[0m \u001b[39m#as we are calling second method before the first where the initialization is done, hence name and age attributes are not defined\u001b[39;00m\n\u001b[0;32m---> <a href='vscode-notebook-cell:Untitled-1.ipynb?jupyter-notebook#X35sdW50aXRsZWQ%3D?line=11'>12</a>\u001b[0m employee\u001b[39m.\u001b[39;49mprintEmployeeDetails()\n",
      "\u001b[1;32mUntitled-1.ipynb Cell 17\u001b[0m in \u001b[0;36mEmployee.printEmployeeDetails\u001b[0;34m(self)\u001b[0m\n\u001b[1;32m      <a href='vscode-notebook-cell:Untitled-1.ipynb?jupyter-notebook#X35sdW50aXRsZWQ%3D?line=5'>6</a>\u001b[0m \u001b[39mdef\u001b[39;00m \u001b[39mprintEmployeeDetails\u001b[39m(\u001b[39mself\u001b[39m):\n\u001b[0;32m----> <a href='vscode-notebook-cell:Untitled-1.ipynb?jupyter-notebook#X35sdW50aXRsZWQ%3D?line=6'>7</a>\u001b[0m     \u001b[39mprint\u001b[39m(\u001b[39m'\u001b[39m\u001b[39mName:\u001b[39m\u001b[39m'\u001b[39m, \u001b[39mself\u001b[39;49m\u001b[39m.\u001b[39;49mname)\n\u001b[1;32m      <a href='vscode-notebook-cell:Untitled-1.ipynb?jupyter-notebook#X35sdW50aXRsZWQ%3D?line=7'>8</a>\u001b[0m     \u001b[39mprint\u001b[39m(\u001b[39m'\u001b[39m\u001b[39mAge:\u001b[39m\u001b[39m'\u001b[39m, \u001b[39mself\u001b[39m\u001b[39m.\u001b[39mage)\n",
      "\u001b[0;31mAttributeError\u001b[0m: 'Employee' object has no attribute 'name'"
     ]
    }
   ],
   "source": [
    "class Employee:\n",
    "    def enterEmployeeDetails(self):\n",
    "        self.name = \"Ram\"\n",
    "        self.age = 30\n",
    "    \n",
    "    def printEmployeeDetails(self):\n",
    "        print('Name:', self.name)\n",
    "        print('Age:', self.age)\n",
    "\n",
    "employee = Employee()\n",
    "#as we are calling second method before the first where the initialization is done, hence name and age attributes are not defined\n",
    "employee.printEmployeeDetails()"
   ]
  },
  {
   "cell_type": "code",
   "execution_count": 66,
   "metadata": {},
   "outputs": [
    {
     "name": "stdout",
     "output_type": "stream",
     "text": [
      "Name: Ram\n",
      "Age: 30\n"
     ]
    }
   ],
   "source": [
    "#to get rid of this type of error we can use __init__ method, which is called automatically when object is created\n",
    "class Employee:\n",
    "    def __init__(self):\n",
    "        self.name = \"Ram\"\n",
    "        self.age = 30\n",
    "    \n",
    "    def printEmployeeDetails(self):\n",
    "        print('Name:', self.name)\n",
    "        print('Age:', self.age)\n",
    "\n",
    "employee = Employee()\n",
    "employee.printEmployeeDetails()"
   ]
  },
  {
   "cell_type": "code",
   "execution_count": 67,
   "metadata": {},
   "outputs": [
    {
     "name": "stdout",
     "output_type": "stream",
     "text": [
      "Name: Ram\n",
      "Age: 30\n",
      "Name: Shyam\n",
      "Age: 40\n"
     ]
    }
   ],
   "source": [
    "# we can also pass parameters to __init__ method\n",
    "class Employee:\n",
    "    def __init__(self, name, age):\n",
    "        self.name = name\n",
    "        self.age = age\n",
    "    \n",
    "    def printEmployeeDetails(self):\n",
    "        print('Name:', self.name)\n",
    "        print('Age:', self.age)\n",
    "\n",
    "employeeOne = Employee('Ram', 30)\n",
    "employeeTwo = Employee('Shyam', 40)\n",
    "\n",
    "employeeOne.printEmployeeDetails()\n",
    "employeeTwo.printEmployeeDetails()"
   ]
  }
 ],
 "metadata": {
  "kernelspec": {
   "display_name": "Python 3.10.6 ('my_env')",
   "language": "python",
   "name": "python3"
  },
  "language_info": {
   "codemirror_mode": {
    "name": "ipython",
    "version": 3
   },
   "file_extension": ".py",
   "mimetype": "text/x-python",
   "name": "python",
   "nbconvert_exporter": "python",
   "pygments_lexer": "ipython3",
   "version": "3.10.6"
  },
  "orig_nbformat": 4,
  "vscode": {
   "interpreter": {
    "hash": "333ad066d239af8659780667608f3e14a8c59d1eb92890b0405dfaef9e357b30"
   }
  }
 },
 "nbformat": 4,
 "nbformat_minor": 2
}
