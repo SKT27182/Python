{
 "cells": [
  {
   "cell_type": "code",
   "execution_count": 54,
   "metadata": {},
   "outputs": [],
   "source": [
    "import random, pylab\n",
    "import matplotlib.pyplot as plt\n",
    "import numpy as np\n",
    "import seaborn as sns"
   ]
  },
  {
   "cell_type": "code",
   "execution_count": 55,
   "metadata": {},
   "outputs": [],
   "source": [
    "class FairRoulette():\n",
    "    def __init__(self):\n",
    "        self.pockets = []\n",
    "        for i in range(1,37):     # 37 pockets in a wheel\n",
    "            self.pockets.append(i)\n",
    "        self.ball = None         # currently ball is in no pocket\n",
    "        self.pocketOdds = len(self.pockets) - 1\n",
    "    def spin(self):\n",
    "        self.ball = random.choice(self.pockets)\n",
    "    def betPocket(self, pocket, amt):\n",
    "        if str(pocket) == str(self.ball):\n",
    "            return amt*self.pocketOdds\n",
    "        else: return -amt\n",
    "    def __str__(self):\n",
    "        return 'Fair Roulette'"
   ]
  },
  {
   "cell_type": "code",
   "execution_count": 56,
   "metadata": {},
   "outputs": [],
   "source": [
    "def playRoulette(game, numSpins, pocket, bet, toPrint):\n",
    "    totPocket = 0\n",
    "    for i in range(numSpins):\n",
    "        game.spin()\n",
    "        totPocket += game.betPocket(pocket, bet)\n",
    "    if toPrint:\n",
    "        print(numSpins, 'spins of', game)\n",
    "        print('Expected return betting', pocket, '=',\\\n",
    "              str(100*totPocket/numSpins) + '%\\n')\n",
    "    return (totPocket/numSpins)"
   ]
  },
  {
   "cell_type": "code",
   "execution_count": 57,
   "metadata": {},
   "outputs": [
    {
     "name": "stdout",
     "output_type": "stream",
     "text": [
      "100 spins of Fair Roulette\n",
      "Expected return betting 2 = -100.0%\n",
      "\n",
      "100 spins of Fair Roulette\n",
      "Expected return betting 2 = 44.0%\n",
      "\n",
      "100 spins of Fair Roulette\n",
      "Expected return betting 2 = -28.0%\n",
      "\n",
      "1000000 spins of Fair Roulette\n",
      "Expected return betting 2 = -0.046%\n",
      "\n",
      "1000000 spins of Fair Roulette\n",
      "Expected return betting 2 = 0.602%\n",
      "\n",
      "1000000 spins of Fair Roulette\n",
      "Expected return betting 2 = 0.7964%\n",
      "\n"
     ]
    }
   ],
   "source": [
    "random.seed(0)\n",
    "game = FairRoulette()\n",
    "for numSpins in (100, 1000000):\n",
    "    for i in range(3):\n",
    "        playRoulette(game, numSpins, 2, 1, True)"
   ]
  },
  {
   "cell_type": "code",
   "execution_count": 58,
   "metadata": {},
   "outputs": [],
   "source": [
    "class EuRoulette(FairRoulette):\n",
    "    def __init__(self):\n",
    "        FairRoulette.__init__(self)\n",
    "        self.pockets.append('0')\n",
    "    def __str__(self):\n",
    "        return 'European Roulette'"
   ]
  },
  {
   "cell_type": "code",
   "execution_count": 59,
   "metadata": {},
   "outputs": [],
   "source": [
    "class AmRoulette(EuRoulette):\n",
    "    def __init__(self):\n",
    "        EuRoulette.__init__(self)\n",
    "        self.pockets.append('00')\n",
    "    def __str__(self):\n",
    "        return 'American Roulette'"
   ]
  },
  {
   "cell_type": "code",
   "execution_count": 60,
   "metadata": {},
   "outputs": [],
   "source": [
    "def findPocketReturn(game, numTrials, trialSize, toPrint):\n",
    "    pocketReturns = []\n",
    "    for t in range(numTrials):\n",
    "        trialVals = playRoulette(game, trialSize, 2, 1, toPrint)\n",
    "        pocketReturns.append(trialVals)\n",
    "    return pocketReturns"
   ]
  },
  {
   "cell_type": "code",
   "execution_count": 61,
   "metadata": {},
   "outputs": [],
   "source": [
    "random.seed(0)\n",
    "numTrials = 20\n",
    "resultDict = {}\n",
    "games = (FairRoulette, EuRoulette, AmRoulette)\n",
    "for G in games:\n",
    "    resultDict[G().__str__()] = []"
   ]
  },
  {
   "cell_type": "code",
   "execution_count": 62,
   "metadata": {},
   "outputs": [
    {
     "name": "stdout",
     "output_type": "stream",
     "text": [
      "\n",
      "Simulate 20 trials of 1000 spins each\n",
      "Exp. return for Fair Roulette = 6.56%\n",
      "Exp. return for European Roulette = -2.26%\n",
      "Exp. return for American Roulette = -8.92%\n",
      "\n",
      "Simulate 20 trials of 10000 spins each\n",
      "Exp. return for Fair Roulette = -1.234%\n",
      "Exp. return for European Roulette = -4.168%\n",
      "Exp. return for American Roulette = -5.752%\n",
      "\n",
      "Simulate 20 trials of 100000 spins each\n",
      "Exp. return for Fair Roulette = 0.8144%\n",
      "Exp. return for European Roulette = -2.6506%\n",
      "Exp. return for American Roulette = -5.113%\n",
      "\n",
      "Simulate 20 trials of 1000000 spins each\n"
     ]
    },
    {
     "ename": "KeyboardInterrupt",
     "evalue": "",
     "output_type": "error",
     "traceback": [
      "\u001b[0;31m---------------------------------------------------------------------------\u001b[0m",
      "\u001b[0;31mKeyboardInterrupt\u001b[0m                         Traceback (most recent call last)",
      "\u001b[1;32m/home/shailja/Downloads/Monte_Carlo.ipynb Cell 9\u001b[0m in \u001b[0;36m<cell line: 1>\u001b[0;34m()\u001b[0m\n\u001b[1;32m      <a href='vscode-notebook-cell:/home/shailja/Downloads/Monte_Carlo.ipynb#X11sZmlsZQ%3D%3D?line=1'>2</a>\u001b[0m \u001b[39mprint\u001b[39m(\u001b[39m'\u001b[39m\u001b[39m\\n\u001b[39;00m\u001b[39mSimulate\u001b[39m\u001b[39m'\u001b[39m, numTrials, \u001b[39m'\u001b[39m\u001b[39mtrials of\u001b[39m\u001b[39m'\u001b[39m,\n\u001b[1;32m      <a href='vscode-notebook-cell:/home/shailja/Downloads/Monte_Carlo.ipynb#X11sZmlsZQ%3D%3D?line=2'>3</a>\u001b[0m       numSpins, \u001b[39m'\u001b[39m\u001b[39mspins each\u001b[39m\u001b[39m'\u001b[39m)\n\u001b[1;32m      <a href='vscode-notebook-cell:/home/shailja/Downloads/Monte_Carlo.ipynb#X11sZmlsZQ%3D%3D?line=3'>4</a>\u001b[0m \u001b[39mfor\u001b[39;00m G \u001b[39min\u001b[39;00m games:\n\u001b[0;32m----> <a href='vscode-notebook-cell:/home/shailja/Downloads/Monte_Carlo.ipynb#X11sZmlsZQ%3D%3D?line=4'>5</a>\u001b[0m     pocketReturns \u001b[39m=\u001b[39m findPocketReturn(G(), numTrials,\n\u001b[1;32m      <a href='vscode-notebook-cell:/home/shailja/Downloads/Monte_Carlo.ipynb#X11sZmlsZQ%3D%3D?line=5'>6</a>\u001b[0m                                      numSpins, \u001b[39mFalse\u001b[39;49;00m)\n\u001b[1;32m      <a href='vscode-notebook-cell:/home/shailja/Downloads/Monte_Carlo.ipynb#X11sZmlsZQ%3D%3D?line=6'>7</a>\u001b[0m     expReturn \u001b[39m=\u001b[39m \u001b[39m100\u001b[39m\u001b[39m*\u001b[39m\u001b[39msum\u001b[39m(pocketReturns)\u001b[39m/\u001b[39m\u001b[39mlen\u001b[39m(pocketReturns)\n\u001b[1;32m      <a href='vscode-notebook-cell:/home/shailja/Downloads/Monte_Carlo.ipynb#X11sZmlsZQ%3D%3D?line=7'>8</a>\u001b[0m     \u001b[39mprint\u001b[39m(\u001b[39m'\u001b[39m\u001b[39mExp. return for\u001b[39m\u001b[39m'\u001b[39m, G(), \u001b[39m'\u001b[39m\u001b[39m=\u001b[39m\u001b[39m'\u001b[39m,\n\u001b[1;32m      <a href='vscode-notebook-cell:/home/shailja/Downloads/Monte_Carlo.ipynb#X11sZmlsZQ%3D%3D?line=8'>9</a>\u001b[0m          \u001b[39mstr\u001b[39m(\u001b[39mround\u001b[39m(expReturn, \u001b[39m4\u001b[39m)) \u001b[39m+\u001b[39m \u001b[39m'\u001b[39m\u001b[39m%\u001b[39m\u001b[39m'\u001b[39m)\n",
      "\u001b[1;32m/home/shailja/Downloads/Monte_Carlo.ipynb Cell 9\u001b[0m in \u001b[0;36mfindPocketReturn\u001b[0;34m(game, numTrials, trialSize, toPrint)\u001b[0m\n\u001b[1;32m      <a href='vscode-notebook-cell:/home/shailja/Downloads/Monte_Carlo.ipynb#X11sZmlsZQ%3D%3D?line=1'>2</a>\u001b[0m pocketReturns \u001b[39m=\u001b[39m []\n\u001b[1;32m      <a href='vscode-notebook-cell:/home/shailja/Downloads/Monte_Carlo.ipynb#X11sZmlsZQ%3D%3D?line=2'>3</a>\u001b[0m \u001b[39mfor\u001b[39;00m t \u001b[39min\u001b[39;00m \u001b[39mrange\u001b[39m(numTrials):\n\u001b[0;32m----> <a href='vscode-notebook-cell:/home/shailja/Downloads/Monte_Carlo.ipynb#X11sZmlsZQ%3D%3D?line=3'>4</a>\u001b[0m     trialVals \u001b[39m=\u001b[39m playRoulette(game, trialSize, \u001b[39m2\u001b[39;49m, \u001b[39m1\u001b[39;49m, toPrint)\n\u001b[1;32m      <a href='vscode-notebook-cell:/home/shailja/Downloads/Monte_Carlo.ipynb#X11sZmlsZQ%3D%3D?line=4'>5</a>\u001b[0m     pocketReturns\u001b[39m.\u001b[39mappend(trialVals)\n\u001b[1;32m      <a href='vscode-notebook-cell:/home/shailja/Downloads/Monte_Carlo.ipynb#X11sZmlsZQ%3D%3D?line=5'>6</a>\u001b[0m \u001b[39mreturn\u001b[39;00m pocketReturns\n",
      "\u001b[1;32m/home/shailja/Downloads/Monte_Carlo.ipynb Cell 9\u001b[0m in \u001b[0;36mplayRoulette\u001b[0;34m(game, numSpins, pocket, bet, toPrint)\u001b[0m\n\u001b[1;32m      <a href='vscode-notebook-cell:/home/shailja/Downloads/Monte_Carlo.ipynb#X11sZmlsZQ%3D%3D?line=1'>2</a>\u001b[0m totPocket \u001b[39m=\u001b[39m \u001b[39m0\u001b[39m\n\u001b[1;32m      <a href='vscode-notebook-cell:/home/shailja/Downloads/Monte_Carlo.ipynb#X11sZmlsZQ%3D%3D?line=2'>3</a>\u001b[0m \u001b[39mfor\u001b[39;00m i \u001b[39min\u001b[39;00m \u001b[39mrange\u001b[39m(numSpins):\n\u001b[0;32m----> <a href='vscode-notebook-cell:/home/shailja/Downloads/Monte_Carlo.ipynb#X11sZmlsZQ%3D%3D?line=3'>4</a>\u001b[0m     game\u001b[39m.\u001b[39;49mspin()\n\u001b[1;32m      <a href='vscode-notebook-cell:/home/shailja/Downloads/Monte_Carlo.ipynb#X11sZmlsZQ%3D%3D?line=4'>5</a>\u001b[0m     totPocket \u001b[39m+\u001b[39m\u001b[39m=\u001b[39m game\u001b[39m.\u001b[39mbetPocket(pocket, bet)\n\u001b[1;32m      <a href='vscode-notebook-cell:/home/shailja/Downloads/Monte_Carlo.ipynb#X11sZmlsZQ%3D%3D?line=5'>6</a>\u001b[0m \u001b[39mif\u001b[39;00m toPrint:\n",
      "\u001b[1;32m/home/shailja/Downloads/Monte_Carlo.ipynb Cell 9\u001b[0m in \u001b[0;36mFairRoulette.spin\u001b[0;34m(self)\u001b[0m\n\u001b[1;32m      <a href='vscode-notebook-cell:/home/shailja/Downloads/Monte_Carlo.ipynb#X11sZmlsZQ%3D%3D?line=7'>8</a>\u001b[0m \u001b[39mdef\u001b[39;00m \u001b[39mspin\u001b[39m(\u001b[39mself\u001b[39m):\n\u001b[0;32m----> <a href='vscode-notebook-cell:/home/shailja/Downloads/Monte_Carlo.ipynb#X11sZmlsZQ%3D%3D?line=8'>9</a>\u001b[0m     \u001b[39mself\u001b[39m\u001b[39m.\u001b[39mball \u001b[39m=\u001b[39m random\u001b[39m.\u001b[39;49mchoice(\u001b[39mself\u001b[39;49m\u001b[39m.\u001b[39;49mpockets)\n",
      "File \u001b[0;32m/usr/lib/python3.10/random.py:378\u001b[0m, in \u001b[0;36mRandom.choice\u001b[0;34m(self, seq)\u001b[0m\n\u001b[1;32m    376\u001b[0m \u001b[39m\"\"\"Choose a random element from a non-empty sequence.\"\"\"\u001b[39;00m\n\u001b[1;32m    377\u001b[0m \u001b[39m# raises IndexError if seq is empty\u001b[39;00m\n\u001b[0;32m--> 378\u001b[0m \u001b[39mreturn\u001b[39;00m seq[\u001b[39mself\u001b[39m\u001b[39m.\u001b[39m_randbelow(\u001b[39mlen\u001b[39;49m(seq))]\n",
      "\u001b[0;31mKeyboardInterrupt\u001b[0m: "
     ]
    }
   ],
   "source": [
    "for numSpins in (1000, 10000, 100000, 1000000):\n",
    "    print('\\nSimulate', numTrials, 'trials of',\n",
    "          numSpins, 'spins each')\n",
    "    for G in games:\n",
    "        pocketReturns = findPocketReturn(G(), numTrials,\n",
    "                                         numSpins, False)\n",
    "        expReturn = 100*sum(pocketReturns)/len(pocketReturns)\n",
    "        print('Exp. return for', G(), '=',\n",
    "             str(round(expReturn, 4)) + '%')"
   ]
  },
  {
   "cell_type": "markdown",
   "metadata": {},
   "source": [
    "***\n",
    "## Monte Carlo Integration"
   ]
  },
  {
   "cell_type": "markdown",
   "metadata": {},
   "source": [
    "Integeral is given by,\n",
    "$$ I\\approx Q_{N}\\equiv V{\\frac {1}{N}}\\sum _{{i=1}}^{N}f(\\overline {{\\mathbf {x}}}_{i})=V\\langle f\\rangle $$\n",
    "where $V$ is the volume of the region of integration, $\\overline {{\\mathbf {x}}}_{i}$ is a random point in the region of integration, and $\\langle f\\rangle $ is the average value of $f$ over the region of integration.\n",
    "\n",
    "The error in the integral is given by,\n",
    "$$ {\\mathrm {Var}}(f)\\equiv \\sigma _{N}^{2}={\\frac {1}{N-1}}\\sum _{{i=1}}^{N}\\left(f(\\overline {{\\mathbf {x}}}_{i})-\\langle f\\rangle \\right)^{2}$$\n",
    "\n",
    "which tends to,\n",
    "$$ {\\mathrm {Var}}(Q_{N})={\\frac {V^{2}}{N^{2}}}\\sum _{{i=1}}^{N}{\\mathrm {Var}}(f)=V^{2}{\\frac {{\\mathrm {Var}}(f)}{N}}=V^{2}{\\frac {\\sigma _{N}^{2}}{N}} $$\n",
    "\n",
    "\n",
    "\n",
    "---\n",
    "\n",
    "$$ \\int_{a}^{b} f(x) dx = (b-a)*\\frac{1}{N} \\sum_{i=1}^{N} f(x_i)  = (b-a)*\\frac{1}{N} \\sum_{i=1}^{N} \\frac{f(x_i)}{max(f)}*max(f)  $$\n",
    "\n",
    "$$ \\int_{a}^{b} f(x) dx = (b-a)*\\frac{1}{N} \\sum_{i=1}^{N} f(x_i)  =  (b-a)*\\frac{1}{N} \\sum_{i=1}^{N} P(x_i)*max(f) $$\n",
    "\n",
    "Let's reduce the sample size by playing lottery\n",
    "For each events throw a dice and see if we keep or regect the event\n",
    "\n",
    "$$ \\int_{a}^{b} f(x) dx = (b-a)*\\frac{1}{N} \\sum_{i=1}^{N} f(x_i)  =  (b-a)*\\frac{1}{N} \\sum_{i=1}^{N} P(x_i)*max(f) = \\frac{max(f)}{N}\\sum_{i=1}^{n}1 $$"
   ]
  },
  {
   "cell_type": "code",
   "execution_count": null,
   "metadata": {},
   "outputs": [
    {
     "name": "stdout",
     "output_type": "stream",
     "text": [
      "1.9949113350295187\n",
      "The value calculated by monte carlo integration is 1.9957449373409553.\n"
     ]
    }
   ],
   "source": [
    "# limits of integration\n",
    "a = 0\n",
    "b = np.pi # gets the value of pi\n",
    "N = 1000\n",
    "\n",
    "# array of zeros of length N\n",
    "ar = np.zeros(N)\n",
    "\n",
    "# iterating over each Value of ar and filling\n",
    "# it with a random value between the limits a\n",
    "# and b\n",
    "for i in range (len(ar)):\n",
    "\tar[i] = random.uniform(a,b)\n",
    "\t\n",
    "\n",
    "\n",
    "# variable to store sum of the functions of\n",
    "# different values of x\n",
    "integral = 0.0\n",
    "\n",
    "# function to calculate the sin of a particular\n",
    "# value of x\n",
    "def f(x):\n",
    "\treturn np.sin(x)\n",
    "\n",
    "# iterates and sums up values of different functions\n",
    "# of x\n",
    "n=0\n",
    "for i in ar:\n",
    "\tintegral += f(i)\n",
    "\tif random.uniform(0,1) < f(i):\n",
    "\t\tn +=1\n",
    "\t\t\n",
    "# we get the answer by the formula derived adobe\n",
    "ans = ((b-a)/float(N))*integral\n",
    "print(n*(b-a)/N)\n",
    "\n",
    "# prints the solution\n",
    "print (\"The value calculated by monte carlo integration is {}.\".format(ans))\n"
   ]
  },
  {
   "cell_type": "code",
   "execution_count": null,
   "metadata": {},
   "outputs": [
    {
     "data": {
      "image/png": "[encoded data removed]",
      "text/plain": [
       "<Figure size 1500x900 with 1 Axes>"
      ]
     },
     "metadata": {
      "needs_background": "light"
     },
     "output_type": "display_data"
    }
   ],
   "source": [
    "# importing the modules\n",
    "import random\n",
    "import numpy as np\n",
    "import matplotlib.pyplot as plt\n",
    "\n",
    "plt.figure(figsize=(10,6),dpi=150)\n",
    "# limits of integration\n",
    "a = 0\n",
    "b = np.pi/2 # gets the value of pi\n",
    "N = 1000\n",
    "\n",
    "# function to calculate the sin of a particular\n",
    "# value of x\n",
    "def f(x):\n",
    "\treturn np.sin(x)\n",
    "\n",
    "# list to store all the values for plotting\n",
    "plt_vals = []\n",
    "variance = []\n",
    "# we iterate through all the values to generate\n",
    "# multiple results and show whose intensity is\n",
    "# the most.\n",
    "for i in range(N):\n",
    "\t\n",
    "\t#array of zeros of length N\n",
    "\tar = np.zeros(N)\n",
    "\n",
    "\t# iterating over each Value of ar and filling it\n",
    "\t# with a random value between the limits a and b\n",
    "\tfor i in range (len(ar)):\n",
    "\t\tar[i] = random.uniform(a,b)\n",
    "\n",
    "\t# variable to store sum of the functions of different\n",
    "\t# values of x\n",
    "\tintegral = 0.0\n",
    "\n",
    "\t# iterates and sums up values of different functions\n",
    "\t# of x\n",
    "\tfor i in ar:\n",
    "\t\tintegral += f(i)\n",
    "\n",
    "\t# we get the answer by the formula derived adobe\n",
    "\tans = (b-a)/float(N)*integral\n",
    "\n",
    "\t# appends the solution to a list for plotting the graph\n",
    "\tplt_vals.append(ans)\t\t\n",
    "\n",
    "# details of the plot to be generated\n",
    "# sets the title of the plot\n",
    "plt.title(\"Distributions of areas calculated\")\n",
    "\n",
    "# 3 parameters (array on which histogram needs\n",
    "sns.kdeplot(plt_vals, shade=True, color=\"r\")\n",
    "\n",
    "# to be made, bins, separators colour between the\n",
    "# beams)\n",
    "# sets the label of the x-axis of the plot\n",
    "plt.xlabel(\"Areas\")\n",
    "plt.show() # shows the plot\n"
   ]
  }
 ],
 "metadata": {
  "kernelspec": {
   "display_name": "my_env",
   "language": "python",
   "name": "python3"
  },
  "language_info": {
   "codemirror_mode": {
    "name": "ipython",
    "version": 3
   },
   "file_extension": ".py",
   "mimetype": "text/x-python",
   "name": "python",
   "nbconvert_exporter": "python",
   "pygments_lexer": "ipython3",
   "version": "3.10.6"
  },
  "orig_nbformat": 4,
  "vscode": {
   "interpreter": {
    "hash": "333ad066d239af8659780667608f3e14a8c59d1eb92890b0405dfaef9e357b30"
   }
  }
 },
 "nbformat": 4,
 "nbformat_minor": 2
}
