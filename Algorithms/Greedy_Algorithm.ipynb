{
 "cells": [
  {
   "attachments": {},
   "cell_type": "markdown",
   "metadata": {},
   "source": [
    "<h2 id=\"Contents\">Contents<a href=\"#Contents\"></a></h2>\n",
    "        <ol>\n",
    "        <ol><li><a class=\"\" href=\"#Greedy-Algorithm\">Greedy Algorithm</a></li>\n",
    "<ol><li><a class=\"\" href=\"#Minimize-the-sum-of-product\">Minimize the sum of product</a></li>\n",
    "<li><a class=\"\" href=\"#Ishaan-Loves-Chocolates\">Ishaan Loves Chocolates</a></li>\n",
    "<li><a class=\"\" href=\"#N-meetings-in-one-room\">N meetings in one room</a></li>\n",
    "<li><a class=\"\" href=\"#Choose-and-Swap\">Choose and Swap</a></li>\n",
    "<li><a class=\"\" href=\"#Largest-number-with-given-sum\">Largest number with given sum</a></li>\n",
    "<ol>\n",
    "</ol><li><a class=\"\" href=\"#Minimum-number-of-jumps\">Minimum number of jumps</a></li>\n",
    "</ol>"
   ]
  },
  {
   "cell_type": "markdown",
   "metadata": {},
   "source": [
    "## Greedy Algorithm"
   ]
  },
  {
   "cell_type": "markdown",
   "metadata": {},
   "source": [
    "Greedy is an algorithmic paradigm that builds up a solution piece by piece, always choosing the next piece that offers the most obvious and immediate benefit. So the problems where choosing locally optimal also leads to global solution are the best fit for Greedy.\n",
    "\n",
    "For example consider the Fractional Knapsack Problem. The local optimal strategy is to choose the item that has maximum value vs weight ratio. This strategy also leads to a globally optimal solution because we are allowed to take fractions of an item.\n",
    "\n",
    "<img src=\"https://media.geeksforgeeks.org/wp-content/cdn-uploads/Fractional-Knapsackexample-min-1024x512.png\" alt=\"greedy-algorithms\" class=\"aligncenter size-large wp-image-249541\" srcset=\"https://www.geeksforgeeks.org/wp-content/uploads/Fractional-Knapsackexample-min-1024x512.png 1024w, https://www.geeksforgeeks.org/wp-content/uploads/Fractional-Knapsackexample-min-300x150.png 300w, https://www.geeksforgeeks.org/wp-content/uploads/Fractional-Knapsackexample-min-768x384.png 768w, https://www.geeksforgeeks.org/wp-content/uploads/Fractional-Knapsackexample-min-660x330.png 660w, https://www.geeksforgeeks.org/wp-content/uploads/Fractional-Knapsackexample-min.png 1600w\" sizes=\"(max-width: 665px) 100vw, 665px\" title=\"Click to enlarge\" style=\"cursor: zoom-in;\" width=\"665\" height=\"333\">"
   ]
  },
  {
   "cell_type": "markdown",
   "metadata": {},
   "source": [
    "***"
   ]
  },
  {
   "cell_type": "markdown",
   "metadata": {},
   "source": [
    "### Minimize the sum of product"
   ]
  },
  {
   "cell_type": "markdown",
   "metadata": {},
   "source": [
    "<div class=\"problems_problem_content__Xm_eO\"><p><span style=\"font-family:arial,helvetica,sans-serif\"><span style=\"font-size:25px\">You are given two arrays,<strong> A</strong> and <strong>B</strong>, of equal size <strong>N</strong>. The task is to find the minimum value of <strong>A[0] * B[0] + A[1] * B[1] + .... + A[N-1] * B[N-1],</strong> where shuffling of elements of arrays <strong>A</strong> and <strong>B</strong> is allowed.<br>\n",
    "<br>\n",
    "<br>\n",
    "<strong>Example 1:</strong></span></span></p>\n",
    "\n",
    "<pre><span style=\"font-family:arial,helvetica,sans-serif\"><span style=\"font-size:25px\"><strong>Input:</strong>\n",
    "N = 3 \n",
    "A[] = {3, 1, 1}\n",
    "B[] = {6, 5, 4}\n",
    "<strong>Output:</strong>\n",
    "23 </span>\n",
    "<span style=\"font-size:25px\"><strong>Explanation:</strong></span>\n",
    "<span style=\"font-size:25px\">1*6+1*5+3*4 = 6+5+12\n",
    "= 23 is the minimum sum</span></span></pre>\n",
    "\n",
    "<p>&nbsp;</p>\n",
    "\n",
    "<p><span style=\"font-family:arial,helvetica,sans-serif\"><span style=\"font-size:25px\"><strong>Example 2:</strong></span></span></p>\n",
    "\n",
    "<pre><span style=\"font-family:arial,helvetica,sans-serif\"><span style=\"font-size:25px\"><strong>Input:</strong>\n",
    "N = 5\n",
    "A[] = {6, 1, 9, 5, 4}\n",
    "B[] = {3, 4, 8, 2, 4}\n",
    "<strong>Output:</strong>\n",
    "80\n",
    "<strong>Explanation:</strong></span><span style=\"font-size:25px\">\n",
    "2*9+3*6+4*5+4*4+8*1\n",
    "=18+18+20+16+8\n",
    "= 80 is the minimum sum</span></span></pre>\n",
    "\n",
    "<p>&nbsp;</p>\n",
    "\n",
    "<p><span style=\"font-family:arial,helvetica,sans-serif\"><span style=\"font-size:25px\"><strong>Your Task:&nbsp;&nbsp;</strong><br>\n",
    "You don't need to read input or print anything. Your task is to complete the function&nbsp;<strong>minValue()</strong>&nbsp;which takes the arrays <strong>A[]</strong>, <strong>B[]</strong> and its size <strong>N</strong><strong> </strong>as inputs and returns the minimum sum.</span></span><br>\n",
    "&nbsp;</p>\n",
    "\n",
    "<p><br>\n",
    "<span style=\"font-family:arial,helvetica,sans-serif\"><span style=\"font-size:25px\"><strong>Expected Time Complexity:</strong> O(N. log(N))<br>\n",
    "<strong>Expected Auxiliary Space:</strong> O(1)<br>\n",
    "<br>\n",
    "<br>\n",
    "<strong>Constraints:</strong><br>\n",
    "1 ≤ N ≤ 10<sup>5</sup><br>\n",
    "1 ≤ A[] ≤ 10<sup>6</sup></span></span></p>\n",
    "</div>"
   ]
  },
  {
   "cell_type": "code",
   "execution_count": 3,
   "metadata": {},
   "outputs": [],
   "source": [
    "class Solution:\n",
    "    def minValue(self, a, b, n):\n",
    "        # Your code goes here\n",
    "        sum=0\n",
    "        a = sorted(a)\n",
    "        b = sorted(b)\n",
    "        for i,j in zip(range(len(a)),range(len(b)-1,-1,-1)):\n",
    "            sum += a[i]*b[j]\n",
    "            \n",
    "        return(sum)"
   ]
  },
  {
   "cell_type": "code",
   "execution_count": 4,
   "metadata": {},
   "outputs": [
    {
     "name": "stdout",
     "output_type": "stream",
     "text": [
      "10\n"
     ]
    }
   ],
   "source": [
    "sol = Solution()\n",
    "a = [1, 2, 3]\n",
    "b = [3, 2, 1]\n",
    "n = 3\n",
    "print(sol.minValue(a, b, n))"
   ]
  },
  {
   "cell_type": "markdown",
   "metadata": {},
   "source": [
    "***\n",
    "### Ishaan Loves Chocolates"
   ]
  },
  {
   "cell_type": "markdown",
   "metadata": {},
   "source": [
    "<div class=\"problems_problem_content__Xm_eO\"><p><span style=\"font-size:25px\">As we know, Ishaan has a love for chocolates. He has bought a huge chocolate bar that contains N chocolate squares. Each of the squares has a tastiness level which is denoted by an array A[].<br>\n",
    "Ishaan can eat the first or the last square of the chocolate at once. Ishaan has a sister who loves chocolates too and she demands the last chocolate square. Now, Ishaan being greedy eats the more tasty square first.&nbsp;<br>\n",
    "Determine the tastiness level of the square which his sister gets.</span></p>\n",
    "\n",
    "<p><span style=\"font-size:25px\"><strong>Example 1:</strong></span></p>\n",
    "\n",
    "<pre><span style=\"font-size:25px\"><strong>Input :</strong> arr[ ] = {5, 3, 1, 6, 9}\n",
    "<strong>Output :</strong> 1\n",
    "<strong>Explanation:\n",
    "Initially: 5 3 1 6 9</strong>\n",
    "In first step: 5 3 1 6\n",
    "In Second step: 5 3 1\n",
    "In Third step: 3 1\n",
    "In Fourth step: 1\n",
    "Return 1</span></pre>\n",
    "\n",
    "<p><br>\n",
    "<br>\n",
    "<span style=\"font-size:25px\"><strong>Example 2:</strong></span></p>\n",
    "\n",
    "<pre><span style=\"font-size:25px\"><strong>Input :</strong> arr[ ] = {5, 9, 2, 6} <strong>\n",
    "Output :</strong>  2\n",
    "\n",
    "</span></pre>\n",
    "\n",
    "<p><span style=\"font-size:25px\"><strong>Your Task:</strong><br>\n",
    "This is a function problem. The input is already taken care of by the driver code. You only need to complete the function <strong>chocolates()</strong> that takes an array <strong>(arr)</strong>, sizeOfArray <strong>(n)</strong>&nbsp;and return the tastiness level of the square which his sister gets. The driver code takes care of the printing.</span></p>\n",
    "\n",
    "<p><span style=\"font-size:25px\"><strong>Expected Time Complexity:</strong>&nbsp;O(N).<br>\n",
    "<strong>Expected Auxiliary Space:</strong>&nbsp;O(1).</span></p>\n",
    "\n",
    "<p>&nbsp;</p>\n",
    "\n",
    "<p><span style=\"font-size:25px\"><strong>Constraints :&nbsp;</strong><br>\n",
    "1 ≤ N ≤ 10<sup>5</sup><br>\n",
    "1 ≤ A[i] ≤ 10<sup>9</sup></span></p>\n",
    "</div>"
   ]
  },
  {
   "cell_type": "code",
   "execution_count": 1,
   "metadata": {},
   "outputs": [],
   "source": [
    "class Solution:\n",
    "    def chocolates(self, n : int, arr : list[int]) -> int:\n",
    "        # code here\n",
    "        while len(arr)>1:\n",
    "            if arr[-1] < arr[0]:\n",
    "                arr.pop(0)\n",
    "            else:\n",
    "                arr.pop(-1)\n",
    "        return arr[0]\n"
   ]
  },
  {
   "cell_type": "code",
   "execution_count": 2,
   "metadata": {},
   "outputs": [
    {
     "name": "stdout",
     "output_type": "stream",
     "text": [
      "1\n"
     ]
    }
   ],
   "source": [
    "sol = Solution()\n",
    "n = 5\n",
    "arr = [3, 4, 1, 9, 56]\n",
    "print(sol.chocolates(n, arr))"
   ]
  },
  {
   "cell_type": "markdown",
   "metadata": {},
   "source": [
    "***\n",
    "### N meetings in one room"
   ]
  },
  {
   "cell_type": "markdown",
   "metadata": {},
   "source": [
    "<div class=\"problems_problem_content__Xm_eO\"><p><span style=\"font-size:25px\">There is <strong>one</strong> meeting room in a firm. There are <strong>N</strong> meetings in the form of <strong>(start[i], end[i])</strong> where <strong>start[i]&nbsp;</strong>is start time of meeting <strong>i </strong>and <strong>end[i] </strong>is finish time of meeting <strong>i.</strong><br>\n",
    "What is the <strong>maximum</strong> number of meetings that can be accommodated in the meeting room when only one meeting can be held in the meeting room at a particular time? </span></p>\n",
    "\n",
    "<p><span style=\"font-size:25px\"><strong>Note:</strong>&nbsp;Start time of one chosen meeting can't be equal to the end time of the other chosen meeting.</span></p>\n",
    "\n",
    "<p><br>\n",
    "<span style=\"font-size:25px\"><strong>Example 1:</strong></span></p>\n",
    "\n",
    "<pre><span style=\"font-size:25px\"><strong>Input:\n",
    "</strong>N = 6\n",
    "start[] = {1,3,0,5,8,5}\n",
    "end[] =  {2,4,6,7,9,9}\n",
    "<strong>Output: </strong>\n",
    "4<strong>\n",
    "Explanation:\n",
    "</strong>Maximum four meetings can be held with\n",
    "given start and end timings.</span>\n",
    "<span style=\"font-size:25px\">The meetings are - (1, 2),(3, 4), (5,7) and (8,9)</span>\n",
    "</pre>\n",
    "\n",
    "<p><span style=\"font-size:25px\"><strong>Example 2:</strong></span></p>\n",
    "\n",
    "<pre><span style=\"font-size:25px\"><strong>Input:\n",
    "N</strong> = 3\n",
    "<strong>start[]</strong> = {10, 12, 20}\n",
    "<strong>end[]</strong> = {20, 25, 30}\n",
    "<strong>Output: </strong>\n",
    "1<strong>\n",
    "Explanation:\n",
    "</strong>Only one&nbsp;meetings can be held\n",
    "with given start and end timings.</span></pre>\n",
    "\n",
    "<p><br>\n",
    "<span style=\"font-size:25px\"><strong>Your Task</strong>&nbsp;:<br>\n",
    "You don't need to read inputs or print anything. Complete the function <strong>maxMeetings()</strong><em>&nbsp;</em>that takes two&nbsp;arrays <strong>start[] </strong>and <strong>end[] </strong>along with their size <strong>N</strong> as input parameters and returns the <strong>maximum</strong> number of meetings that can be held in the meeting room.</span></p>\n",
    "\n",
    "<p><br>\n",
    "<span style=\"font-size:25px\"><strong>Expected Time Complexity </strong>: O(N*LogN)</span><br>\n",
    "<span style=\"font-size:25px\"><strong>Expected Auxilliary Space</strong> : O(N)</span></p>\n",
    "\n",
    "<p><br>\n",
    "<span style=\"font-size:25px\"><strong>Constraints:</strong></span><br>\n",
    "<span style=\"font-size:25px\">1 ≤ N&nbsp;≤ 10<sup>5</sup></span><br>\n",
    "<span style=\"font-size:25px\">0 ≤ <strong>star</strong>t<strong>[i]</strong> &lt; <strong>end[i]</strong>&nbsp;≤ 10<sup>5</sup></span></p>\n",
    "</div>"
   ]
  },
  {
   "cell_type": "code",
   "execution_count": 12,
   "metadata": {},
   "outputs": [],
   "source": [
    "class Solution:\n",
    "    \n",
    "    #Function to find the maximum number of meetings that can\n",
    "    #be performed in a meeting room.\n",
    "    def maximumMeetings(self,n,start,end):\n",
    "        # code here\n",
    "        \n",
    "        pair = []\n",
    "        for i in range(n):\n",
    "    \t\t# Creating pairs of meeting(start,end) and appending to a list\n",
    "            pair.append([start[i],end[i]])\n",
    "            \n",
    "\n",
    "        pair.sort(key= lambda x: x[1])   # sort the list according to end time\n",
    "        print(pair)\n",
    "        # print(pair[1])\n",
    "        prev = (pair[0])\n",
    "        meet=1\n",
    "        for i in pair[1:]:\n",
    "            if prev[1]< i[0]:    # compairing end time of previous meeting with start time of next meeting\n",
    "                meet +=1\n",
    "                prev = i\n",
    "            else:\n",
    "                continue\n",
    "        return meet"
   ]
  },
  {
   "cell_type": "markdown",
   "metadata": {},
   "source": [
    "***\n",
    "### Choose and Swap"
   ]
  },
  {
   "cell_type": "markdown",
   "metadata": {},
   "source": [
    "<div class=\"problems_problem_content__Xm_eO\"><p><span style=\"font-size:25px\">You are given a string <strong>s</strong> of lower case english alphabets. You can choose any two characters in the string and replace all the occurences of the first character with the second character and replace all the occurences of the second character with the first character. Your aim is to find the lexicographically smallest string that can be obtained by doing this operation at most once.</span></p>\n",
    "\n",
    "<p><span style=\"font-size:25px\"><strong>Example 1:</strong></span></p>\n",
    "\n",
    "<pre><span style=\"font-size:25px\"><strong>Input</strong>:\n",
    "A = \"ccad\"\n",
    "<strong>Output:</strong>&nbsp;\"aacd\"\n",
    "<strong>Explanation</strong>:\n",
    "In ccad, we choose a and c and after \n",
    "doing the replacement operation once we get, \n",
    "aacd and this is the lexicographically\n",
    "smallest string possible. </span></pre>\n",
    "\n",
    "<p>&nbsp;</p>\n",
    "\n",
    "<p><span style=\"font-size:25px\"><strong>Example 2:</strong></span></p>\n",
    "\n",
    "<pre><span style=\"font-size:25px\"><strong>Input:</strong>\n",
    "A = \"abba\"\n",
    "<strong>Output: </strong>\"abba\"\n",
    "<strong>Explanation:\n",
    "</strong>In abba, we can get baab after doing the \n",
    "replacement operation once for a and b \n",
    "but that is not lexicographically smaller \n",
    "than abba. So, the answer is abba. </span></pre>\n",
    "\n",
    "<p><br>\n",
    "<span style=\"font-size:25px\"><strong>Your Task:&nbsp;&nbsp;</strong><br>\n",
    "You don't need to read input or print anything. Your task is to complete the function&nbsp;<strong>chooseandswap()</strong>&nbsp;which takes the string A as input parameters and returns the <strong>lexicographically smallest string</strong> that is possible after doing the operation at most once.<br>\n",
    "<br>\n",
    "<strong>Expected Time Complexity:</strong> O(|A|) length of the string A<br>\n",
    "<strong>Expected Auxiliary Space:</strong> O(1)</span></p>\n",
    "\n",
    "<p>&nbsp;</p>\n",
    "\n",
    "<p><span style=\"font-size:25px\"><strong>Constraints:</strong><br>\n",
    "1&lt;= |A| &lt;=10<sup>5</sup></span></p>\n",
    "\n",
    "<p>&nbsp;</p>\n",
    "</div>"
   ]
  },
  {
   "cell_type": "code",
   "execution_count": 32,
   "metadata": {},
   "outputs": [],
   "source": [
    "class Solution:\n",
    "    def chooseandswap (self, A):\n",
    "        # code here\n",
    "        d = {}\n",
    "        for letter in A:\n",
    "            d[letter] = True\n",
    "        \n",
    "        for letter in A:\n",
    "            for char in [chr(l) for l in range(ord('a'), ord(letter))]:\n",
    "                if char in d and d[char]:   #checks whether letter is in d and is not checked earlier\n",
    "                    A = A.replace(letter, '*')\n",
    "                    A = A.replace(char, letter)\n",
    "                    A = A.replace('*', char)\n",
    "                    return A\n",
    "            d[letter] = False\n",
    "        return A"
   ]
  },
  {
   "cell_type": "code",
   "execution_count": 34,
   "metadata": {},
   "outputs": [
    {
     "name": "stdout",
     "output_type": "stream",
     "text": [
      "acdb\n"
     ]
    }
   ],
   "source": [
    "sol = Solution()\n",
    "A = \"dcab\"\n",
    "print(sol.chooseandswap(A))"
   ]
  },
  {
   "cell_type": "markdown",
   "metadata": {},
   "source": [
    "***\n",
    "### Largest number with given sum"
   ]
  },
  {
   "cell_type": "markdown",
   "metadata": {},
   "source": [
    "<div class=\"problems_problem_content__Xm_eO\"><p><span style=\"font-size:25px\">Geek lost the password of his super locker.&nbsp;He remembers the number of digits <strong>N</strong> as well as the sum <strong>S</strong> of all the digits&nbsp;of his password.&nbsp;He know that his&nbsp;password is the largest number of <strong>N</strong> digits that can be made with given sum <strong>S</strong>. As he&nbsp;is busy doing his homework, help him&nbsp;retrieving his password.</span></p>\n",
    "\n",
    "<p><strong><span style=\"font-size:25px\">Example 1:</span></strong></p>\n",
    "\n",
    "<pre><strong><span style=\"font-size:25px\">Input:\n",
    "</span></strong><span style=\"font-size:25px\">N = 5, S = 12\n",
    "<strong>Output:\n",
    "</strong>93000<strong>\n",
    "Explanation:\n",
    "</strong>Sum of elements is 12. Largest possible \n",
    "5 digit number is 93000 with sum 12.</span>\n",
    "</pre>\n",
    "\n",
    "<p><strong><span style=\"font-size:25px\">Example 2:</span></strong></p>\n",
    "\n",
    "<pre><strong><span style=\"font-size:25px\">Input:\n",
    "</span></strong><span style=\"font-size:25px\">N = 3, S = 29\n",
    "<strong>Output:\n",
    "</strong>-1<strong>\n",
    "Explanation:\n",
    "</strong>There is no such three digit number \n",
    "whose sum is 29.</span></pre>\n",
    "\n",
    "<p dir=\"ltr\"><strong><span style=\"font-size:25px\">Your Task :&nbsp;</span></strong><br>\n",
    "<span style=\"font-size:25px\">You don't need to read input or print anything. Your task is to complete the function l<strong>argestNumber()</strong> which takes 2 integers <strong>N</strong>&nbsp;and <strong>S</strong> as input parameters and returns the password in the form of&nbsp;string, else return \"-1\" in the form of string.</span></p>\n",
    "\n",
    "<p dir=\"ltr\"><span style=\"font-size:25px\"><strong>Constraints:</strong><br>\n",
    "1 ≤ N ≤&nbsp;10<sup>4</sup><br>\n",
    "0 ≤&nbsp;S ≤ 9*10<sup>4</sup></span></p>\n",
    "\n",
    "<p dir=\"ltr\"><span style=\"font-size:25px\"><strong>Expected Time Complexity</strong> : O(N)<br>\n",
    "<strong>Expected Auxilliary Space </strong>: O(1)</span></p>\n",
    "</div>"
   ]
  },
  {
   "cell_type": "code",
   "execution_count": 26,
   "metadata": {},
   "outputs": [],
   "source": [
    "#Function to return the largest possible number of n digits\n",
    "#with sum equal to given sum.\n",
    "def largestNum_1(n,s):\n",
    "    \n",
    "    # code here\n",
    "\n",
    "        \n",
    "    lar = 0\n",
    "    su = 0\n",
    "    for i in range(n):\n",
    "        \n",
    "        diff = s - su\n",
    "        if diff > 9*s:\n",
    "            return -1\n",
    "        elif diff > 8:\n",
    "            lar += 9*10**(n-1-i)\n",
    "            su += 9\n",
    "        elif diff >0:\n",
    "            lar += diff*10**(n-1-i)\n",
    "            su +=diff\n",
    "        if su==s:\n",
    "            return lar\n",
    "        \n",
    "    return -1"
   ]
  },
  {
   "cell_type": "code",
   "execution_count": 27,
   "metadata": {},
   "outputs": [
    {
     "name": "stdout",
     "output_type": "stream",
     "text": [
      "93000\n"
     ]
    }
   ],
   "source": [
    "n = 5\n",
    "s = 12\n",
    "print(largestNum_1(n, s))"
   ]
  },
  {
   "cell_type": "code",
   "execution_count": 28,
   "metadata": {},
   "outputs": [],
   "source": [
    "#Function to return the largest possible number of n digits\n",
    "#with sum equal to given sum.\n",
    "def largestNum_2(n,s):\n",
    "    \n",
    "    # code here\n",
    "    if s > 9*n:\n",
    "        return -1\n",
    "    def times(sum_,digit):\n",
    "        d = sum_//digit\n",
    "        if d > 0:\n",
    "            return d, (sum_ -digit*d)\n",
    "        else:\n",
    "            return 0, sum_\n",
    "    largest = ''\n",
    "    for i in range(9,0,-1):\n",
    "        times_, s= times(s,i)\n",
    "        largest += str(i)*times_\n",
    "        if s==0:\n",
    "            if s == 0 and len(largest) == n:\n",
    "                return int(largest)\n",
    "            elif s == 0 and len(largest) < n:\n",
    "                largest = largest + '0'*(n-len(largest))\n",
    "                return int(largest)\n",
    "            else:\n",
    "                pass\n",
    "    return int(largest)"
   ]
  },
  {
   "cell_type": "code",
   "execution_count": 29,
   "metadata": {},
   "outputs": [
    {
     "name": "stdout",
     "output_type": "stream",
     "text": [
      "99100\n"
     ]
    }
   ],
   "source": [
    "n = 5\n",
    "s = 19\n",
    "print(largestNum_2(n, s))\n"
   ]
  },
  {
   "cell_type": "markdown",
   "metadata": {},
   "source": [
    "#### Compairing both the algorithms"
   ]
  },
  {
   "cell_type": "code",
   "execution_count": 56,
   "metadata": {},
   "outputs": [],
   "source": [
    "import random\n",
    "\n",
    "\n",
    "def check_largest(func_1,func_2,iter):\n",
    "    run = True\n",
    "    i=0\n",
    "    while run and (i != iter):\n",
    "        n = random.randint(1,10000)\n",
    "        s = random.randint(1,90000)\n",
    "        i +=1\n",
    "        if func_1(n,s) == func_2(n,s):\n",
    "            run = True\n",
    "        else:\n",
    "            run = False\n",
    "            print('Error')\n",
    "    print(\"All the test cases passed\")"
   ]
  },
  {
   "cell_type": "code",
   "execution_count": 57,
   "metadata": {},
   "outputs": [
    {
     "name": "stdout",
     "output_type": "stream",
     "text": [
      "All the test cases passed\n"
     ]
    }
   ],
   "source": [
    "check_largest(largestNum_1,largestNum_2,100)"
   ]
  },
  {
   "cell_type": "markdown",
   "metadata": {},
   "source": [
    "***\n",
    "### Minimum number of jumps"
   ]
  },
  {
   "cell_type": "markdown",
   "metadata": {},
   "source": [
    "<div class=\"problems_problem_content__Xm_eO\"><p><span style=\"font-size:25px\">Given an array of <strong>N</strong> integers <strong>arr[]</strong> where each element represents the max length of the jump that can be made forward from that element. Find&nbsp;the minimum number of jumps to reach the end of the array (starting from the first element).&nbsp;If an element is <strong>0</strong>, then you cannot move through that element.</span><br>\n",
    "<br>\n",
    "<span style=\"font-size:25px\"><strong>Note: </strong>Return -1 if you can't reach the end of the array.</span></p>\n",
    "\n",
    "<p><br>\n",
    "<span style=\"font-size:25px\"><strong>Example 1:</strong></span><span style=\"font-size:25px\"> </span></p>\n",
    "\n",
    "<pre><span style=\"font-size:25px\"><strong>Input:</strong></span>\n",
    "<span style=\"font-size:25px\">N = 11 </span>\n",
    "<span style=\"font-size:25px\">arr[] = {1, 3, 5, 8, 9, 2, 6, 7, 6, 8, 9} </span>\n",
    "<span style=\"font-size:25px\"><strong>Output:</strong> 3 </span>\n",
    "<span style=\"font-size:25px\"><strong>Explanation:</strong> </span>\n",
    "<span style=\"font-size:25px\">First jump from 1st element to 2nd \n",
    "element with value 3. Now, from here \n",
    "we jump to 5th element with value 9, \n",
    "and from here we will jump to the last. </span></pre>\n",
    "\n",
    "<p><strong><span style=\"font-size:25px\">Example 2:</span></strong></p>\n",
    "\n",
    "<pre><strong><span style=\"font-size:25px\">Input :</span></strong>\n",
    "<span style=\"font-size:25px\">N = 6\n",
    "arr = {1, 4, 3, 2, 6, 7}</span>\n",
    "<span style=\"font-size:25px\"><strong>Output:</strong> 2 \n",
    "<strong>Explanation: \n",
    "</strong>First we jump from the 1st to 2nd element \n",
    "and then jump to the last element.</span>\n",
    "</pre>\n",
    "\n",
    "<p><br>\n",
    "<span style=\"font-size:25px\"><strong>Your task:</strong><br>\n",
    "You don't need to read input or print anything. Your task is to complete function <strong>minJumps()</strong> which takes the array <strong>arr</strong> and it's size <strong>N</strong> as input parameters and returns the minimum number of jumps. If not possible return -1.</span></p>\n",
    "\n",
    "<p><br>\n",
    "<span style=\"font-size:25px\"><strong>Expected Time Complexity:&nbsp;</strong>O(N)<br>\n",
    "<strong>Expected Space Complexity:&nbsp;</strong>O(1)</span></p>\n",
    "\n",
    "<p><br>\n",
    "<span style=\"font-size:25px\"><strong>Constraints:</strong><br>\n",
    "1 ≤ N ≤ 10<sup>7</sup><br>\n",
    "0 ≤ arr<sub>i</sub> ≤ 10<sup>7</sup></span></p>\n",
    "</div>"
   ]
  },
  {
   "cell_type": "code",
   "execution_count": 26,
   "metadata": {},
   "outputs": [],
   "source": [
    "class Solution1:\n",
    "    def minJumps(self, arr, n):\n",
    "            #code here\n",
    "            i = 0\n",
    "            jump =0\n",
    "            while i < n-1:\n",
    "                if arr[i]==0:\n",
    "                    return -1\n",
    "                jump_to = arr[i]+i+1\n",
    "                if jump_to >= n:\n",
    "                    return jump + 1\n",
    "                i = arr.index(max(arr[i+1:jump_to]))\n",
    "                jump +=1\n",
    "            return jump"
   ]
  },
  {
   "cell_type": "code",
   "execution_count": 27,
   "metadata": {},
   "outputs": [
    {
     "name": "stdout",
     "output_type": "stream",
     "text": [
      "3\n"
     ]
    }
   ],
   "source": [
    "sol1 = Solution1()\n",
    "arr = [1, 3, 5, 9, 9, 2, 6, 7, 6, 8, 9]\n",
    "n = 11\n",
    "print(sol1.minJumps(arr, n))"
   ]
  },
  {
   "cell_type": "code",
   "execution_count": 31,
   "metadata": {},
   "outputs": [],
   "source": [
    "class Solution2:\n",
    "    def minJumps(self, arr, n):\n",
    "        #code here\n",
    "        jump=0\n",
    "        farthest=0\n",
    "        current_end=0\n",
    "        \n",
    "        if n==1:\n",
    "            return 0\n",
    "        if arr[0]==0:\n",
    "            return -1\n",
    "        for i in range(n-1):\n",
    "            \n",
    "            farthest=max(farthest,i+arr[i])\n",
    "            print(farthest,current_end,i)\n",
    "            if i==current_end:\n",
    "                \n",
    "                jump+=1\n",
    "                current_end=farthest\n",
    "                \n",
    "            if i>=farthest:\n",
    "                   return -1\n",
    "        return jump"
   ]
  },
  {
   "cell_type": "code",
   "execution_count": 32,
   "metadata": {},
   "outputs": [
    {
     "name": "stdout",
     "output_type": "stream",
     "text": [
      "2 0 0\n",
      "4 2 1\n",
      "4 2 2\n",
      "4 4 3\n",
      "6 4 4\n",
      "9 6 5\n",
      "9 6 6\n",
      "9 9 7\n",
      "9 9 8\n",
      "4\n"
     ]
    }
   ],
   "source": [
    "sol2 = Solution2()\n",
    "arr =  [2, 3, 1, 1, 2, 4, 2, 0, 1, 1]\n",
    "n = 10\n",
    "print(sol2.minJumps(arr, n))"
   ]
  },
  {
   "cell_type": "code",
   "execution_count": null,
   "metadata": {},
   "outputs": [],
   "source": []
  }
 ],
 "metadata": {
  "kernelspec": {
   "display_name": "my_env",
   "language": "python",
   "name": "python3"
  },
  "language_info": {
   "codemirror_mode": {
    "name": "ipython",
    "version": 3
   },
   "file_extension": ".py",
   "mimetype": "text/x-python",
   "name": "python",
   "nbconvert_exporter": "python",
   "pygments_lexer": "ipython3",
   "version": "3.10.6 (main, Nov 14 2022, 16:10:14) [GCC 11.3.0]"
  },
  "orig_nbformat": 4,
  "vscode": {
   "interpreter": {
    "hash": "883925ad5274a5221e91c803bb1760502f89cbbc1f3c478126dc340e17a6050f"
   }
  }
 },
 "nbformat": 4,
 "nbformat_minor": 2
}
