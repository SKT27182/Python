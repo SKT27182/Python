{
 "cells": [
  {
   "cell_type": "code",
   "execution_count": 1,
   "metadata": {},
   "outputs": [],
   "source": [
    "import os\n",
    "from files.files import remove_spaces\n",
    "from html_setup.make_html import *\n",
    "import re"
   ]
  },
  {
   "cell_type": "code",
   "execution_count": 2,
   "metadata": {},
   "outputs": [],
   "source": [
    "initial_dir = '/home/shailja/Courses/Notes/Python'"
   ]
  },
  {
   "cell_type": "markdown",
   "metadata": {},
   "source": [
    "## remove the spaces from the file's name"
   ]
  },
  {
   "cell_type": "code",
   "execution_count": 3,
   "metadata": {},
   "outputs": [],
   "source": [
    "remove_spaces()"
   ]
  },
  {
   "cell_type": "markdown",
   "metadata": {},
   "source": [
    "### removin the logo and the useless links"
   ]
  },
  {
   "cell_type": "code",
   "execution_count": null,
   "metadata": {},
   "outputs": [],
   "source": [
    "texts_to_remove = [\n",
    "    '../Pierian_Data_Logo.png',\n",
    "    'http://www.pieriandata.com',\n",
    "    'www.pieriandata.com',\n",
    "    'For more information, visit us at',\n",
    "    'Copyright Pierian Data',\n",
    "    'https://www.udemy.com/user/joseportilla/',\n",
    "    'Copyright by Pierian Data Inc.'\n",
    "]"
   ]
  },
  {
   "cell_type": "code",
   "execution_count": null,
   "metadata": {},
   "outputs": [],
   "source": [
    "for root, _ , files in os.walk('.'):\n",
    "    for file in files:\n",
    "        if file.endswith('.ipynb'):\n",
    "            with open(os.path.join(root, file), 'r') as f:\n",
    "                text = f.read()\n",
    "                for keys in texts_to_remove:\n",
    "                    text = text.replace(keys, '')\n",
    "                with open(os.path.join(root, file), 'w') as f:\n",
    "                    f.write(text)"
   ]
  },
  {
   "cell_type": "markdown",
   "metadata": {},
   "source": [
    "## convert the notebooks to html"
   ]
  },
  {
   "cell_type": "code",
   "execution_count": 4,
   "metadata": {},
   "outputs": [
    {
     "name": "stderr",
     "output_type": "stream",
     "text": [
      "[NbConvertApp] Converting notebook /home/shailja/Courses/Notes/Python/Python-Bootcamp_Jose_Portilla/10-Python Decorators/01-Decorators.ipynb to html\n",
      "[NbConvertApp] Writing 617779 bytes to /home/shailja/Courses/Notes/Python/Python-Bootcamp_Jose_Portilla/10-Python Decorators/01-Decorators.html\n",
      "[NbConvertApp] Converting notebook /home/shailja/Courses/Notes/Python/Python-Bootcamp_Jose_Portilla/10-Python Decorators/02-DecoratorsHomework.ipynb to html\n",
      "[NbConvertApp] Writing 576661 bytes to /home/shailja/Courses/Notes/Python/Python-Bootcamp_Jose_Portilla/10-Python Decorators/02-DecoratorsHomework.html\n",
      "[NbConvertApp] Converting notebook /home/shailja/Courses/Notes/Python/Python-Bootcamp_Jose_Portilla/08-Milestone Project-2/00-Milestone_2WarmupProject.ipynb to html\n",
      "[NbConvertApp] Writing 657242 bytes to /home/shailja/Courses/Notes/Python/Python-Bootcamp_Jose_Portilla/08-Milestone Project-2/00-Milestone_2WarmupProject.html\n",
      "[NbConvertApp] Converting notebook /home/shailja/Courses/Notes/Python/Python-Bootcamp_Jose_Portilla/08-Milestone Project-2/01-MilestoneProject2-Assignment.ipynb to html\n",
      "[NbConvertApp] Writing 576284 bytes to /home/shailja/Courses/Notes/Python/Python-Bootcamp_Jose_Portilla/08-Milestone Project-2/01-MilestoneProject2-Assignment.html\n",
      "[NbConvertApp] Converting notebook /home/shailja/Courses/Notes/Python/Python-Bootcamp_Jose_Portilla/08-Milestone Project-2/03-MilestoneProject2-CompleteWalkthroughSolution.ipynb to html\n",
      "[NbConvertApp] Writing 639398 bytes to /home/shailja/Courses/Notes/Python/Python-Bootcamp_Jose_Portilla/08-Milestone Project-2/03-MilestoneProject2-CompleteWalkthroughSolution.html\n",
      "[NbConvertApp] Converting notebook /home/shailja/Courses/Notes/Python/Python-Bootcamp_Jose_Portilla/18-Milestone Project-3/02-FinalCapstoneProjectIdeas.ipynb to html\n",
      "[NbConvertApp] Writing 599131 bytes to /home/shailja/Courses/Notes/Python/Python-Bootcamp_Jose_Portilla/18-Milestone Project-3/02-FinalCapstoneProjectIdeas.html\n",
      "[NbConvertApp] Converting notebook /home/shailja/Courses/Notes/Python/Python-Bootcamp_Jose_Portilla/07-Errors and Exception Handling/01-ErrorsandExceptionsHandling.ipynb to html\n",
      "[NbConvertApp] Writing 611046 bytes to /home/shailja/Courses/Notes/Python/Python-Bootcamp_Jose_Portilla/07-Errors and Exception Handling/01-ErrorsandExceptionsHandling.html\n",
      "[NbConvertApp] Converting notebook /home/shailja/Courses/Notes/Python/Python-Bootcamp_Jose_Portilla/07-Errors and Exception Handling/02-ErrorsandExceptionsHomework.ipynb to html\n",
      "[NbConvertApp] Writing 584360 bytes to /home/shailja/Courses/Notes/Python/Python-Bootcamp_Jose_Portilla/07-Errors and Exception Handling/02-ErrorsandExceptionsHomework.html\n",
      "[NbConvertApp] Converting notebook /home/shailja/Courses/Notes/Python/Python-Bootcamp_Jose_Portilla/07-Errors and Exception Handling/03-ErrorsandExceptionsHomework-Solution.ipynb to html\n",
      "[NbConvertApp] Writing 583607 bytes to /home/shailja/Courses/Notes/Python/Python-Bootcamp_Jose_Portilla/07-Errors and Exception Handling/03-ErrorsandExceptionsHomework-Solution.html\n",
      "[NbConvertApp] Converting notebook /home/shailja/Courses/Notes/Python/Python-Bootcamp_Jose_Portilla/07-Errors and Exception Handling/04-UnitTesting.ipynb to html\n",
      "[NbConvertApp] Writing 608664 bytes to /home/shailja/Courses/Notes/Python/Python-Bootcamp_Jose_Portilla/07-Errors and Exception Handling/04-UnitTesting.html\n",
      "[NbConvertApp] Converting notebook /home/shailja/Courses/Notes/Python/Python-Bootcamp_Jose_Portilla/09-Useful Functions/01-Map.ipynb to html\n",
      "[NbConvertApp] Writing 586996 bytes to /home/shailja/Courses/Notes/Python/Python-Bootcamp_Jose_Portilla/09-Useful Functions/01-Map.html\n",
      "[NbConvertApp] Converting notebook /home/shailja/Courses/Notes/Python/Python-Bootcamp_Jose_Portilla/09-Useful Functions/02-Reduce.ipynb to html\n",
      "[NbConvertApp] Writing 605071 bytes to /home/shailja/Courses/Notes/Python/Python-Bootcamp_Jose_Portilla/09-Useful Functions/02-Reduce.html\n",
      "[NbConvertApp] Converting notebook /home/shailja/Courses/Notes/Python/Python-Bootcamp_Jose_Portilla/09-Useful Functions/03-Filter.ipynb to html\n",
      "[NbConvertApp] Writing 580997 bytes to /home/shailja/Courses/Notes/Python/Python-Bootcamp_Jose_Portilla/09-Useful Functions/03-Filter.html\n",
      "[NbConvertApp] Converting notebook /home/shailja/Courses/Notes/Python/Python-Bootcamp_Jose_Portilla/09-Useful Functions/04-Zip.ipynb to html\n",
      "[NbConvertApp] Writing 587770 bytes to /home/shailja/Courses/Notes/Python/Python-Bootcamp_Jose_Portilla/09-Useful Functions/04-Zip.html\n",
      "[NbConvertApp] Converting notebook /home/shailja/Courses/Notes/Python/Python-Bootcamp_Jose_Portilla/09-Useful Functions/05-Enumerate.ipynb to html\n",
      "[NbConvertApp] Writing 581799 bytes to /home/shailja/Courses/Notes/Python/Python-Bootcamp_Jose_Portilla/09-Useful Functions/05-Enumerate.html\n",
      "[NbConvertApp] Converting notebook /home/shailja/Courses/Notes/Python/Python-Bootcamp_Jose_Portilla/09-Useful Functions/06-all_and_any.ipynb to html\n",
      "[NbConvertApp] Writing 580935 bytes to /home/shailja/Courses/Notes/Python/Python-Bootcamp_Jose_Portilla/09-Useful Functions/06-all_and_any.html\n",
      "[NbConvertApp] Converting notebook /home/shailja/Courses/Notes/Python/Python-Bootcamp_Jose_Portilla/09-Useful Functions/07-Complex.ipynb to html\n",
      "[NbConvertApp] Writing 580054 bytes to /home/shailja/Courses/Notes/Python/Python-Bootcamp_Jose_Portilla/09-Useful Functions/07-Complex.html\n",
      "[NbConvertApp] Converting notebook /home/shailja/Courses/Notes/Python/Python-Bootcamp_Jose_Portilla/09-Useful Functions/08-Built-inFunctionsAssessmentTest.ipynb to html\n",
      "[NbConvertApp] Writing 592565 bytes to /home/shailja/Courses/Notes/Python/Python-Bootcamp_Jose_Portilla/09-Useful Functions/08-Built-inFunctionsAssessmentTest.html\n",
      "[NbConvertApp] Converting notebook /home/shailja/Courses/Notes/Python/Python-Bootcamp_Jose_Portilla/09-Useful Functions/09-Built-inFunctionsAssessmentTest-Solution.ipynb to html\n",
      "[NbConvertApp] Writing 594980 bytes to /home/shailja/Courses/Notes/Python/Python-Bootcamp_Jose_Portilla/09-Useful Functions/09-Built-inFunctionsAssessmentTest-Solution.html\n",
      "[NbConvertApp] Converting notebook /home/shailja/Courses/Notes/Python/Python-Bootcamp_Jose_Portilla/13-Web Scraping/00-Guide-to-Web-Scraping.ipynb to html\n",
      "[NbConvertApp] Writing 738027 bytes to /home/shailja/Courses/Notes/Python/Python-Bootcamp_Jose_Portilla/13-Web Scraping/00-Guide-to-Web-Scraping.html\n",
      "[NbConvertApp] Converting notebook /home/shailja/Courses/Notes/Python/Python-Bootcamp_Jose_Portilla/13-Web Scraping/02-Web-Scraping-Exercise-Solutions.ipynb to html\n",
      "[NbConvertApp] Writing 635051 bytes to /home/shailja/Courses/Notes/Python/Python-Bootcamp_Jose_Portilla/13-Web Scraping/02-Web-Scraping-Exercise-Solutions.html\n",
      "[NbConvertApp] Converting notebook /home/shailja/Courses/Notes/Python/Python-Bootcamp_Jose_Portilla/15-PDFs and Spreadsheets/00-Working-with-CSV-Files.ipynb to html\n",
      "[NbConvertApp] Writing 611463 bytes to /home/shailja/Courses/Notes/Python/Python-Bootcamp_Jose_Portilla/15-PDFs and Spreadsheets/00-Working-with-CSV-Files.html\n",
      "[NbConvertApp] Converting notebook /home/shailja/Courses/Notes/Python/Python-Bootcamp_Jose_Portilla/15-PDFs and Spreadsheets/01-Working-with-PDFs.ipynb to html\n",
      "[NbConvertApp] Writing 607256 bytes to /home/shailja/Courses/Notes/Python/Python-Bootcamp_Jose_Portilla/15-PDFs and Spreadsheets/01-Working-with-PDFs.html\n",
      "[NbConvertApp] Converting notebook /home/shailja/Courses/Notes/Python/Python-Bootcamp_Jose_Portilla/15-PDFs and Spreadsheets/03-Pdfs-Spreadsheets-Puzzle-Solution.ipynb to html\n",
      "[NbConvertApp] Writing 597989 bytes to /home/shailja/Courses/Notes/Python/Python-Bootcamp_Jose_Portilla/15-PDFs and Spreadsheets/03-Pdfs-Spreadsheets-Puzzle-Solution.html\n",
      "[NbConvertApp] Converting notebook /home/shailja/Courses/Notes/Python/Python-Bootcamp_Jose_Portilla/03-Methods and Functions/01-Methods.ipynb to html\n",
      "[NbConvertApp] Writing 584283 bytes to /home/shailja/Courses/Notes/Python/Python-Bootcamp_Jose_Portilla/03-Methods and Functions/01-Methods.html\n",
      "[NbConvertApp] Converting notebook /home/shailja/Courses/Notes/Python/Python-Bootcamp_Jose_Portilla/03-Methods and Functions/02-Functions.ipynb to html\n",
      "[NbConvertApp] Writing 662249 bytes to /home/shailja/Courses/Notes/Python/Python-Bootcamp_Jose_Portilla/03-Methods and Functions/02-Functions.html\n",
      "[NbConvertApp] Converting notebook /home/shailja/Courses/Notes/Python/Python-Bootcamp_Jose_Portilla/03-Methods and Functions/04-FunctionPracticeExercises-Solutions.ipynb to html\n",
      "[NbConvertApp] Writing 652618 bytes to /home/shailja/Courses/Notes/Python/Python-Bootcamp_Jose_Portilla/03-Methods and Functions/04-FunctionPracticeExercises-Solutions.html\n",
      "[NbConvertApp] Converting notebook /home/shailja/Courses/Notes/Python/Python-Bootcamp_Jose_Portilla/03-Methods and Functions/05-Lambda-Expressions-Map-and-Filter.ipynb to html\n",
      "[NbConvertApp] Writing 610564 bytes to /home/shailja/Courses/Notes/Python/Python-Bootcamp_Jose_Portilla/03-Methods and Functions/05-Lambda-Expressions-Map-and-Filter.html\n",
      "[NbConvertApp] Converting notebook /home/shailja/Courses/Notes/Python/Python-Bootcamp_Jose_Portilla/03-Methods and Functions/06-NestedStatementsandScope.ipynb to html\n",
      "[NbConvertApp] Writing 597439 bytes to /home/shailja/Courses/Notes/Python/Python-Bootcamp_Jose_Portilla/03-Methods and Functions/06-NestedStatementsandScope.html\n",
      "[NbConvertApp] Converting notebook /home/shailja/Courses/Notes/Python/Python-Bootcamp_Jose_Portilla/03-Methods and Functions/07-args_and_kwargs.ipynb to html\n",
      "[NbConvertApp] Writing 594931 bytes to /home/shailja/Courses/Notes/Python/Python-Bootcamp_Jose_Portilla/03-Methods and Functions/07-args_and_kwargs.html\n",
      "[NbConvertApp] Converting notebook /home/shailja/Courses/Notes/Python/Python-Bootcamp_Jose_Portilla/03-Methods and Functions/08-FunctionsandMethodsHomework.ipynb to html\n",
      "[NbConvertApp] Writing 597669 bytes to /home/shailja/Courses/Notes/Python/Python-Bootcamp_Jose_Portilla/03-Methods and Functions/08-FunctionsandMethodsHomework.html\n",
      "[NbConvertApp] Converting notebook /home/shailja/Courses/Notes/Python/Python-Bootcamp_Jose_Portilla/03-Methods and Functions/09-FunctionsandMethodsHomework-Solutions.ipynb to html\n",
      "[NbConvertApp] Writing 604516 bytes to /home/shailja/Courses/Notes/Python/Python-Bootcamp_Jose_Portilla/03-Methods and Functions/09-FunctionsandMethodsHomework-Solutions.html\n",
      "[NbConvertApp] Converting notebook /home/shailja/Courses/Notes/Python/Python-Bootcamp_Jose_Portilla/17-Advanced Python Objects and Data Structures/01-AdvancedNumbers.ipynb to html\n",
      "[NbConvertApp] Writing 591581 bytes to /home/shailja/Courses/Notes/Python/Python-Bootcamp_Jose_Portilla/17-Advanced Python Objects and Data Structures/01-AdvancedNumbers.html\n",
      "[NbConvertApp] Converting notebook /home/shailja/Courses/Notes/Python/Python-Bootcamp_Jose_Portilla/17-Advanced Python Objects and Data Structures/02-AdvancedStrings.ipynb to html\n",
      "[NbConvertApp] Writing 606007 bytes to /home/shailja/Courses/Notes/Python/Python-Bootcamp_Jose_Portilla/17-Advanced Python Objects and Data Structures/02-AdvancedStrings.html\n",
      "[NbConvertApp] Converting notebook /home/shailja/Courses/Notes/Python/Python-Bootcamp_Jose_Portilla/17-Advanced Python Objects and Data Structures/03-AdvancedSets.ipynb to html\n",
      "[NbConvertApp] Writing 620006 bytes to /home/shailja/Courses/Notes/Python/Python-Bootcamp_Jose_Portilla/17-Advanced Python Objects and Data Structures/03-AdvancedSets.html\n",
      "[NbConvertApp] Converting notebook /home/shailja/Courses/Notes/Python/Python-Bootcamp_Jose_Portilla/17-Advanced Python Objects and Data Structures/04-AdvancedDictionaries.ipynb to html\n",
      "[NbConvertApp] Writing 587197 bytes to /home/shailja/Courses/Notes/Python/Python-Bootcamp_Jose_Portilla/17-Advanced Python Objects and Data Structures/04-AdvancedDictionaries.html\n",
      "[NbConvertApp] Converting notebook /home/shailja/Courses/Notes/Python/Python-Bootcamp_Jose_Portilla/17-Advanced Python Objects and Data Structures/05-AdvancedLists.ipynb to html\n",
      "[NbConvertApp] Writing 618939 bytes to /home/shailja/Courses/Notes/Python/Python-Bootcamp_Jose_Portilla/17-Advanced Python Objects and Data Structures/05-AdvancedLists.html\n",
      "[NbConvertApp] Converting notebook /home/shailja/Courses/Notes/Python/Python-Bootcamp_Jose_Portilla/17-Advanced Python Objects and Data Structures/07-AdvancedPythonObjectsTest-Solutions.ipynb to html\n",
      "[NbConvertApp] Writing 591772 bytes to /home/shailja/Courses/Notes/Python/Python-Bootcamp_Jose_Portilla/17-Advanced Python Objects and Data Structures/07-AdvancedPythonObjectsTest-Solutions.html\n",
      "[NbConvertApp] Converting notebook /home/shailja/Courses/Notes/Python/Python-Bootcamp_Jose_Portilla/17-Advanced Python Objects and Data Structures/08-BonusWithStatementContextManagers.ipynb to html\n",
      "[NbConvertApp] Writing 592266 bytes to /home/shailja/Courses/Notes/Python/Python-Bootcamp_Jose_Portilla/17-Advanced Python Objects and Data Structures/08-BonusWithStatementContextManagers.html\n",
      "[NbConvertApp] Converting notebook /home/shailja/Courses/Notes/Python/Python-Bootcamp_Jose_Portilla/16-Emailing with Python/00-Overview-of-Sending-Emails.ipynb to html\n",
      "[NbConvertApp] Writing 595986 bytes to /home/shailja/Courses/Notes/Python/Python-Bootcamp_Jose_Portilla/16-Emailing with Python/00-Overview-of-Sending-Emails.html\n",
      "[NbConvertApp] Converting notebook /home/shailja/Courses/Notes/Python/Python-Bootcamp_Jose_Portilla/16-Emailing with Python/01-Overview-of-Received-Emails.ipynb to html\n",
      "[NbConvertApp] Writing 603831 bytes to /home/shailja/Courses/Notes/Python/Python-Bootcamp_Jose_Portilla/16-Emailing with Python/01-Overview-of-Received-Emails.html\n",
      "[NbConvertApp] Converting notebook /home/shailja/Courses/Notes/Python/Python-Bootcamp_Jose_Portilla/16-Emailing with Python/02-Exercise-Ideas.ipynb to html\n",
      "[NbConvertApp] Writing 576208 bytes to /home/shailja/Courses/Notes/Python/Python-Bootcamp_Jose_Portilla/16-Emailing with Python/02-Exercise-Ideas.html\n",
      "[NbConvertApp] Converting notebook /home/shailja/Courses/Notes/Python/Python-Bootcamp_Jose_Portilla/05-Object Oriented Programming/01-ObjectOrientedProgramming.ipynb to html\n",
      "[NbConvertApp] Writing 630281 bytes to /home/shailja/Courses/Notes/Python/Python-Bootcamp_Jose_Portilla/05-Object Oriented Programming/01-ObjectOrientedProgramming.html\n",
      "[NbConvertApp] Converting notebook /home/shailja/Courses/Notes/Python/Python-Bootcamp_Jose_Portilla/05-Object Oriented Programming/03-ObjectOrientedProgrammingHomework-Solution.ipynb to html\n",
      "[NbConvertApp] Writing 588203 bytes to /home/shailja/Courses/Notes/Python/Python-Bootcamp_Jose_Portilla/05-Object Oriented Programming/03-ObjectOrientedProgrammingHomework-Solution.html\n",
      "[NbConvertApp] Converting notebook /home/shailja/Courses/Notes/Python/Python-Bootcamp_Jose_Portilla/05-Object Oriented Programming/05-OOPChallenge-Solution.ipynb to html\n",
      "[NbConvertApp] Writing 586724 bytes to /home/shailja/Courses/Notes/Python/Python-Bootcamp_Jose_Portilla/05-Object Oriented Programming/05-OOPChallenge-Solution.html\n",
      "[NbConvertApp] Converting notebook /home/shailja/Courses/Notes/Python/Python-Bootcamp_Jose_Portilla/01-Python Comparison Operators/01-ComparisonOperators.ipynb to html\n",
      "[NbConvertApp] Writing 593107 bytes to /home/shailja/Courses/Notes/Python/Python-Bootcamp_Jose_Portilla/01-Python Comparison Operators/01-ComparisonOperators.html\n",
      "[NbConvertApp] Converting notebook /home/shailja/Courses/Notes/Python/Python-Bootcamp_Jose_Portilla/01-Python Comparison Operators/02-ChainedComparisonOperators.ipynb to html\n",
      "[NbConvertApp] Writing 585706 bytes to /home/shailja/Courses/Notes/Python/Python-Bootcamp_Jose_Portilla/01-Python Comparison Operators/02-ChainedComparisonOperators.html\n",
      "[NbConvertApp] Converting notebook /home/shailja/Courses/Notes/Python/Python-Bootcamp_Jose_Portilla/11-Python Generators/01-IteratorsandGenerators.ipynb to html\n",
      "[NbConvertApp] Writing 602556 bytes to /home/shailja/Courses/Notes/Python/Python-Bootcamp_Jose_Portilla/11-Python Generators/01-IteratorsandGenerators.html\n",
      "[NbConvertApp] Converting notebook /home/shailja/Courses/Notes/Python/Python-Bootcamp_Jose_Portilla/11-Python Generators/03-IteratorsandGeneratorsHomework-Solution.ipynb to html\n",
      "[NbConvertApp] Writing 587569 bytes to /home/shailja/Courses/Notes/Python/Python-Bootcamp_Jose_Portilla/11-Python Generators/03-IteratorsandGeneratorsHomework-Solution.html\n",
      "[NbConvertApp] Converting notebook /home/shailja/Courses/Notes/Python/Python-Bootcamp_Jose_Portilla/19-Bonus Material Introduction to GUIs/01-Interact.ipynb to html\n",
      "[NbConvertApp] Writing 636367 bytes to /home/shailja/Courses/Notes/Python/Python-Bootcamp_Jose_Portilla/19-Bonus Material Introduction to GUIs/01-Interact.html\n",
      "[NbConvertApp] Converting notebook /home/shailja/Courses/Notes/Python/Python-Bootcamp_Jose_Portilla/19-Bonus Material Introduction to GUIs/02-WidgetBasics.ipynb to html\n",
      "[NbConvertApp] Writing 608774 bytes to /home/shailja/Courses/Notes/Python/Python-Bootcamp_Jose_Portilla/19-Bonus Material Introduction to GUIs/02-WidgetBasics.html\n",
      "[NbConvertApp] Converting notebook /home/shailja/Courses/Notes/Python/Python-Bootcamp_Jose_Portilla/19-Bonus Material Introduction to GUIs/03-WidgetList.ipynb to html\n",
      "[NbConvertApp] Writing 638390 bytes to /home/shailja/Courses/Notes/Python/Python-Bootcamp_Jose_Portilla/19-Bonus Material Introduction to GUIs/03-WidgetList.html\n",
      "[NbConvertApp] Converting notebook /home/shailja/Courses/Notes/Python/Python-Bootcamp_Jose_Portilla/19-Bonus Material Introduction to GUIs/04-WidgetEvents.ipynb to html\n",
      "[NbConvertApp] Writing 612163 bytes to /home/shailja/Courses/Notes/Python/Python-Bootcamp_Jose_Portilla/19-Bonus Material Introduction to GUIs/04-WidgetEvents.html\n",
      "[NbConvertApp] Converting notebook /home/shailja/Courses/Notes/Python/Python-Bootcamp_Jose_Portilla/19-Bonus Material Introduction to GUIs/05-WidgetStyling.ipynb to html\n",
      "[NbConvertApp] Writing 597620 bytes to /home/shailja/Courses/Notes/Python/Python-Bootcamp_Jose_Portilla/19-Bonus Material Introduction to GUIs/05-WidgetStyling.html\n",
      "[NbConvertApp] Converting notebook /home/shailja/Courses/Notes/Python/Python-Bootcamp_Jose_Portilla/19-Bonus Material Introduction to GUIs/06-CustomWidget.ipynb to html\n",
      "[NbConvertApp] Writing 698102 bytes to /home/shailja/Courses/Notes/Python/Python-Bootcamp_Jose_Portilla/19-Bonus Material Introduction to GUIs/06-CustomWidget.html\n",
      "[NbConvertApp] Converting notebook /home/shailja/Courses/Notes/Python/Python-Bootcamp_Jose_Portilla/19-Bonus Material Introduction to GUIs/07-AdvancedWidgetList.ipynb to html\n",
      "[NbConvertApp] Writing 603768 bytes to /home/shailja/Courses/Notes/Python/Python-Bootcamp_Jose_Portilla/19-Bonus Material Introduction to GUIs/07-AdvancedWidgetList.html\n",
      "[NbConvertApp] Converting notebook /home/shailja/Courses/Notes/Python/Python-Bootcamp_Jose_Portilla/19-Bonus Material Introduction to GUIs/08-AdvancedWidgetStylingwithLayout.ipynb to html\n",
      "[NbConvertApp] Writing 579510 bytes to /home/shailja/Courses/Notes/Python/Python-Bootcamp_Jose_Portilla/19-Bonus Material Introduction to GUIs/08-AdvancedWidgetStylingwithLayout.html\n",
      "[NbConvertApp] Converting notebook /home/shailja/Courses/Notes/Python/Python-Bootcamp_Jose_Portilla/04-Milestone Project-1/01-WarmUpProject.ipynb to html\n",
      "[NbConvertApp] Writing 637883 bytes to /home/shailja/Courses/Notes/Python/Python-Bootcamp_Jose_Portilla/04-Milestone Project-1/01-WarmUpProject.html\n",
      "[NbConvertApp] Converting notebook /home/shailja/Courses/Notes/Python/Python-Bootcamp_Jose_Portilla/04-Milestone Project-1/03-MilestoneProject1-CompleteWalkthroughSolution.ipynb to html\n",
      "[NbConvertApp] Writing 615118 bytes to /home/shailja/Courses/Notes/Python/Python-Bootcamp_Jose_Portilla/04-Milestone Project-1/03-MilestoneProject1-CompleteWalkthroughSolution.html\n",
      "[NbConvertApp] Converting notebook /home/shailja/Courses/Notes/Python/Python-Bootcamp_Jose_Portilla/14-Working with Images/00-Overview-of-Working-with-Images.ipynb to html\n",
      "[NbConvertApp] Writing 16110760 bytes to /home/shailja/Courses/Notes/Python/Python-Bootcamp_Jose_Portilla/14-Working with Images/00-Overview-of-Working-with-Images.html\n",
      "[NbConvertApp] Converting notebook /home/shailja/Courses/Notes/Python/Python-Bootcamp_Jose_Portilla/14-Working with Images/02-Image-Exercise-Solution.ipynb to html\n",
      "[NbConvertApp] Writing 864622 bytes to /home/shailja/Courses/Notes/Python/Python-Bootcamp_Jose_Portilla/14-Working with Images/02-Image-Exercise-Solution.html\n",
      "[NbConvertApp] Converting notebook /home/shailja/Courses/Notes/Python/Python-Bootcamp_Jose_Portilla/00-Jupyter Notebooks Guide/00-JupyterNotebooksGuide.ipynb to html\n",
      "[NbConvertApp] Writing 743114 bytes to /home/shailja/Courses/Notes/Python/Python-Bootcamp_Jose_Portilla/00-Jupyter Notebooks Guide/00-JupyterNotebooksGuide.html\n",
      "[NbConvertApp] Converting notebook /home/shailja/Courses/Notes/Python/Python-Bootcamp_Jose_Portilla/00-Python Object and Data Structure Basics/01-Numbers.ipynb to html\n",
      "[NbConvertApp] Writing 603399 bytes to /home/shailja/Courses/Notes/Python/Python-Bootcamp_Jose_Portilla/00-Python Object and Data Structure Basics/01-Numbers.html\n",
      "[NbConvertApp] Converting notebook /home/shailja/Courses/Notes/Python/Python-Bootcamp_Jose_Portilla/00-Python Object and Data Structure Basics/01-VariableAssignment.ipynb to html\n",
      "[NbConvertApp] Writing 599523 bytes to /home/shailja/Courses/Notes/Python/Python-Bootcamp_Jose_Portilla/00-Python Object and Data Structure Basics/01-VariableAssignment.html\n",
      "[NbConvertApp] Converting notebook /home/shailja/Courses/Notes/Python/Python-Bootcamp_Jose_Portilla/00-Python Object and Data Structure Basics/02-Strings.ipynb to html\n",
      "[NbConvertApp] Writing 633085 bytes to /home/shailja/Courses/Notes/Python/Python-Bootcamp_Jose_Portilla/00-Python Object and Data Structure Basics/02-Strings.html\n",
      "[NbConvertApp] Converting notebook /home/shailja/Courses/Notes/Python/Python-Bootcamp_Jose_Portilla/00-Python Object and Data Structure Basics/03-PrintFormattingwithStrings.ipynb to html\n",
      "[NbConvertApp] Writing 631072 bytes to /home/shailja/Courses/Notes/Python/Python-Bootcamp_Jose_Portilla/00-Python Object and Data Structure Basics/03-PrintFormattingwithStrings.html\n",
      "[NbConvertApp] Converting notebook /home/shailja/Courses/Notes/Python/Python-Bootcamp_Jose_Portilla/00-Python Object and Data Structure Basics/04-Lists.ipynb to html\n",
      "[NbConvertApp] Writing 620184 bytes to /home/shailja/Courses/Notes/Python/Python-Bootcamp_Jose_Portilla/00-Python Object and Data Structure Basics/04-Lists.html\n",
      "[NbConvertApp] Converting notebook /home/shailja/Courses/Notes/Python/Python-Bootcamp_Jose_Portilla/00-Python Object and Data Structure Basics/05-Dictionaries.ipynb to html\n",
      "[NbConvertApp] Writing 601885 bytes to /home/shailja/Courses/Notes/Python/Python-Bootcamp_Jose_Portilla/00-Python Object and Data Structure Basics/05-Dictionaries.html\n",
      "[NbConvertApp] Converting notebook /home/shailja/Courses/Notes/Python/Python-Bootcamp_Jose_Portilla/00-Python Object and Data Structure Basics/06-Tuples.ipynb to html\n",
      "[NbConvertApp] Writing 590396 bytes to /home/shailja/Courses/Notes/Python/Python-Bootcamp_Jose_Portilla/00-Python Object and Data Structure Basics/06-Tuples.html\n",
      "[NbConvertApp] Converting notebook /home/shailja/Courses/Notes/Python/Python-Bootcamp_Jose_Portilla/00-Python Object and Data Structure Basics/07-SetsandBooleans.ipynb to html\n",
      "[NbConvertApp] Writing 591504 bytes to /home/shailja/Courses/Notes/Python/Python-Bootcamp_Jose_Portilla/00-Python Object and Data Structure Basics/07-SetsandBooleans.html\n",
      "[NbConvertApp] Converting notebook /home/shailja/Courses/Notes/Python/Python-Bootcamp_Jose_Portilla/00-Python Object and Data Structure Basics/08-Files.ipynb to html\n",
      "[NbConvertApp] Writing 610265 bytes to /home/shailja/Courses/Notes/Python/Python-Bootcamp_Jose_Portilla/00-Python Object and Data Structure Basics/08-Files.html\n",
      "[NbConvertApp] Converting notebook /home/shailja/Courses/Notes/Python/Python-Bootcamp_Jose_Portilla/00-Python Object and Data Structure Basics/10-ObjectsandDataStructuresAssessmentTest-Solution.ipynb to html\n",
      "[NbConvertApp] Writing 632241 bytes to /home/shailja/Courses/Notes/Python/Python-Bootcamp_Jose_Portilla/00-Python Object and Data Structure Basics/10-ObjectsandDataStructuresAssessmentTest-Solution.html\n",
      "[NbConvertApp] Converting notebook /home/shailja/Courses/Notes/Python/Python-Bootcamp_Jose_Portilla/02-Python Statements/01-IntroductiontoPythonStatements.ipynb to html\n",
      "[NbConvertApp] Writing 579368 bytes to /home/shailja/Courses/Notes/Python/Python-Bootcamp_Jose_Portilla/02-Python Statements/01-IntroductiontoPythonStatements.html\n",
      "[NbConvertApp] Converting notebook /home/shailja/Courses/Notes/Python/Python-Bootcamp_Jose_Portilla/02-Python Statements/02-if,elif,andelseStatements.ipynb to html\n",
      "[NbConvertApp] Writing 586917 bytes to /home/shailja/Courses/Notes/Python/Python-Bootcamp_Jose_Portilla/02-Python Statements/02-if,elif,andelseStatements.html\n",
      "[NbConvertApp] Converting notebook /home/shailja/Courses/Notes/Python/Python-Bootcamp_Jose_Portilla/02-Python Statements/03-forLoops.ipynb to html\n",
      "[NbConvertApp] Writing 612167 bytes to /home/shailja/Courses/Notes/Python/Python-Bootcamp_Jose_Portilla/02-Python Statements/03-forLoops.html\n",
      "[NbConvertApp] Converting notebook /home/shailja/Courses/Notes/Python/Python-Bootcamp_Jose_Portilla/02-Python Statements/04-whileLoops.ipynb to html\n",
      "[NbConvertApp] Writing 589922 bytes to /home/shailja/Courses/Notes/Python/Python-Bootcamp_Jose_Portilla/02-Python Statements/04-whileLoops.html\n",
      "[NbConvertApp] Converting notebook /home/shailja/Courses/Notes/Python/Python-Bootcamp_Jose_Portilla/02-Python Statements/05-Useful-Operators.ipynb to html\n",
      "[NbConvertApp] Writing 613809 bytes to /home/shailja/Courses/Notes/Python/Python-Bootcamp_Jose_Portilla/02-Python Statements/05-Useful-Operators.html\n",
      "[NbConvertApp] Converting notebook /home/shailja/Courses/Notes/Python/Python-Bootcamp_Jose_Portilla/02-Python Statements/06-ListComprehensions.ipynb to html\n",
      "[NbConvertApp] Writing 587638 bytes to /home/shailja/Courses/Notes/Python/Python-Bootcamp_Jose_Portilla/02-Python Statements/06-ListComprehensions.html\n",
      "[NbConvertApp] Converting notebook /home/shailja/Courses/Notes/Python/Python-Bootcamp_Jose_Portilla/02-Python Statements/08-StatementsAssessmentTest-Solutions.ipynb to html\n",
      "[NbConvertApp] Writing 590141 bytes to /home/shailja/Courses/Notes/Python/Python-Bootcamp_Jose_Portilla/02-Python Statements/08-StatementsAssessmentTest-Solutions.html\n",
      "[NbConvertApp] Converting notebook /home/shailja/Courses/Notes/Python/Python-Bootcamp_Jose_Portilla/02-Python Statements/10-GuessingGameChallenge-Solution.ipynb to html\n",
      "[NbConvertApp] Writing 592673 bytes to /home/shailja/Courses/Notes/Python/Python-Bootcamp_Jose_Portilla/02-Python Statements/10-GuessingGameChallenge-Solution.html\n",
      "[NbConvertApp] Converting notebook /home/shailja/Courses/Notes/Python/Python-Bootcamp_Jose_Portilla/12-Advanced Python Modules/00-Collections-Module.ipynb to html\n",
      "[NbConvertApp] Writing 605971 bytes to /home/shailja/Courses/Notes/Python/Python-Bootcamp_Jose_Portilla/12-Advanced Python Modules/00-Collections-Module.html\n",
      "[NbConvertApp] Converting notebook /home/shailja/Courses/Notes/Python/Python-Bootcamp_Jose_Portilla/12-Advanced Python Modules/01-Opening-and-Reading-Files-Folders.ipynb to html\n",
      "[NbConvertApp] Writing 607400 bytes to /home/shailja/Courses/Notes/Python/Python-Bootcamp_Jose_Portilla/12-Advanced Python Modules/01-Opening-and-Reading-Files-Folders.html\n",
      "[NbConvertApp] Converting notebook /home/shailja/Courses/Notes/Python/Python-Bootcamp_Jose_Portilla/12-Advanced Python Modules/02-Datetime-Module.ipynb to html\n",
      "[NbConvertApp] Writing 593765 bytes to /home/shailja/Courses/Notes/Python/Python-Bootcamp_Jose_Portilla/12-Advanced Python Modules/02-Datetime-Module.html\n",
      "[NbConvertApp] Converting notebook /home/shailja/Courses/Notes/Python/Python-Bootcamp_Jose_Portilla/12-Advanced Python Modules/03-Math-and-Random-Module.ipynb to html\n",
      "[NbConvertApp] Writing 636857 bytes to /home/shailja/Courses/Notes/Python/Python-Bootcamp_Jose_Portilla/12-Advanced Python Modules/03-Math-and-Random-Module.html\n",
      "[NbConvertApp] Converting notebook /home/shailja/Courses/Notes/Python/Python-Bootcamp_Jose_Portilla/12-Advanced Python Modules/04-PythonDebugger_pdb.ipynb to html\n",
      "[NbConvertApp] Writing 587885 bytes to /home/shailja/Courses/Notes/Python/Python-Bootcamp_Jose_Portilla/12-Advanced Python Modules/04-PythonDebugger_pdb.html\n",
      "[NbConvertApp] Converting notebook /home/shailja/Courses/Notes/Python/Python-Bootcamp_Jose_Portilla/12-Advanced Python Modules/05-Overview-of-Regular-Expressions.ipynb to html\n",
      "[NbConvertApp] Writing 651046 bytes to /home/shailja/Courses/Notes/Python/Python-Bootcamp_Jose_Portilla/12-Advanced Python Modules/05-Overview-of-Regular-Expressions.html\n",
      "[NbConvertApp] Converting notebook /home/shailja/Courses/Notes/Python/Python-Bootcamp_Jose_Portilla/12-Advanced Python Modules/06-Timingyourcode-timeit.ipynb to html\n",
      "[NbConvertApp] Writing 600963 bytes to /home/shailja/Courses/Notes/Python/Python-Bootcamp_Jose_Portilla/12-Advanced Python Modules/06-Timingyourcode-timeit.html\n",
      "[NbConvertApp] Converting notebook /home/shailja/Courses/Notes/Python/Python-Bootcamp_Jose_Portilla/12-Advanced Python Modules/07-Unzipping-and-Zipping-Files.ipynb to html\n",
      "[NbConvertApp] Writing 592373 bytes to /home/shailja/Courses/Notes/Python/Python-Bootcamp_Jose_Portilla/12-Advanced Python Modules/07-Unzipping-and-Zipping-Files.html\n",
      "[NbConvertApp] Converting notebook /home/shailja/Courses/Notes/Python/Python-Bootcamp_Jose_Portilla/12-Advanced Python Modules/08-Advanced-Modules-Exercise-Solutions.ipynb to html\n",
      "[NbConvertApp] Writing 592557 bytes to /home/shailja/Courses/Notes/Python/Python-Bootcamp_Jose_Portilla/12-Advanced Python Modules/08-Advanced-Modules-Exercise-Solutions.html\n",
      "[NbConvertApp] Converting notebook /home/shailja/Courses/Notes/Python/Python-Bootcamp_Jose_Portilla/12-Advanced Python Modules/Exercise/07-Advanced-Modules-Exercise.ipynb to html\n",
      "[NbConvertApp] Writing 575945 bytes to /home/shailja/Courses/Notes/Python/Python-Bootcamp_Jose_Portilla/12-Advanced Python Modules/Exercise/07-Advanced-Modules-Exercise.html\n",
      "[NbConvertApp] Converting notebook /home/shailja/Courses/Notes/Python/Python-Bootcamp_Jose_Portilla/06-Modules and Packages/00-UsefulInfoNotebook.ipynb to html\n",
      "[NbConvertApp] Writing 587607 bytes to /home/shailja/Courses/Notes/Python/Python-Bootcamp_Jose_Portilla/06-Modules and Packages/00-UsefulInfoNotebook.html\n"
     ]
    }
   ],
   "source": [
    "html_files_name = jupiter_to_html(initial_dir)"
   ]
  },
  {
   "cell_type": "markdown",
   "metadata": {},
   "source": [
    "### modifying the file name to get the main title"
   ]
  },
  {
   "cell_type": "code",
   "execution_count": 5,
   "metadata": {},
   "outputs": [],
   "source": [
    "html_files_name = sorted(html_files_name)"
   ]
  },
  {
   "cell_type": "code",
   "execution_count": 6,
   "metadata": {},
   "outputs": [
    {
     "data": {
      "text/plain": [
       "['Python-Bootcamp_Jose_Portilla/00-Jupyter\\\\ Notebooks\\\\ Guide/00-JupyterNotebooksGuide.html',\n",
       " 'Python-Bootcamp_Jose_Portilla/00-Python\\\\ Object\\\\ and\\\\ Data\\\\ Structure\\\\ Basics/01-Numbers.html',\n",
       " 'Python-Bootcamp_Jose_Portilla/00-Python\\\\ Object\\\\ and\\\\ Data\\\\ Structure\\\\ Basics/01-VariableAssignment.html',\n",
       " 'Python-Bootcamp_Jose_Portilla/00-Python\\\\ Object\\\\ and\\\\ Data\\\\ Structure\\\\ Basics/02-Strings.html',\n",
       " 'Python-Bootcamp_Jose_Portilla/00-Python\\\\ Object\\\\ and\\\\ Data\\\\ Structure\\\\ Basics/03-PrintFormattingwithStrings.html',\n",
       " 'Python-Bootcamp_Jose_Portilla/00-Python\\\\ Object\\\\ and\\\\ Data\\\\ Structure\\\\ Basics/04-Lists.html',\n",
       " 'Python-Bootcamp_Jose_Portilla/00-Python\\\\ Object\\\\ and\\\\ Data\\\\ Structure\\\\ Basics/05-Dictionaries.html',\n",
       " 'Python-Bootcamp_Jose_Portilla/00-Python\\\\ Object\\\\ and\\\\ Data\\\\ Structure\\\\ Basics/06-Tuples.html',\n",
       " 'Python-Bootcamp_Jose_Portilla/00-Python\\\\ Object\\\\ and\\\\ Data\\\\ Structure\\\\ Basics/07-SetsandBooleans.html',\n",
       " 'Python-Bootcamp_Jose_Portilla/00-Python\\\\ Object\\\\ and\\\\ Data\\\\ Structure\\\\ Basics/08-Files.html',\n",
       " 'Python-Bootcamp_Jose_Portilla/00-Python\\\\ Object\\\\ and\\\\ Data\\\\ Structure\\\\ Basics/10-ObjectsandDataStructuresAssessmentTest-Solution.html',\n",
       " 'Python-Bootcamp_Jose_Portilla/01-Python\\\\ Comparison\\\\ Operators/01-ComparisonOperators.html',\n",
       " 'Python-Bootcamp_Jose_Portilla/01-Python\\\\ Comparison\\\\ Operators/02-ChainedComparisonOperators.html',\n",
       " 'Python-Bootcamp_Jose_Portilla/02-Python\\\\ Statements/01-IntroductiontoPythonStatements.html',\n",
       " 'Python-Bootcamp_Jose_Portilla/02-Python\\\\ Statements/02-if,elif,andelseStatements.html',\n",
       " 'Python-Bootcamp_Jose_Portilla/02-Python\\\\ Statements/03-forLoops.html',\n",
       " 'Python-Bootcamp_Jose_Portilla/02-Python\\\\ Statements/04-whileLoops.html',\n",
       " 'Python-Bootcamp_Jose_Portilla/02-Python\\\\ Statements/05-Useful-Operators.html',\n",
       " 'Python-Bootcamp_Jose_Portilla/02-Python\\\\ Statements/06-ListComprehensions.html',\n",
       " 'Python-Bootcamp_Jose_Portilla/02-Python\\\\ Statements/08-StatementsAssessmentTest-Solutions.html',\n",
       " 'Python-Bootcamp_Jose_Portilla/02-Python\\\\ Statements/10-GuessingGameChallenge-Solution.html',\n",
       " 'Python-Bootcamp_Jose_Portilla/03-Methods\\\\ and\\\\ Functions/01-Methods.html',\n",
       " 'Python-Bootcamp_Jose_Portilla/03-Methods\\\\ and\\\\ Functions/02-Functions.html',\n",
       " 'Python-Bootcamp_Jose_Portilla/03-Methods\\\\ and\\\\ Functions/04-FunctionPracticeExercises-Solutions.html',\n",
       " 'Python-Bootcamp_Jose_Portilla/03-Methods\\\\ and\\\\ Functions/05-Lambda-Expressions-Map-and-Filter.html',\n",
       " 'Python-Bootcamp_Jose_Portilla/03-Methods\\\\ and\\\\ Functions/06-NestedStatementsandScope.html',\n",
       " 'Python-Bootcamp_Jose_Portilla/03-Methods\\\\ and\\\\ Functions/07-args_and_kwargs.html',\n",
       " 'Python-Bootcamp_Jose_Portilla/03-Methods\\\\ and\\\\ Functions/08-FunctionsandMethodsHomework.html',\n",
       " 'Python-Bootcamp_Jose_Portilla/03-Methods\\\\ and\\\\ Functions/09-FunctionsandMethodsHomework-Solutions.html',\n",
       " 'Python-Bootcamp_Jose_Portilla/04-Milestone\\\\ Project-1/01-WarmUpProject.html',\n",
       " 'Python-Bootcamp_Jose_Portilla/04-Milestone\\\\ Project-1/03-MilestoneProject1-CompleteWalkthroughSolution.html',\n",
       " 'Python-Bootcamp_Jose_Portilla/05-Object\\\\ Oriented\\\\ Programming/01-ObjectOrientedProgramming.html',\n",
       " 'Python-Bootcamp_Jose_Portilla/05-Object\\\\ Oriented\\\\ Programming/03-ObjectOrientedProgrammingHomework-Solution.html',\n",
       " 'Python-Bootcamp_Jose_Portilla/05-Object\\\\ Oriented\\\\ Programming/05-OOPChallenge-Solution.html',\n",
       " 'Python-Bootcamp_Jose_Portilla/06-Modules\\\\ and\\\\ Packages/00-UsefulInfoNotebook.html',\n",
       " 'Python-Bootcamp_Jose_Portilla/07-Errors\\\\ and\\\\ Exception\\\\ Handling/01-ErrorsandExceptionsHandling.html',\n",
       " 'Python-Bootcamp_Jose_Portilla/07-Errors\\\\ and\\\\ Exception\\\\ Handling/02-ErrorsandExceptionsHomework.html',\n",
       " 'Python-Bootcamp_Jose_Portilla/07-Errors\\\\ and\\\\ Exception\\\\ Handling/03-ErrorsandExceptionsHomework-Solution.html',\n",
       " 'Python-Bootcamp_Jose_Portilla/07-Errors\\\\ and\\\\ Exception\\\\ Handling/04-UnitTesting.html',\n",
       " 'Python-Bootcamp_Jose_Portilla/08-Milestone\\\\ Project-2/00-Milestone_2WarmupProject.html',\n",
       " 'Python-Bootcamp_Jose_Portilla/08-Milestone\\\\ Project-2/01-MilestoneProject2-Assignment.html',\n",
       " 'Python-Bootcamp_Jose_Portilla/08-Milestone\\\\ Project-2/03-MilestoneProject2-CompleteWalkthroughSolution.html',\n",
       " 'Python-Bootcamp_Jose_Portilla/09-Useful\\\\ Functions/01-Map.html',\n",
       " 'Python-Bootcamp_Jose_Portilla/09-Useful\\\\ Functions/02-Reduce.html',\n",
       " 'Python-Bootcamp_Jose_Portilla/09-Useful\\\\ Functions/03-Filter.html',\n",
       " 'Python-Bootcamp_Jose_Portilla/09-Useful\\\\ Functions/04-Zip.html',\n",
       " 'Python-Bootcamp_Jose_Portilla/09-Useful\\\\ Functions/05-Enumerate.html',\n",
       " 'Python-Bootcamp_Jose_Portilla/09-Useful\\\\ Functions/06-all_and_any.html',\n",
       " 'Python-Bootcamp_Jose_Portilla/09-Useful\\\\ Functions/07-Complex.html',\n",
       " 'Python-Bootcamp_Jose_Portilla/09-Useful\\\\ Functions/08-Built-inFunctionsAssessmentTest.html',\n",
       " 'Python-Bootcamp_Jose_Portilla/09-Useful\\\\ Functions/09-Built-inFunctionsAssessmentTest-Solution.html',\n",
       " 'Python-Bootcamp_Jose_Portilla/10-Python\\\\ Decorators/01-Decorators.html',\n",
       " 'Python-Bootcamp_Jose_Portilla/10-Python\\\\ Decorators/02-DecoratorsHomework.html',\n",
       " 'Python-Bootcamp_Jose_Portilla/11-Python\\\\ Generators/01-IteratorsandGenerators.html',\n",
       " 'Python-Bootcamp_Jose_Portilla/11-Python\\\\ Generators/03-IteratorsandGeneratorsHomework-Solution.html',\n",
       " 'Python-Bootcamp_Jose_Portilla/12-Advanced\\\\ Python\\\\ Modules/00-Collections-Module.html',\n",
       " 'Python-Bootcamp_Jose_Portilla/12-Advanced\\\\ Python\\\\ Modules/01-Opening-and-Reading-Files-Folders.html',\n",
       " 'Python-Bootcamp_Jose_Portilla/12-Advanced\\\\ Python\\\\ Modules/02-Datetime-Module.html',\n",
       " 'Python-Bootcamp_Jose_Portilla/12-Advanced\\\\ Python\\\\ Modules/03-Math-and-Random-Module.html',\n",
       " 'Python-Bootcamp_Jose_Portilla/12-Advanced\\\\ Python\\\\ Modules/04-PythonDebugger_pdb.html',\n",
       " 'Python-Bootcamp_Jose_Portilla/12-Advanced\\\\ Python\\\\ Modules/05-Overview-of-Regular-Expressions.html',\n",
       " 'Python-Bootcamp_Jose_Portilla/12-Advanced\\\\ Python\\\\ Modules/06-Timingyourcode-timeit.html',\n",
       " 'Python-Bootcamp_Jose_Portilla/12-Advanced\\\\ Python\\\\ Modules/07-Unzipping-and-Zipping-Files.html',\n",
       " 'Python-Bootcamp_Jose_Portilla/12-Advanced\\\\ Python\\\\ Modules/08-Advanced-Modules-Exercise-Solutions.html',\n",
       " 'Python-Bootcamp_Jose_Portilla/12-Advanced\\\\ Python\\\\ Modules/Exercise/07-Advanced-Modules-Exercise.html',\n",
       " 'Python-Bootcamp_Jose_Portilla/13-Web\\\\ Scraping/00-Guide-to-Web-Scraping.html',\n",
       " 'Python-Bootcamp_Jose_Portilla/13-Web\\\\ Scraping/02-Web-Scraping-Exercise-Solutions.html',\n",
       " 'Python-Bootcamp_Jose_Portilla/14-Working\\\\ with\\\\ Images/00-Overview-of-Working-with-Images.html',\n",
       " 'Python-Bootcamp_Jose_Portilla/14-Working\\\\ with\\\\ Images/02-Image-Exercise-Solution.html',\n",
       " 'Python-Bootcamp_Jose_Portilla/15-PDFs\\\\ and\\\\ Spreadsheets/00-Working-with-CSV-Files.html',\n",
       " 'Python-Bootcamp_Jose_Portilla/15-PDFs\\\\ and\\\\ Spreadsheets/01-Working-with-PDFs.html',\n",
       " 'Python-Bootcamp_Jose_Portilla/15-PDFs\\\\ and\\\\ Spreadsheets/03-Pdfs-Spreadsheets-Puzzle-Solution.html',\n",
       " 'Python-Bootcamp_Jose_Portilla/16-Emailing\\\\ with\\\\ Python/00-Overview-of-Sending-Emails.html',\n",
       " 'Python-Bootcamp_Jose_Portilla/16-Emailing\\\\ with\\\\ Python/01-Overview-of-Received-Emails.html',\n",
       " 'Python-Bootcamp_Jose_Portilla/16-Emailing\\\\ with\\\\ Python/02-Exercise-Ideas.html',\n",
       " 'Python-Bootcamp_Jose_Portilla/17-Advanced\\\\ Python\\\\ Objects\\\\ and\\\\ Data\\\\ Structures/01-AdvancedNumbers.html',\n",
       " 'Python-Bootcamp_Jose_Portilla/17-Advanced\\\\ Python\\\\ Objects\\\\ and\\\\ Data\\\\ Structures/02-AdvancedStrings.html',\n",
       " 'Python-Bootcamp_Jose_Portilla/17-Advanced\\\\ Python\\\\ Objects\\\\ and\\\\ Data\\\\ Structures/03-AdvancedSets.html',\n",
       " 'Python-Bootcamp_Jose_Portilla/17-Advanced\\\\ Python\\\\ Objects\\\\ and\\\\ Data\\\\ Structures/04-AdvancedDictionaries.html',\n",
       " 'Python-Bootcamp_Jose_Portilla/17-Advanced\\\\ Python\\\\ Objects\\\\ and\\\\ Data\\\\ Structures/05-AdvancedLists.html',\n",
       " 'Python-Bootcamp_Jose_Portilla/17-Advanced\\\\ Python\\\\ Objects\\\\ and\\\\ Data\\\\ Structures/07-AdvancedPythonObjectsTest-Solutions.html',\n",
       " 'Python-Bootcamp_Jose_Portilla/17-Advanced\\\\ Python\\\\ Objects\\\\ and\\\\ Data\\\\ Structures/08-BonusWithStatementContextManagers.html',\n",
       " 'Python-Bootcamp_Jose_Portilla/18-Milestone\\\\ Project-3/02-FinalCapstoneProjectIdeas.html',\n",
       " 'Python-Bootcamp_Jose_Portilla/19-Bonus\\\\ Material\\\\ Introduction\\\\ to\\\\ GUIs/01-Interact.html',\n",
       " 'Python-Bootcamp_Jose_Portilla/19-Bonus\\\\ Material\\\\ Introduction\\\\ to\\\\ GUIs/02-WidgetBasics.html',\n",
       " 'Python-Bootcamp_Jose_Portilla/19-Bonus\\\\ Material\\\\ Introduction\\\\ to\\\\ GUIs/03-WidgetList.html',\n",
       " 'Python-Bootcamp_Jose_Portilla/19-Bonus\\\\ Material\\\\ Introduction\\\\ to\\\\ GUIs/04-WidgetEvents.html',\n",
       " 'Python-Bootcamp_Jose_Portilla/19-Bonus\\\\ Material\\\\ Introduction\\\\ to\\\\ GUIs/05-WidgetStyling.html',\n",
       " 'Python-Bootcamp_Jose_Portilla/19-Bonus\\\\ Material\\\\ Introduction\\\\ to\\\\ GUIs/06-CustomWidget.html',\n",
       " 'Python-Bootcamp_Jose_Portilla/19-Bonus\\\\ Material\\\\ Introduction\\\\ to\\\\ GUIs/07-AdvancedWidgetList.html',\n",
       " 'Python-Bootcamp_Jose_Portilla/19-Bonus\\\\ Material\\\\ Introduction\\\\ to\\\\ GUIs/08-AdvancedWidgetStylingwithLayout.html']"
      ]
     },
     "execution_count": 6,
     "metadata": {},
     "output_type": "execute_result"
    }
   ],
   "source": [
    "html_files_name"
   ]
  },
  {
   "cell_type": "code",
   "execution_count": 7,
   "metadata": {},
   "outputs": [],
   "source": [
    "def get_keyword(lar_name):\n",
    "    key_word = ' '.join(lar_name.split('/')[2].split('-')[1:]).split('.')[0]\n",
    "    return re.sub(r\"(\\w)([A-Z])\", r\"\\1 \\2\", key_word)\n",
    "\n",
    "def get_head_name(lar_name):\n",
    "    head_name = ' '.join(lar_name.split('/')[1].split('-')[1:]).split('.')[0]\n",
    "    return head_name.replace(\"\\\\\", \"\")"
   ]
  },
  {
   "cell_type": "code",
   "execution_count": 8,
   "metadata": {},
   "outputs": [
    {
     "data": {
      "text/plain": [
       "'Warm Up Project Exercises'"
      ]
     },
     "execution_count": 8,
     "metadata": {},
     "output_type": "execute_result"
    }
   ],
   "source": [
    "get_keyword('Python-Bootcamp_Jose_Portilla/04-Milestone\\\\ Project-1/01-WarmUpProjectExercises.html')"
   ]
  },
  {
   "cell_type": "markdown",
   "metadata": {},
   "source": [
    "### adding all the files in different list tag and then combining them in a single row"
   ]
  },
  {
   "cell_type": "code",
   "execution_count": 9,
   "metadata": {},
   "outputs": [],
   "source": [
    "list = \"\"\"\n",
    "    <li>\n",
    "        <a href=\"{html_files_loc}\" target=\"blank\">{filename_keyword}</a>\n",
    "    </li>\n",
    "    \"\"\""
   ]
  },
  {
   "cell_type": "code",
   "execution_count": 10,
   "metadata": {},
   "outputs": [],
   "source": [
    "list_container = \"\"\"\n",
    "    <div class='container mt-2'>\n",
    "        <h6 id='head_name'> {head_name} </h6>\n",
    "        {list}\n",
    "    </div>\n",
    "    \"\"\""
   ]
  },
  {
   "cell_type": "code",
   "execution_count": 11,
   "metadata": {},
   "outputs": [],
   "source": [
    "row  = \"\"\"\n",
    "<div class=\"row\">\n",
    "    <div class=\"col-6 d-md-inline-flex  align-items-start \">\n",
    "        <h2 my-4>{sub_topic}</h2>\n",
    "    </div>\n",
    "    <div class=\"col-6\">\n",
    "        <ol>\n",
    "            {list_container}\n",
    "        </ol>\n",
    "    </div>\n",
    "    <hr size=\"10px\">\n",
    "</div>\n",
    "\"\"\""
   ]
  },
  {
   "cell_type": "code",
   "execution_count": 12,
   "metadata": {},
   "outputs": [],
   "source": [
    "sub_topic = \"Python Bootcamp by <i>Jose Portilla</i>\""
   ]
  },
  {
   "cell_type": "code",
   "execution_count": 13,
   "metadata": {},
   "outputs": [],
   "source": [
    "prev = 'Jupyter Notebooks Guide'\n",
    "list_ = ''\n",
    "details=''\n",
    "i=0\n",
    "for file in html_files_name:\n",
    "    if ('Exercise.html' in file) or ('Exercises.html' in file)  or ('Assessment.html' in file):\n",
    "        continue\n",
    "    if prev == get_head_name(file):\n",
    "        list_ += list.format(html_files_loc=file.replace(\"\\\\\", \"\"), filename_keyword=get_keyword(file))\n",
    "    else:  \n",
    "        #print(list_)\n",
    "        list_container_ = list_container.format(head_name=prev, list=list_)\n",
    "        prev = get_head_name(file)\n",
    "        #print(prev)\n",
    "        details += list_container_\n",
    "        \n",
    "        list_ = list.format(html_files_loc=file.replace(\"\\\\\", \"\"), filename_keyword=get_keyword(file))\n",
    "#adding the last folder out of the loop\n",
    "list_container_ = list_container.format(head_name=prev, list=list_)\n",
    "details += list_container_\n",
    "row_ = row.format(sub_topic=sub_topic, list_container=details)"
   ]
  },
  {
   "cell_type": "code",
   "execution_count": 14,
   "metadata": {},
   "outputs": [],
   "source": [
    "with open(os.path.join(initial_dir,'index.html'), 'r+') as f :\n",
    "\n",
    "    text_ = \"\"\n",
    "    for line in f:\n",
    "\n",
    "        # adding udemy row to the index.html\n",
    "        if line.strip().startswith('<!-- Add Udemy rows here -->'):\n",
    "            text_ = text_ + row_\n",
    "\n",
    "        text_= text_ + line\n",
    "\n",
    "    f.seek(0)\n",
    "    f.write(text_)\n",
    "    f.close()"
   ]
  }
 ],
 "metadata": {
  "kernelspec": {
   "display_name": "Python 3.10.4 ('mlearning')",
   "language": "python",
   "name": "python3"
  },
  "language_info": {
   "codemirror_mode": {
    "name": "ipython",
    "version": 3
   },
   "file_extension": ".py",
   "mimetype": "text/x-python",
   "name": "python",
   "nbconvert_exporter": "python",
   "pygments_lexer": "ipython3",
   "version": "3.10.4"
  },
  "orig_nbformat": 4,
  "vscode": {
   "interpreter": {
    "hash": "1eb649f6f8cececb32e27a7c74ff0c8a2304f0589778cec0736ca47bbe35202a"
   }
  }
 },
 "nbformat": 4,
 "nbformat_minor": 2
}
