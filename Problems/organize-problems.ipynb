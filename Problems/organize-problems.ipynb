{
 "cells": [
  {
   "cell_type": "markdown",
   "metadata": {},
   "source": [
    "## LeetCode"
   ]
  },
  {
   "cell_type": "code",
   "execution_count": 101,
   "metadata": {},
   "outputs": [],
   "source": [
    "toughness = '1-Easy'   # #change as per need from 1-Easy 2-Medium 3-Hard\n",
    "start = 1\n",
    "end = 10   # change as per need in gap of 10-10 notebooks\n",
    "website = \"LeetCode\"   # LeetCode GeekForGeeks"
   ]
  },
  {
   "cell_type": "code",
   "execution_count": 102,
   "metadata": {},
   "outputs": [],
   "source": [
    "from html_setup.notebook import Notebook\n",
    "import os\n",
    "f = Notebook(os.path.join(website,toughness))    "
   ]
  },
  {
   "cell_type": "markdown",
   "metadata": {},
   "source": [
    "### Convert into html in a group of 10-10 notebooks"
   ]
  },
  {
   "cell_type": "code",
   "execution_count": 104,
   "metadata": {},
   "outputs": [
    {
     "name": "stdout",
     "output_type": "stream",
     "text": [
      "Converting 6-Merge Two Sorted Lists.ipynb\n",
      "Converting 9-Implement strStr().ipynb\n",
      "Converting 5-Valid Parentheses.ipynb\n",
      "Converting 3-Roman to Integer.ipynb\n",
      "Converting 7-Remove Duplicates from Sorted Array.ipynb\n",
      "Converting 1-Two Sum.ipynb\n",
      "Converting 2-Palindrome Number.ipynb\n",
      "Converting 8-Remove Element.ipynb\n",
      "Converting 4-Longest Common Prefix.ipynb\n",
      "Converting 10-Search Insert Position.ipynb\n"
     ]
    }
   ],
   "source": [
    "outputs = []\n",
    "for folder, _, files in os.walk(os.path.join(website,toughness)):   \n",
    "    for file in files:\n",
    "        if file.endswith('.ipynb'):\n",
    "            file_path = os.path.join(folder, file)\n",
    "            if \".ipynb_checkpoints\" in file_path:\n",
    "                continue\n",
    "            if \"__pycache__\" in file_path:\n",
    "                continue\n",
    "            if (int(file.split('-')[0]) < start) or (int(file.split('-')[0]) > end):\n",
    "                continue\n",
    "            \n",
    "            print(f\"Converting {file}\")\n",
    "            try:\n",
    "                output = f.export_notebook(file_path)\n",
    "                outputs.append(output)\n",
    "            except Exception as e:\n",
    "                print(f\"Error converting {file}\")\n",
    "                print(e)"
   ]
  },
  {
   "cell_type": "markdown",
   "metadata": {},
   "source": [
    "### Adding them to index"
   ]
  },
  {
   "cell_type": "code",
   "execution_count": 105,
   "metadata": {},
   "outputs": [],
   "source": [
    "# arranging them according to their numbering\n",
    "outputs.sort(key=lambda x:int(x.split('/')[2].split('-')[0]))  "
   ]
  },
  {
   "cell_type": "code",
   "execution_count": 106,
   "metadata": {},
   "outputs": [
    {
     "data": {
      "text/plain": [
       "['LeetCode/1-Easy/1-Two Sum.html',\n",
       " 'LeetCode/1-Easy/2-Palindrome Number.html',\n",
       " 'LeetCode/1-Easy/3-Roman to Integer.html',\n",
       " 'LeetCode/1-Easy/4-Longest Common Prefix.html',\n",
       " 'LeetCode/1-Easy/5-Valid Parentheses.html',\n",
       " 'LeetCode/1-Easy/6-Merge Two Sorted Lists.html',\n",
       " 'LeetCode/1-Easy/7-Remove Duplicates from Sorted Array.html',\n",
       " 'LeetCode/1-Easy/8-Remove Element.html',\n",
       " 'LeetCode/1-Easy/9-Implement strStr().html',\n",
       " 'LeetCode/1-Easy/10-Search Insert Position.html']"
      ]
     },
     "execution_count": 106,
     "metadata": {},
     "output_type": "execute_result"
    }
   ],
   "source": [
    "outputs"
   ]
  },
  {
   "cell_type": "code",
   "execution_count": 107,
   "metadata": {},
   "outputs": [
    {
     "data": {
      "text/plain": [
       "'Search Insert Position'"
      ]
     },
     "execution_count": 107,
     "metadata": {},
     "output_type": "execute_result"
    }
   ],
   "source": [
    "'LeetCode/1-Easy/10-Search Insert Position.html'.split('/')[-1].split('.')[0].split('-')[1]"
   ]
  },
  {
   "cell_type": "code",
   "execution_count": 108,
   "metadata": {},
   "outputs": [
    {
     "name": "stdout",
     "output_type": "stream",
     "text": [
      "\n",
      "        <a class=\"dropdown-item\" target='blank' class='links' href=\"Problems/LeetCode/1-Easy/1-Two Sum.html\">Two Sum</a>\n",
      "        \n",
      "        <a class=\"dropdown-item\" target='blank' class='links' href=\"Problems/LeetCode/1-Easy/2-Palindrome Number.html\">Palindrome Number</a>\n",
      "        \n",
      "        <a class=\"dropdown-item\" target='blank' class='links' href=\"Problems/LeetCode/1-Easy/3-Roman to Integer.html\">Roman to Integer</a>\n",
      "        \n",
      "        <a class=\"dropdown-item\" target='blank' class='links' href=\"Problems/LeetCode/1-Easy/4-Longest Common Prefix.html\">Longest Common Prefix</a>\n",
      "        \n",
      "        <a class=\"dropdown-item\" target='blank' class='links' href=\"Problems/LeetCode/1-Easy/5-Valid Parentheses.html\">Valid Parentheses</a>\n",
      "        \n",
      "        <a class=\"dropdown-item\" target='blank' class='links' href=\"Problems/LeetCode/1-Easy/6-Merge Two Sorted Lists.html\">Merge Two Sorted Lists</a>\n",
      "        \n",
      "        <a class=\"dropdown-item\" target='blank' class='links' href=\"Problems/LeetCode/1-Easy/7-Remove Duplicates from Sorted Array.html\">Remove Duplicates from Sorted Array</a>\n",
      "        \n",
      "        <a class=\"dropdown-item\" target='blank' class='links' href=\"Problems/LeetCode/1-Easy/8-Remove Element.html\">Remove Element</a>\n",
      "        \n",
      "        <a class=\"dropdown-item\" target='blank' class='links' href=\"Problems/LeetCode/1-Easy/9-Implement strStr().html\">Implement strStr()</a>\n",
      "        \n",
      "        <a class=\"dropdown-item\" target='blank' class='links' href=\"Problems/LeetCode/1-Easy/10-Search Insert Position.html\">Search Insert Position</a>\n",
      "        \n"
     ]
    }
   ],
   "source": [
    "string = ''\n",
    "for file_path in outputs:\n",
    "    if \".ipynb_checkpoints\" in file_path:\n",
    "        pass\n",
    "    else:\n",
    "        title = file_path.split(\"/\")[-1]\n",
    "        title = title.split(\".\")[0]\n",
    "        title = title.split(\"-\")[1]\n",
    "        txt = f\"\"\"\n",
    "        <a class=\"dropdown-item\" target='blank' class='links' href=\"Problems/{file_path}\">{title}</a>\n",
    "        \"\"\"\n",
    "        string += txt\n",
    "\n",
    "\n",
    "print(string)"
   ]
  }
 ],
 "metadata": {
  "kernelspec": {
   "display_name": "Python 3.10.4 ('my_env')",
   "language": "python",
   "name": "python3"
  },
  "language_info": {
   "codemirror_mode": {
    "name": "ipython",
    "version": 3
   },
   "file_extension": ".py",
   "mimetype": "text/x-python",
   "name": "python",
   "nbconvert_exporter": "python",
   "pygments_lexer": "ipython3",
   "version": "3.10.4"
  },
  "orig_nbformat": 4,
  "vscode": {
   "interpreter": {
    "hash": "333ad066d239af8659780667608f3e14a8c59d1eb92890b0405dfaef9e357b30"
   }
  }
 },
 "nbformat": 4,
 "nbformat_minor": 2
}
