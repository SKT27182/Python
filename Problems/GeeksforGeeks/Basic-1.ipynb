{
 "cells": [
  {
   "cell_type": "markdown",
   "metadata": {},
   "source": [
    "## Second Largest"
   ]
  },
  {
   "cell_type": "markdown",
   "metadata": {},
   "source": [
    "<div class=\"problems_problem_content__Xm_eO\"><p><span style=\"font-size:25px\">Given an array <strong>Arr</strong> of size <strong>N</strong>, print second largest element from an array.</span></p>\n",
    "\n",
    "<p><span style=\"font-size:25px\"><strong>Example 1:</strong></span></p>\n",
    "\n",
    "<pre><span style=\"font-size:25px\"><strong>Input:</strong> \n",
    "N = 6\n",
    "Arr[] = {12, 35, 1, 10, 34, 1}\n",
    "<strong>Output:</strong> 34\n",
    "<strong>Explanation: </strong>The largest element of the \n",
    "array is 35 and the second largest element\n",
    "is 34.</span></pre>\n",
    "\n",
    "<p><span style=\"font-size:25px\"><strong>Example 2:</strong></span></p>\n",
    "\n",
    "<pre><span style=\"font-size:25px\"><strong>Input:</strong> \n",
    "N = 3\n",
    "Arr[] = {10, 5, 10}\n",
    "<strong>Output:</strong> 5\n",
    "<strong>Explanation: </strong>The largest element of \n",
    "the array is 10 and the second \n",
    "largest element is 5.</span></pre>\n",
    "\n",
    "<p><span style=\"font-size:25px\"><strong>Your Task:</strong><br>\n",
    "You don't need to read input or print anything. Your task is to complete the function&nbsp;<strong>print2largest()</strong>&nbsp;which takes the&nbsp;array of&nbsp;integers&nbsp;<strong>arr&nbsp;</strong>and&nbsp;<strong>n</strong><strong>&nbsp;</strong>as parameters and returns an integer denoting the answer. If 2nd largest element doesn't exist&nbsp;then return -1.</span></p>\n",
    "\n",
    "<p><span style=\"font-size:25px\"><strong>Expected Time Complexity:</strong>&nbsp;O(N)<br>\n",
    "<strong>Expected Auxiliary Space:</strong>&nbsp;O(1)</span></p>\n",
    "\n",
    "<p><span style=\"font-size:25px\"><strong>Constraints:</strong><br>\n",
    "1 ≤ N ≤ 10<sup>5</sup><br>\n",
    "1 ≤ Arr<sub>i </sub>≤ 10<sup>5</sup></span></p>\n",
    "</div>"
   ]
  },
  {
   "cell_type": "code",
   "execution_count": 1,
   "metadata": {},
   "outputs": [
    {
     "name": "stdout",
     "output_type": "stream",
     "text": [
      "4\n"
     ]
    }
   ],
   "source": [
    "class Solution:\n",
    "\n",
    "    def print2largest(self, arr, n):\n",
    "        # code here\n",
    "        arr = sorted(arr)\n",
    "        for i in range(len(arr)-2, -1, -1):\n",
    "            if arr[i] < arr[i+1]:\n",
    "                return arr[i]\n",
    "            else:\n",
    "                pass\n",
    "        return -1\n",
    "\n",
    "\n",
    "sol = Solution()\n",
    "arr = [2, 4, 1, 3, 5]\n",
    "n = len(arr)\n",
    "print(sol.print2largest(arr, n))\n"
   ]
  },
  {
   "cell_type": "markdown",
   "metadata": {},
   "source": [
    "***"
   ]
  },
  {
   "cell_type": "markdown",
   "metadata": {},
   "source": [
    "## Find triplets with zero sum"
   ]
  },
  {
   "cell_type": "markdown",
   "metadata": {},
   "source": [
    "<div class=\"problems_problem_content__Xm_eO\"><p><span style=\"font-size:25px\">Given an array <strong>arr[]&nbsp;</strong>of&nbsp;<strong>n</strong> integers. Check whether it contains a triplet that sums up to zero.&nbsp;</span></p>\n",
    "\n",
    "<p><span style=\"font-size:25px\"><strong>Example 1:</strong></span></p>\n",
    "\n",
    "<pre><span style=\"font-size:25px\"><strong>Input</strong>: n = 5, arr[] = {0, -1, 2, -3, 1}\n",
    "<strong>Output</strong>: 1\n",
    "<strong>Explanation</strong>: 0, -1 and 1 forms a triplet\n",
    "with sum equal to 0.</span></pre>\n",
    "\n",
    "<p><span style=\"font-size:25px\"><strong>Example 2:</strong></span></p>\n",
    "\n",
    "<pre><span style=\"font-size:25px\"><strong>Input</strong>: n = 3, arr[] = {1, 2, 3}\n",
    "<strong>Output</strong>: 0\n",
    "<strong>Explanation</strong>: No triplet with zero sum exists. </span></pre>\n",
    "\n",
    "<p><br>\n",
    "<strong><span style=\"font-size:25px\">Your Task:</span></strong><br>\n",
    "<span style=\"font-size:25px\">You don't need to read input or print anything. Your task is to complete the boolean&nbsp;function&nbsp;<strong>findTriplets()</strong>&nbsp;which takes the array arr[] and the size of the array (n)&nbsp;as inputs and print 1 if the function returns true else print 0 if the function returns false.&nbsp;</span><br>\n",
    "<br>\n",
    "<span style=\"font-size:25px\"><strong>Expected Time Complexity:&nbsp;</strong>O(n<sup>2</sup>)</span><br>\n",
    "<span style=\"font-size:25px\"><strong>Expected Auxiliary Space:&nbsp;</strong>O(1)</span><br>\n",
    "<br>\n",
    "<span style=\"font-size:25px\"><strong>Constrains:</strong><br>\n",
    "1 &lt;= n&nbsp;&lt;= 10<sup>4</sup></span><br>\n",
    "<span style=\"font-size:25px\">-10<sup>6</sup></span><span style=\"font-size:25px\">&nbsp;&lt;= A<sub>i</sub> &lt;= 10<sup>6</sup></span></p>\n",
    "</div>"
   ]
  },
  {
   "cell_type": "markdown",
   "metadata": {},
   "source": [
    "$$ \\text{Naive Approach }\\text{O} (n^3)$$\n",
    "$$ \\text {Auxiliary Space } \\text{O} (1)$$"
   ]
  },
  {
   "cell_type": "code",
   "execution_count": 5,
   "metadata": {},
   "outputs": [],
   "source": [
    "class Solution1:\n",
    "    #Function to find triplets with zero sum.    \n",
    "    def findTriplets(self, arr, n):\n",
    "        #code here\n",
    "        s = []\n",
    "        for i in range(n):\n",
    "            for j in range(i+1,n):\n",
    "                s.append(-(arr[i] + arr[j]))\n",
    "                #if -(arr[i] + arr[j]) in a[j+1:]:\n",
    "                    #print(i,j)\n",
    "                    #return 1\n",
    "                    \n",
    "        for i in s:\n",
    "            if i in arr:\n",
    "                return 1\n",
    "        return 0"
   ]
  },
  {
   "cell_type": "code",
   "execution_count": 9,
   "metadata": {},
   "outputs": [
    {
     "name": "stdout",
     "output_type": "stream",
     "text": [
      "1\n"
     ]
    }
   ],
   "source": [
    "#Time limit exceeding\n",
    "sol1 = Solution1()\n",
    "arr = [0, -1, 2, -3, 1]\n",
    "n = len(arr)\n",
    "print(sol1.findTriplets(arr, n))"
   ]
  },
  {
   "cell_type": "markdown",
   "metadata": {},
   "source": [
    "$$ \\text {Sort the array } \\text {O} (n^2)  $$\n",
    "$$ \\text {Auxiliary Space } \\text{O} (1)$$"
   ]
  },
  {
   "cell_type": "code",
   "execution_count": 10,
   "metadata": {},
   "outputs": [],
   "source": [
    "class Solution2:\n",
    "    #Function to find triplets with zero sum.    \n",
    "    def findTriplets(self, arr, n):\n",
    "        arr.sort()\n",
    "        for i in range(0,n-2):\n",
    "            j = i + 1\n",
    "            k = n-1\n",
    "            while(j<k):\n",
    "                s = arr[i] + arr[j] + arr[k]\n",
    "                if s == 0:\n",
    "                    return 1\n",
    "                elif s < 0:\n",
    "                    j += 1\n",
    "                else: \n",
    "                    k -= 1\n",
    "            \n",
    "        return 0"
   ]
  },
  {
   "cell_type": "code",
   "execution_count": 11,
   "metadata": {},
   "outputs": [
    {
     "name": "stdout",
     "output_type": "stream",
     "text": [
      "1\n"
     ]
    }
   ],
   "source": [
    "sol2 = Solution2()\n",
    "arr = [0, -1, 2, -3, 1]\n",
    "n = len(arr)\n",
    "print(sol2.findTriplets(arr, n))"
   ]
  },
  {
   "cell_type": "markdown",
   "metadata": {},
   "source": [
    "$$ \\text {Hashing Approach } \\text{O} (n^2)$$\n",
    "$$ \\text {Auxiliary Space } \\text{O} (n)$$"
   ]
  },
  {
   "cell_type": "code",
   "execution_count": 1,
   "metadata": {},
   "outputs": [],
   "source": [
    "class Solution3:\n",
    "    #Function to find triplets with zero sum.    \n",
    "    def findTriplets(self, arr, n):\n",
    "        #code here\n",
    "        found = False\n",
    "        for i in range(n - 1):\n",
    "            # Find all pairs with sum \n",
    "            # equals to \"-arr[i]\" \n",
    "            s = set()\n",
    "            for j in range(i + 1, n):\n",
    "                x = -(arr[i] + arr[j])\n",
    "                if x in s:\n",
    "                    return 1\n",
    "                else:\n",
    "                    s.add(arr[j])\n",
    "        if found == False:\n",
    "            return 0"
   ]
  },
  {
   "cell_type": "code",
   "execution_count": 2,
   "metadata": {},
   "outputs": [
    {
     "name": "stdout",
     "output_type": "stream",
     "text": [
      "1\n"
     ]
    }
   ],
   "source": [
    "sol3 = Solution3()\n",
    "arr = [0, -1, 2, -3, 1]\n",
    "n = len(arr)\n",
    "print(sol3.findTriplets(arr, n))"
   ]
  },
  {
   "cell_type": "markdown",
   "metadata": {},
   "source": [
    "***"
   ]
  },
  {
   "cell_type": "markdown",
   "metadata": {},
   "source": [
    "## Implement stack using array"
   ]
  },
  {
   "cell_type": "markdown",
   "metadata": {},
   "source": [
    "<div class=\"problems_problem_content__Xm_eO\"><p><span style=\"font-size:25px\">Write a program to implement a Stack&nbsp;using Array. Your task is to use the class as shown in the comments in the code editor&nbsp;and complete&nbsp;the functions push() and pop() to implement a stack.&nbsp;</span></p>\n",
    "\n",
    "<p><span style=\"font-size:25px\"><strong>Example 1</strong>:</span></p>\n",
    "\n",
    "<pre><span style=\"font-size:25px\"><strong>Input</strong>: \n",
    "push(2)\n",
    "push(3)\n",
    "pop()\n",
    "push(4) \n",
    "pop()\n",
    "<strong>Output</strong>: 3, 4\n",
    "<strong>Explanation</strong>: \n",
    "push(2)    the stack will be {2}\n",
    "push(3)    the stack will be {2 3}\n",
    "pop()      poped element will be 3,\n",
    "&nbsp;          the stack will be {2}\n",
    "push(4)    the stack will be {2 4}\n",
    "pop()      poped element will be 4</span></pre>\n",
    "\n",
    "<p><span style=\"font-size:25px\"><strong>Example 2:</strong></span></p>\n",
    "\n",
    "<pre><span style=\"font-size:25px\"><strong>Input</strong>: \n",
    "pop()\n",
    "push(4)\n",
    "push(5)\n",
    "pop()\n",
    "<strong>Output</strong>: -1, 5</span>\n",
    "</pre>\n",
    "\n",
    "<p><span style=\"font-size:25px\"><strong>Your Task:</strong><br>\n",
    "You are required to complete two methods&nbsp;<strong>push() and pop(). </strong>The push() method&nbsp;takes one argument, an integer <strong>'x'</strong>&nbsp;to be pushed into the stack and&nbsp;<strong>pop()</strong>&nbsp;which returns an integer present at the top and popped out from the stack. If the stack is empty then return <strong>-1</strong> from the pop() method.</span></p>\n",
    "\n",
    "<p><span style=\"font-size:25px\"><strong>Expected Time Complexity</strong> : O(1) for both&nbsp;<strong>push()&nbsp;</strong>and&nbsp;<strong>pop()</strong>.</span><br>\n",
    "<span style=\"font-size:25px\"><strong>Expected Auixilliary Space </strong>: O(1) for both&nbsp;<strong>push()&nbsp;</strong>and&nbsp;<strong>pop()</strong>.</span></p>\n",
    "\n",
    "<p><span style=\"font-size:25px\"><strong>Constraints:</strong><br>\n",
    "1 &lt;= Q &lt;= 100<br>\n",
    "1 &lt;= x &lt;= 100</span></p>\n",
    "</div>"
   ]
  },
  {
   "cell_type": "code",
   "execution_count": 37,
   "metadata": {},
   "outputs": [],
   "source": [
    "class MyStack:\n",
    "    \n",
    "    def __init__(self):\n",
    "        self.arr=[]\n",
    "    \n",
    "    #Function to push an integer into the stack.\n",
    "    def push(self,data):\n",
    "        #add code here\n",
    "        self.arr.append(data)\n",
    "        \n",
    "    \n",
    "    #Function to remove an item from top of the stack.\n",
    "    def pop(self):\n",
    "        #add code here\n",
    "        if len(self.arr) ==0:\n",
    "            return -1\n",
    "        else:\n",
    "            return self.arr.pop()"
   ]
  },
  {
   "cell_type": "code",
   "execution_count": 38,
   "metadata": {},
   "outputs": [
    {
     "name": "stdout",
     "output_type": "stream",
     "text": [
      "3\n"
     ]
    }
   ],
   "source": [
    "sol = MyStack()\n",
    "sol.push(1)\n",
    "sol.push(2)\n",
    "sol.push(3)\n",
    "print(sol.pop())"
   ]
  },
  {
   "cell_type": "markdown",
   "metadata": {},
   "source": [
    "***"
   ]
  },
  {
   "cell_type": "markdown",
   "metadata": {},
   "source": [
    "## Prime or not"
   ]
  },
  {
   "cell_type": "markdown",
   "metadata": {},
   "source": [
    "<div class=\"problems_problem_content__Xm_eO\"><p><span style=\"font-size:25px\">For a given number <strong>N</strong> check if it is prime or not. A prime number is a number which is only<strong> divisible by 1 and itself</strong>.</span><br>\n",
    "&nbsp;</p>\n",
    "\n",
    "<p><span style=\"font-size:25px\"><strong>Example 1:</strong></span></p>\n",
    "\n",
    "<pre><span style=\"font-size:25px\"><strong>Input:</strong>\n",
    "N = 5\n",
    "<strong>Output:</strong>\n",
    "1\n",
    "<strong>Explanation:</strong>\n",
    "5 has 2 factors 1 and 5 only.</span></pre>\n",
    "\n",
    "<p><span style=\"font-size:25px\"><strong>Example 2:</strong></span></p>\n",
    "\n",
    "<pre><span style=\"font-size:25px\"><strong>Input:</strong>\n",
    "N = 25\n",
    "<strong>Output:</strong>\n",
    "0\n",
    "<strong>Explanation:</strong>\n",
    "25 has 3 factors 1, 5, 25\n",
    "</span></pre>\n",
    "\n",
    "<p><br>\n",
    "<span style=\"font-size:25px\"><strong>Your Task:</strong><br>\n",
    "You don't need to read input or print anything. Your task is to complete the function <strong>isPrime()</strong>&nbsp;which takes&nbsp;an integer <strong>N</strong>&nbsp;as input parameters&nbsp;and returns an integer, 1 if N is a prime number or 0 otherwise.</span><br>\n",
    "&nbsp;</p>\n",
    "\n",
    "<p><span style=\"font-size:25px\"><strong>Expected Time Complexity:</strong> O(sqrt(N))<br>\n",
    "<strong>Expected Space Complexity:</strong> O(1)</span><br>\n",
    "&nbsp;</p>\n",
    "\n",
    "<p><span style=\"font-size:25px\"><strong>Constraints:</strong><br>\n",
    "1 &lt;= N &lt;= 10<sup>9</sup></span></p>\n",
    "</div>"
   ]
  },
  {
   "cell_type": "code",
   "execution_count": 1,
   "metadata": {},
   "outputs": [],
   "source": [
    "class Solution:\n",
    "    def isPrime (self, N):\n",
    "        # code here\n",
    "        if N ==1:\n",
    "            return 0\n",
    "        if N ==2:\n",
    "            return 1\n",
    "        for i in range(2,int(N**0.5)+1):\n",
    "            if N%i ==0:\n",
    "                return 0\n",
    "        return 1"
   ]
  },
  {
   "cell_type": "code",
   "execution_count": 2,
   "metadata": {},
   "outputs": [
    {
     "name": "stdout",
     "output_type": "stream",
     "text": [
      "1\n"
     ]
    }
   ],
   "source": [
    "sol = Solution()\n",
    "print(sol.isPrime(5))"
   ]
  },
  {
   "cell_type": "markdown",
   "metadata": {},
   "source": [
    "***"
   ]
  },
  {
   "cell_type": "code",
   "execution_count": null,
   "metadata": {},
   "outputs": [],
   "source": []
  }
 ],
 "metadata": {
  "kernelspec": {
   "display_name": "Python 3.10.6 ('my_env')",
   "language": "python",
   "name": "python3"
  },
  "language_info": {
   "codemirror_mode": {
    "name": "ipython",
    "version": 3
   },
   "file_extension": ".py",
   "mimetype": "text/x-python",
   "name": "python",
   "nbconvert_exporter": "python",
   "pygments_lexer": "ipython3",
   "version": "3.10.6 (main, Aug 10 2022, 11:40:04) [GCC 11.3.0]"
  },
  "orig_nbformat": 4,
  "vscode": {
   "interpreter": {
    "hash": "333ad066d239af8659780667608f3e14a8c59d1eb92890b0405dfaef9e357b30"
   }
  }
 },
 "nbformat": 4,
 "nbformat_minor": 2
}
