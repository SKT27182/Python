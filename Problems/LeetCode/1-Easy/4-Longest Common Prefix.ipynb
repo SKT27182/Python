{
 "cells": [
  {
   "cell_type": "markdown",
   "metadata": {},
   "source": [
    "# 14. Longest Common Prefix"
   ]
  },
  {
   "cell_type": "markdown",
   "metadata": {},
   "source": [
    "<div><p>Write a function to find the longest common prefix string amongst an array of strings.</p>\n",
    "\n",
    "<p>If there is no common prefix, return an empty string <code>\"\"</code>.</p>\n",
    "\n",
    "<p>&nbsp;</p>\n",
    "<p><strong>Example 1:</strong></p>\n",
    "\n",
    "<pre><strong>Input:</strong> strs = [\"flower\",\"flow\",\"flight\"]\n",
    "<strong>Output:</strong> \"fl\"\n",
    "</pre>\n",
    "\n",
    "<p><strong>Example 2:</strong></p>\n",
    "\n",
    "<pre><strong>Input:</strong> strs = [\"dog\",\"racecar\",\"car\"]\n",
    "<strong>Output:</strong> \"\"\n",
    "<strong>Explanation:</strong> There is no common prefix among the input strings.\n",
    "</pre>\n",
    "\n",
    "<p>&nbsp;</p>\n",
    "<p><strong>Constraints:</strong></p>\n",
    "\n",
    "<ul>\n",
    "\t<li><code>1 &lt;= strs.length &lt;= 200</code></li>\n",
    "\t<li><code>0 &lt;= strs[i].length &lt;= 200</code></li>\n",
    "\t<li><code>strs[i]</code> consists of only lowercase English letters.</li>\n",
    "</ul>\n",
    "</div>"
   ]
  },
  {
   "cell_type": "code",
   "execution_count": 1,
   "metadata": {},
   "outputs": [],
   "source": [
    "class Solution:\n",
    "    def longestCommonPrefix(self, strs):\n",
    "        if not strs:\n",
    "            return \"\"\n",
    "        if len(strs) == 1:\n",
    "            return strs[0]\n",
    "        min_len = min([len(s) for s in strs])\n",
    "        for i in range(min_len):\n",
    "            if len(set([s[i] for s in strs])) > 1:\n",
    "                \n",
    "                return strs[0][:i]\n",
    "        return strs[0][:min_len]    # if all the characters are the same"
   ]
  },
  {
   "cell_type": "code",
   "execution_count": 2,
   "metadata": {},
   "outputs": [
    {
     "data": {
      "text/plain": [
       "'fl'"
      ]
     },
     "execution_count": 2,
     "metadata": {},
     "output_type": "execute_result"
    }
   ],
   "source": [
    "longest_common_prefix = Solution()\n",
    "list = [\"flower\",\"flow\",\"flight\"]\n",
    "n =longest_common_prefix.longestCommonPrefix(list)\n",
    "n\n"
   ]
  }
 ],
 "metadata": {
  "kernelspec": {
   "display_name": "Python 3.10.4 ('my_env')",
   "language": "python",
   "name": "python3"
  },
  "language_info": {
   "codemirror_mode": {
    "name": "ipython",
    "version": 3
   },
   "file_extension": ".py",
   "mimetype": "text/x-python",
   "name": "python",
   "nbconvert_exporter": "python",
   "pygments_lexer": "ipython3",
   "version": "3.10.4"
  },
  "orig_nbformat": 4,
  "vscode": {
   "interpreter": {
    "hash": "333ad066d239af8659780667608f3e14a8c59d1eb92890b0405dfaef9e357b30"
   }
  }
 },
 "nbformat": 4,
 "nbformat_minor": 2
}
